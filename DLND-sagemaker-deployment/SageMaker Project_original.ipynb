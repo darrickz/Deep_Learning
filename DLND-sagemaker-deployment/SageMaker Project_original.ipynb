{
 "cells": [
  {
   "cell_type": "markdown",
   "metadata": {},
   "source": [
    "# Creating a Sentiment Analysis Web App\n",
    "## Using PyTorch and SageMaker\n",
    "\n",
    "_Deep Learning Nanodegree Program | Deployment_\n",
    "\n",
    "---\n",
    "\n",
    "Now that we have a basic understanding of how SageMaker works we will try to use it to construct a complete project from end to end. Our goal will be to have a simple web page which a user can use to enter a movie review. The web page will then send the review off to our deployed model which will predict the sentiment of the entered review.\n",
    "\n",
    "## Instructions\n",
    "\n",
    "Some template code has already been provided for you, and you will need to implement additional functionality to successfully complete this notebook. You will not need to modify the included code beyond what is requested. Sections that begin with '**TODO**' in the header indicate that you need to complete or implement some portion within them. Instructions will be provided for each section and the specifics of the implementation are marked in the code block with a `# TODO: ...` comment. Please be sure to read the instructions carefully!\n",
    "\n",
    "In addition to implementing code, there will be questions for you to answer which relate to the task and your implementation. Each section where you will answer a question is preceded by a '**Question:**' header. Carefully read each question and provide your answer below the '**Answer:**' header by editing the Markdown cell.\n",
    "\n",
    "> **Note**: Code and Markdown cells can be executed using the **Shift+Enter** keyboard shortcut. In addition, a cell can be edited by typically clicking it (double-click for Markdown cells) or by pressing **Enter** while it is highlighted.\n",
    "\n",
    "## General Outline\n",
    "\n",
    "Recall the general outline for SageMaker projects using a notebook instance.\n",
    "\n",
    "1. Download or otherwise retrieve the data.\n",
    "2. Process / Prepare the data.\n",
    "3. Upload the processed data to S3.\n",
    "4. Train a chosen model.\n",
    "5. Test the trained model (typically using a batch transform job).\n",
    "6. Deploy the trained model.\n",
    "7. Use the deployed model.\n",
    "\n",
    "For this project, you will be following the steps in the general outline with some modifications. \n",
    "\n",
    "First, you will not be testing the model in its own step. You will still be testing the model, however, you will do it by deploying your model and then using the deployed model by sending the test data to it. One of the reasons for doing this is so that you can make sure that your deployed model is working correctly before moving forward.\n",
    "\n",
    "In addition, you will deploy and use your trained model a second time. In the second iteration you will customize the way that your trained model is deployed by including some of your own code. In addition, your newly deployed model will be used in the sentiment analysis web app."
   ]
  },
  {
   "cell_type": "markdown",
   "metadata": {},
   "source": [
    "## Step 1: Downloading the data\n",
    "\n",
    "As in the XGBoost in SageMaker notebook, we will be using the [IMDb dataset](http://ai.stanford.edu/~amaas/data/sentiment/)\n",
    "\n",
    "> Maas, Andrew L., et al. [Learning Word Vectors for Sentiment Analysis](http://ai.stanford.edu/~amaas/data/sentiment/). In _Proceedings of the 49th Annual Meeting of the Association for Computational Linguistics: Human Language Technologies_. Association for Computational Linguistics, 2011."
   ]
  },
  {
   "cell_type": "code",
   "execution_count": 1,
   "metadata": {
    "scrolled": true
   },
   "outputs": [
    {
     "name": "stdout",
     "output_type": "stream",
     "text": [
      "mkdir: cannot create directory ‘../data’: File exists\n",
      "--2019-02-20 04:50:05--  http://ai.stanford.edu/~amaas/data/sentiment/aclImdb_v1.tar.gz\n",
      "Resolving ai.stanford.edu (ai.stanford.edu)... 171.64.68.10\n",
      "Connecting to ai.stanford.edu (ai.stanford.edu)|171.64.68.10|:80... connected.\n",
      "HTTP request sent, awaiting response... 200 OK\n",
      "Length: 84125825 (80M) [application/x-gzip]\n",
      "Saving to: ‘../data/aclImdb_v1.tar.gz’\n",
      "\n",
      "../data/aclImdb_v1. 100%[===================>]  80.23M  16.8MB/s    in 7.8s    \n",
      "\n",
      "2019-02-20 04:50:13 (10.3 MB/s) - ‘../data/aclImdb_v1.tar.gz’ saved [84125825/84125825]\n",
      "\n"
     ]
    }
   ],
   "source": [
    "%mkdir ../data\n",
    "!wget -O ../data/aclImdb_v1.tar.gz http://ai.stanford.edu/~amaas/data/sentiment/aclImdb_v1.tar.gz\n",
    "!tar -zxf ../data/aclImdb_v1.tar.gz -C ../data"
   ]
  },
  {
   "cell_type": "markdown",
   "metadata": {},
   "source": [
    "## Step 2: Preparing and Processing the data\n",
    "\n",
    "Also, as in the XGBoost notebook, we will be doing some initial data processing. The first few steps are the same as in the XGBoost example. To begin with, we will read in each of the reviews and combine them into a single input structure. Then, we will split the dataset into a training set and a testing set."
   ]
  },
  {
   "cell_type": "code",
   "execution_count": 2,
   "metadata": {
    "scrolled": true
   },
   "outputs": [],
   "source": [
    "import os\n",
    "import glob\n",
    "\n",
    "def read_imdb_data(data_dir='../data/aclImdb'):\n",
    "    data = {}\n",
    "    labels = {}\n",
    "    \n",
    "    for data_type in ['train', 'test']:\n",
    "        data[data_type] = {}\n",
    "        labels[data_type] = {}\n",
    "        \n",
    "        for sentiment in ['pos', 'neg']:\n",
    "            data[data_type][sentiment] = []\n",
    "            labels[data_type][sentiment] = []\n",
    "            \n",
    "            path = os.path.join(data_dir, data_type, sentiment, '*.txt')\n",
    "            files = glob.glob(path)\n",
    "            \n",
    "            for f in files:\n",
    "                with open(f) as review:\n",
    "                    data[data_type][sentiment].append(review.read())\n",
    "                    # Here we represent a positive review by '1' and a negative review by '0'\n",
    "                    labels[data_type][sentiment].append(1 if sentiment == 'pos' else 0)\n",
    "                    \n",
    "            assert len(data[data_type][sentiment]) == len(labels[data_type][sentiment]), \\\n",
    "                    \"{}/{} data size does not match labels size\".format(data_type, sentiment)\n",
    "                \n",
    "    return data, labels"
   ]
  },
  {
   "cell_type": "code",
   "execution_count": 3,
   "metadata": {
    "scrolled": true
   },
   "outputs": [
    {
     "name": "stdout",
     "output_type": "stream",
     "text": [
      "IMDB reviews: train = 12500 pos / 12500 neg, test = 12500 pos / 12500 neg\n"
     ]
    }
   ],
   "source": [
    "data, labels = read_imdb_data()\n",
    "print(\"IMDB reviews: train = {} pos / {} neg, test = {} pos / {} neg\".format(\n",
    "            len(data['train']['pos']), len(data['train']['neg']),\n",
    "            len(data['test']['pos']), len(data['test']['neg'])))"
   ]
  },
  {
   "cell_type": "markdown",
   "metadata": {},
   "source": [
    "Now that we've read the raw training and testing data from the downloaded dataset, we will combine the positive and negative reviews and shuffle the resulting records."
   ]
  },
  {
   "cell_type": "code",
   "execution_count": 4,
   "metadata": {
    "scrolled": true
   },
   "outputs": [],
   "source": [
    "from sklearn.utils import shuffle\n",
    "\n",
    "def prepare_imdb_data(data, labels):\n",
    "    \"\"\"Prepare training and test sets from IMDb movie reviews.\"\"\"\n",
    "    \n",
    "    #Combine positive and negative reviews and labels\n",
    "    data_train = data['train']['pos'] + data['train']['neg']\n",
    "    data_test = data['test']['pos'] + data['test']['neg']\n",
    "    labels_train = labels['train']['pos'] + labels['train']['neg']\n",
    "    labels_test = labels['test']['pos'] + labels['test']['neg']\n",
    "    \n",
    "    #Shuffle reviews and corresponding labels within training and test sets\n",
    "    data_train, labels_train = shuffle(data_train, labels_train)\n",
    "    data_test, labels_test = shuffle(data_test, labels_test)\n",
    "    \n",
    "    # Return a unified training data, test data, training labels, test labets\n",
    "    return data_train, data_test, labels_train, labels_test"
   ]
  },
  {
   "cell_type": "code",
   "execution_count": 5,
   "metadata": {
    "scrolled": true
   },
   "outputs": [
    {
     "name": "stdout",
     "output_type": "stream",
     "text": [
      "IMDb reviews (combined): train = 25000, test = 25000\n"
     ]
    }
   ],
   "source": [
    "train_X, test_X, train_y, test_y = prepare_imdb_data(data, labels)\n",
    "print(\"IMDb reviews (combined): train = {}, test = {}\".format(len(train_X), len(test_X)))"
   ]
  },
  {
   "cell_type": "markdown",
   "metadata": {},
   "source": [
    "Now that we have our training and testing sets unified and prepared, we should do a quick check and see an example of the data our model will be trained on. This is generally a good idea as it allows you to see how each of the further processing steps affects the reviews and it also ensures that the data has been loaded correctly."
   ]
  },
  {
   "cell_type": "code",
   "execution_count": 6,
   "metadata": {
    "scrolled": true
   },
   "outputs": [
    {
     "name": "stdout",
     "output_type": "stream",
     "text": [
      "When the folks at Kino Video assembled their fine \"Slapstick Encyclopedia\" collection, a multi-cassette selection of silent comedies, someone decided to kick off the first installment with ONE TOO MANY (1916), an obscure one-reel farce made in Florida starring the very young Oliver Hardy. As enjoyable as the set is over all, this decision was an unfortunate one, for ONE TOO MANY is a very poor film which almost discourages the viewer from watching further. Like any typical farce, this one involves deception inspired by greed, panic when plans go awry, and complications escalating to the point of absurdity, but unlike the good ones, ONE TOO MANY is incoherent, unfunny, and downright annoying. It's hard to tell at this point whether the hopelessly confusing plot is the result of missing footage or inept film-making, but whatever the cause, by the halfway point even the most alert viewer has no idea what the character relationships are or what is happening, and by the end one no longer cares.<br /><br />The only point of interest here is seeing the 24 year-old \"Babe\" Hardy, who appears considerably heavier than he would a decade later when he teamed with Stan Laurel, but who is nonetheless full of youthful energy. In the opening scene, awakening with a hangover, Babe performs a highly athletic backward roll off a bed. Trust me, that's as funny as this movie gets. If you read this before seeing the first cassette of Kino's \"Slapstick Encyclopedia\" I suggest you fast-forward past this one and skip to the good stuff.\n",
      "0\n"
     ]
    }
   ],
   "source": [
    "print(train_X[10])\n",
    "print(train_y[10])"
   ]
  },
  {
   "cell_type": "markdown",
   "metadata": {},
   "source": [
    "The first step in processing the reviews is to make sure that any html tags that appear should be removed. In addition we wish to tokenize our input, that way words such as *entertained* and *entertaining* are considered the same with regard to sentiment analysis."
   ]
  },
  {
   "cell_type": "code",
   "execution_count": 7,
   "metadata": {
    "scrolled": true
   },
   "outputs": [],
   "source": [
    "import nltk\n",
    "from nltk.corpus import stopwords\n",
    "from nltk.stem.porter import *\n",
    "\n",
    "import re\n",
    "from bs4 import BeautifulSoup\n",
    "\n",
    "def review_to_words(review):\n",
    "    nltk.download(\"stopwords\", quiet=True)\n",
    "    stemmer = PorterStemmer()\n",
    "    \n",
    "    text = BeautifulSoup(review, \"html.parser\").get_text() # Remove HTML tags\n",
    "    text = re.sub(r\"[^a-zA-Z0-9]\", \" \", text.lower()) # Convert to lower case\n",
    "    words = text.split() # Split string into words\n",
    "    words = [w for w in words if w not in stopwords.words(\"english\")] # Remove stopwords\n",
    "    words = [PorterStemmer().stem(w) for w in words] # stem\n",
    "    \n",
    "    return words"
   ]
  },
  {
   "cell_type": "markdown",
   "metadata": {},
   "source": [
    "The `review_to_words` method defined above uses `BeautifulSoup` to remove any html tags that appear and uses the `nltk` package to tokenize the reviews. As a check to ensure we know how everything is working, try applying `review_to_words` to one of the reviews in the training set."
   ]
  },
  {
   "cell_type": "code",
   "execution_count": 8,
   "metadata": {
    "scrolled": true
   },
   "outputs": [
    {
     "name": "stdout",
     "output_type": "stream",
     "text": [
      "['two', 'movi', 'back', 'back', 'dealt', 'indian', 'pow', 'veer', 'zaara', 'deewaar', 'although', 'veer', 'zara', 'love', 'stori', 'guy', 'give', 'everyth', 'someon', 'deewaar', 'focus', 'main', 'subject', 'hidden', 'mani', 'indian', 'pow', 'rot', 'pakistani', 'jail', 'year', 'neither', 'indian', 'govt', 'time', 'sympathi', 'side', 'sure', 'pakistani', 'pow', 'india', 'well', 'let', 'focu', 'movi', 'full', 'actor', 'stage', 'actor', 'like', 'raghubir', 'yadav', 'rajendra', 'gupta', 'etc', 'amitabh', 'bachchan', 'play', 'role', 'major', 'act', 'well', 'akshay', 'khanna', 'part', 'well', 'noth', 'amrita', 'rao', 'giggl', 'coupl', 'song', 'think', 'sanjay', 'dutt', 'role', 'solid', 'even', 'though', 'long', 'act', 'realli', 'well', 'dialog', 'deliveri', 'also', 'impress', 'compar', 'loc', 'noth', 'day', 'long', 'movi', 'stori', 'go', 'direct', 'stori', 'deewaar', 'well', 'direct', 'movi', 'keep', 'good', 'pace', 'justic', 'actor', '7', '5', '10']\n"
     ]
    }
   ],
   "source": [
    "# TODO: Apply review_to_words to a review (train_X[100] or any other review)\n",
    "print(review_to_words(train_X[100]))"
   ]
  },
  {
   "cell_type": "markdown",
   "metadata": {},
   "source": [
    "**Question:** Above we mentioned that `review_to_words` method removes html formatting and allows us to tokenize the words found in a review, for example, converting *entertained* and *entertaining* into *entertain* so that they are treated as though they are the same word. What else, if anything, does this method do to the input?"
   ]
  },
  {
   "cell_type": "markdown",
   "metadata": {},
   "source": [
    "**Answer:**\n",
    "1. convert words into lower case\n",
    "2. removed the stop words like 'a', 'of', etc.\n",
    "3. plit sentence into word list"
   ]
  },
  {
   "cell_type": "markdown",
   "metadata": {},
   "source": [
    "The method below applies the `review_to_words` method to each of the reviews in the training and testing datasets. In addition it caches the results. This is because performing this processing step can take a long time. This way if you are unable to complete the notebook in the current session, you can come back without needing to process the data a second time."
   ]
  },
  {
   "cell_type": "code",
   "execution_count": 9,
   "metadata": {
    "scrolled": true
   },
   "outputs": [],
   "source": [
    "import pickle\n",
    "\n",
    "cache_dir = os.path.join(\"../cache\", \"sentiment_analysis\")  # where to store cache files\n",
    "os.makedirs(cache_dir, exist_ok=True)  # ensure cache directory exists\n",
    "\n",
    "def preprocess_data(data_train, data_test, labels_train, labels_test,\n",
    "                    cache_dir=cache_dir, cache_file=\"preprocessed_data.pkl\"):\n",
    "    \"\"\"Convert each review to words; read from cache if available.\"\"\"\n",
    "\n",
    "    # If cache_file is not None, try to read from it first\n",
    "    cache_data = None\n",
    "    if cache_file is not None:\n",
    "        try:\n",
    "            with open(os.path.join(cache_dir, cache_file), \"rb\") as f:\n",
    "                cache_data = pickle.load(f)\n",
    "            print(\"Read preprocessed data from cache file:\", cache_file)\n",
    "        except:\n",
    "            pass  # unable to read from cache, but that's okay\n",
    "    \n",
    "    # If cache is missing, then do the heavy lifting\n",
    "    if cache_data is None:\n",
    "        # Preprocess training and test data to obtain words for each review\n",
    "        #words_train = list(map(review_to_words, data_train))\n",
    "        #words_test = list(map(review_to_words, data_test))\n",
    "        words_train = [review_to_words(review) for review in data_train]\n",
    "        words_test = [review_to_words(review) for review in data_test]\n",
    "        \n",
    "        # Write to cache file for future runs\n",
    "        if cache_file is not None:\n",
    "            cache_data = dict(words_train=words_train, words_test=words_test,\n",
    "                              labels_train=labels_train, labels_test=labels_test)\n",
    "            with open(os.path.join(cache_dir, cache_file), \"wb\") as f:\n",
    "                pickle.dump(cache_data, f)\n",
    "            print(\"Wrote preprocessed data to cache file:\", cache_file)\n",
    "    else:\n",
    "        # Unpack data loaded from cache file\n",
    "        words_train, words_test, labels_train, labels_test = (cache_data['words_train'],\n",
    "                cache_data['words_test'], cache_data['labels_train'], cache_data['labels_test'])\n",
    "    \n",
    "    return words_train, words_test, labels_train, labels_test"
   ]
  },
  {
   "cell_type": "code",
   "execution_count": 10,
   "metadata": {
    "scrolled": true
   },
   "outputs": [
    {
     "name": "stdout",
     "output_type": "stream",
     "text": [
      "Read preprocessed data from cache file: preprocessed_data.pkl\n"
     ]
    }
   ],
   "source": [
    "# Preprocess data\n",
    "train_X, test_X, train_y, test_y = preprocess_data(train_X, test_X, train_y, test_y)"
   ]
  },
  {
   "cell_type": "code",
   "execution_count": 11,
   "metadata": {},
   "outputs": [
    {
     "name": "stdout",
     "output_type": "stream",
     "text": [
      "['warn', 'spoiler', 'ahead', 'spoiler', 'seen', 'movi', 'german', 'might', 'miss', 'clue', 'despit', 'weak', 'plot', 'movi', 'came', 'like', 'especi', 'lexa', 'doig', 'act', 'sometim', 'got', 'impress', 'camil', 'stop', 'wonder', 'happen', 'end', 'bob', 'cassi', 'babi', 'beliv', 'initi', 'set', 'bob', 'eventu', 'end', 'love', 'regret', 'happen', 'brother', 'forc', 'lie', 'otherwis', 'bit', 'strang', 'would', 'carri', 'babi', 'love', 'viewer', 'decid', 'like', 'end', 'dean', 'cain', 'good', 'ever', 'eric', 'robert', 'well', 'seen', 'better', 'also', 'wors', 'believ', 'film', 'analysi', 'human', 'relat', 'react', 'unexpect', 'situat', 'crime', 'stori', 'bottom', 'line', 'like', 'much']\n"
     ]
    }
   ],
   "source": [
    "print(train_X[100])"
   ]
  },
  {
   "cell_type": "markdown",
   "metadata": {},
   "source": [
    "## Transform the data\n",
    "\n",
    "In the XGBoost notebook we transformed the data from its word representation to a bag-of-words feature representation. For the model we are going to construct in this notebook we will construct a feature representation which is very similar. To start, we will represent each word as an integer. Of course, some of the words that appear in the reviews occur very infrequently and so likely don't contain much information for the purposes of sentiment analysis. The way we will deal with this problem is that we will fix the size of our working vocabulary and we will only include the words that appear most frequently. We will then combine all of the infrequent words into a single category and, in our case, we will label it as `1`.\n",
    "\n",
    "Since we will be using a recurrent neural network, it will be convenient if the length of each review is the same. To do this, we will fix a size for our reviews and then pad short reviews with the category 'no word' (which we will label `0`) and truncate long reviews."
   ]
  },
  {
   "cell_type": "markdown",
   "metadata": {},
   "source": [
    "### (TODO) Create a word dictionary\n",
    "\n",
    "To begin with, we need to construct a way to map words that appear in the reviews to integers. Here we fix the size of our vocabulary (including the 'no word' and 'infrequent' categories) to be `5000` but you may wish to change this to see how it affects the model.\n",
    "\n",
    "> **TODO:** Complete the implementation for the `build_dict()` method below. Note that even though the vocab_size is set to `5000`, we only want to construct a mapping for the most frequently appearing `4998` words. This is because we want to reserve the special labels `0` for 'no word' and `1` for 'infrequent word'."
   ]
  },
  {
   "cell_type": "code",
   "execution_count": 12,
   "metadata": {
    "scrolled": true
   },
   "outputs": [],
   "source": [
    "import numpy as np\n",
    "\n",
    "def build_dict(data, vocab_size = 5000):\n",
    "    \"\"\"Construct and return a dictionary mapping each of the most frequently appearing words to a unique integer.\"\"\"\n",
    "    \n",
    "    # TODO: Determine how often each word appears in `data`. Note that `data` is a list of sentences and that a\n",
    "    #       sentence is a list of words.\n",
    "    \n",
    "    word_count = {} # A dict storing the words that appear in the reviews along with how often they occur\n",
    "    for review in data:\n",
    "        for word in review:\n",
    "            if word not in word_count:\n",
    "                word_count[word]=0\n",
    "            word_count[word] += 1\n",
    "        \n",
    "    # TODO: Sort the words found in `data` so that sorted_words[0] is the most frequently appearing word and\n",
    "    #       sorted_words[-1] is the least frequently appearing word.\n",
    "\n",
    "    sorted_words = sorted(word_count,key=word_count.get,  reverse=True)\n",
    "    \n",
    "    word_dict = {} # This is what we are building, a dictionary that translates words into integers\n",
    "    for idx, word in enumerate(sorted_words[:vocab_size - 2]): # The -2 is so that we save room for the 'no word'\n",
    "        word_dict[word] = idx + 2                              # 'infrequent' labels\n",
    "        \n",
    "    return  word_dict#sorted_words"
   ]
  },
  {
   "cell_type": "code",
   "execution_count": 13,
   "metadata": {
    "scrolled": true
   },
   "outputs": [
    {
     "name": "stdout",
     "output_type": "stream",
     "text": [
      "{'movi': 2, 'film': 3, 'one': 4, 'like': 5, 'time': 6, 'good': 7, 'make': 8, 'charact': 9, 'get': 10, 'see': 11, 'watch': 12, 'stori': 13, 'even': 14, 'would': 15, 'realli': 16, 'well': 17, 'scene': 18, 'look': 19, 'show': 20, 'much': 21, 'end': 22, 'peopl': 23, 'bad': 24, 'go': 25, 'great': 26, 'also': 27, 'first': 28, 'love': 29, 'think': 30, 'way': 31, 'act': 32, 'play': 33, 'made': 34, 'thing': 35, 'could': 36, 'know': 37, 'say': 38, 'seem': 39, 'work': 40, 'plot': 41, 'two': 42, 'actor': 43, 'year': 44, 'come': 45, 'mani': 46, 'seen': 47, 'take': 48, 'life': 49, 'want': 50, 'never': 51, 'littl': 52, 'best': 53, 'tri': 54, 'man': 55, 'ever': 56, 'give': 57, 'better': 58, 'still': 59, 'perform': 60, 'find': 61, 'feel': 62, 'part': 63, 'back': 64, 'use': 65, 'someth': 66, 'director': 67, 'actual': 68, 'interest': 69, 'lot': 70, 'real': 71, 'old': 72, 'cast': 73, 'though': 74, 'live': 75, 'star': 76, 'enjoy': 77, 'guy': 78, 'anoth': 79, 'new': 80, 'role': 81, 'noth': 82, '10': 83, 'funni': 84, 'music': 85, 'point': 86, 'start': 87, 'set': 88, 'girl': 89, 'origin': 90, 'day': 91, 'world': 92, 'everi': 93, 'believ': 94, 'turn': 95, 'quit': 96, 'direct': 97, 'us': 98, 'thought': 99, 'fact': 100, 'minut': 101, 'horror': 102, 'kill': 103, 'action': 104, 'comedi': 105, 'pretti': 106, 'young': 107, 'wonder': 108, 'happen': 109, 'around': 110, 'got': 111, 'effect': 112, 'right': 113, 'long': 114, 'howev': 115, 'big': 116, 'line': 117, 'famili': 118, 'enough': 119, 'seri': 120, 'may': 121, 'need': 122, 'fan': 123, 'bit': 124, 'script': 125, 'beauti': 126, 'person': 127, 'becom': 128, 'without': 129, 'must': 130, 'alway': 131, 'friend': 132, 'tell': 133, 'reason': 134, 'saw': 135, 'last': 136, 'final': 137, 'kid': 138, 'almost': 139, 'put': 140, 'least': 141, 'sure': 142, 'done': 143, 'whole': 144, 'place': 145, 'complet': 146, 'kind': 147, 'differ': 148, 'expect': 149, 'shot': 150, 'far': 151, 'mean': 152, 'anyth': 153, 'book': 154, 'laugh': 155, 'might': 156, 'name': 157, 'sinc': 158, 'begin': 159, '2': 160, 'probabl': 161, 'woman': 162, 'help': 163, 'entertain': 164, 'let': 165, 'screen': 166, 'call': 167, 'tv': 168, 'moment': 169, 'away': 170, 'read': 171, 'yet': 172, 'rather': 173, 'worst': 174, 'run': 175, 'fun': 176, 'lead': 177, 'hard': 178, 'audienc': 179, 'idea': 180, 'anyon': 181, 'episod': 182, 'american': 183, 'found': 184, 'appear': 185, 'bore': 186, 'especi': 187, 'although': 188, 'hope': 189, 'cours': 190, 'keep': 191, 'anim': 192, 'job': 193, 'goe': 194, 'move': 195, 'sens': 196, 'dvd': 197, 'version': 198, 'war': 199, 'money': 200, 'someon': 201, 'mind': 202, 'mayb': 203, 'problem': 204, 'true': 205, 'hous': 206, 'everyth': 207, 'nice': 208, 'second': 209, 'rate': 210, 'three': 211, 'night': 212, 'follow': 213, 'face': 214, 'recommend': 215, 'main': 216, 'product': 217, 'worth': 218, 'leav': 219, 'human': 220, 'special': 221, 'excel': 222, 'togeth': 223, 'wast': 224, 'everyon': 225, 'sound': 226, 'john': 227, 'hand': 228, '1': 229, 'father': 230, 'later': 231, 'eye': 232, 'said': 233, 'view': 234, 'instead': 235, 'review': 236, 'boy': 237, 'high': 238, 'hour': 239, 'miss': 240, 'talk': 241, 'classic': 242, 'wife': 243, 'understand': 244, 'left': 245, 'care': 246, 'black': 247, 'death': 248, 'open': 249, 'murder': 250, 'write': 251, 'half': 252, 'head': 253, 'rememb': 254, 'chang': 255, 'viewer': 256, 'fight': 257, 'gener': 258, 'surpris': 259, 'includ': 260, 'short': 261, 'die': 262, 'fall': 263, 'less': 264, 'els': 265, 'entir': 266, 'piec': 267, 'involv': 268, 'pictur': 269, 'simpli': 270, 'home': 271, 'top': 272, 'power': 273, 'total': 274, 'usual': 275, 'budget': 276, 'attempt': 277, 'suppos': 278, 'releas': 279, 'hollywood': 280, 'terribl': 281, 'song': 282, 'men': 283, 'possibl': 284, 'featur': 285, 'portray': 286, 'disappoint': 287, 'poor': 288, '3': 289, 'coupl': 290, 'camera': 291, 'stupid': 292, 'dead': 293, 'wrong': 294, 'produc': 295, 'low': 296, 'video': 297, 'either': 298, 'aw': 299, 'definit': 300, 'except': 301, 'rest': 302, 'given': 303, 'absolut': 304, 'women': 305, 'lack': 306, 'word': 307, 'writer': 308, 'titl': 309, 'talent': 310, 'decid': 311, 'full': 312, 'perfect': 313, 'along': 314, 'style': 315, 'close': 316, 'truli': 317, 'school': 318, 'save': 319, 'emot': 320, 'sex': 321, 'age': 322, 'next': 323, 'bring': 324, 'mr': 325, 'case': 326, 'killer': 327, 'heart': 328, 'comment': 329, 'sort': 330, 'creat': 331, 'perhap': 332, 'came': 333, 'brother': 334, 'sever': 335, 'joke': 336, 'art': 337, 'dialogu': 338, 'game': 339, 'small': 340, 'base': 341, 'flick': 342, 'written': 343, 'sequenc': 344, 'meet': 345, 'earli': 346, 'often': 347, 'other': 348, 'mother': 349, 'develop': 350, 'humor': 351, 'actress': 352, 'consid': 353, 'dark': 354, 'guess': 355, 'amaz': 356, 'unfortun': 357, 'light': 358, 'lost': 359, 'exampl': 360, 'cinema': 361, 'drama': 362, 'white': 363, 'ye': 364, 'experi': 365, 'imagin': 366, 'mention': 367, 'stop': 368, 'natur': 369, 'forc': 370, 'manag': 371, 'felt': 372, 'cut': 373, 'present': 374, 'children': 375, 'fail': 376, 'son': 377, 'support': 378, 'qualiti': 379, 'car': 380, 'ask': 381, 'hit': 382, 'side': 383, 'voic': 384, 'extrem': 385, 'impress': 386, 'wors': 387, 'evil': 388, 'went': 389, 'stand': 390, 'certainli': 391, 'basic': 392, 'oh': 393, 'overal': 394, 'favorit': 395, 'horribl': 396, 'mysteri': 397, 'number': 398, 'type': 399, 'danc': 400, 'wait': 401, 'hero': 402, '5': 403, 'alreadi': 404, 'learn': 405, 'matter': 406, '4': 407, 'michael': 408, 'genr': 409, 'fine': 410, 'despit': 411, 'throughout': 412, 'walk': 413, 'success': 414, 'histori': 415, 'question': 416, 'zombi': 417, 'town': 418, 'relationship': 419, 'realiz': 420, 'past': 421, 'child': 422, 'daughter': 423, 'late': 424, 'b': 425, 'wish': 426, 'credit': 427, 'hate': 428, 'event': 429, 'theme': 430, 'touch': 431, 'citi': 432, 'today': 433, 'sometim': 434, 'behind': 435, 'god': 436, 'twist': 437, 'sit': 438, 'stay': 439, 'deal': 440, 'annoy': 441, 'abl': 442, 'rent': 443, 'pleas': 444, 'edit': 445, 'blood': 446, 'deserv': 447, 'comic': 448, 'anyway': 449, 'appar': 450, 'soon': 451, 'gave': 452, 'etc': 453, 'level': 454, 'slow': 455, 'chanc': 456, 'score': 457, 'bodi': 458, 'brilliant': 459, 'incred': 460, 'figur': 461, 'situat': 462, 'self': 463, 'major': 464, 'stuff': 465, 'decent': 466, 'element': 467, 'return': 468, 'dream': 469, 'obvious': 470, 'order': 471, 'continu': 472, 'pace': 473, 'ridicul': 474, 'happi': 475, 'add': 476, 'group': 477, 'highli': 478, 'thank': 479, 'ladi': 480, 'novel': 481, 'pain': 482, 'speak': 483, 'career': 484, 'shoot': 485, 'strang': 486, 'heard': 487, 'sad': 488, 'husband': 489, 'polic': 490, 'import': 491, 'break': 492, 'took': 493, 'strong': 494, 'cannot': 495, 'predict': 496, 'robert': 497, 'violenc': 498, 'hilari': 499, 'recent': 500, 'countri': 501, 'known': 502, 'particularli': 503, 'pick': 504, 'documentari': 505, 'season': 506, 'critic': 507, 'jame': 508, 'compar': 509, 'obviou': 510, 'alon': 511, 'told': 512, 'state': 513, 'visual': 514, 'rock': 515, 'exist': 516, 'offer': 517, 'theater': 518, 'opinion': 519, 'gore': 520, 'hold': 521, 'crap': 522, 'result': 523, 'hear': 524, 'realiti': 525, 'room': 526, 'effort': 527, 'clich': 528, 'thriller': 529, 'caus': 530, 'explain': 531, 'sequel': 532, 'serious': 533, 'king': 534, 'local': 535, 'ago': 536, 'hell': 537, 'none': 538, 'note': 539, 'allow': 540, 'sister': 541, 'david': 542, 'simpl': 543, 'femal': 544, 'deliv': 545, 'ok': 546, 'class': 547, 'convinc': 548, 'check': 549, 'suspens': 550, 'win': 551, 'oscar': 552, 'buy': 553, 'huge': 554, 'valu': 555, 'sexual': 556, 'cool': 557, 'scari': 558, 'similar': 559, 'excit': 560, 'provid': 561, 'exactli': 562, 'apart': 563, 'avoid': 564, 'shown': 565, 'seriou': 566, 'english': 567, 'taken': 568, 'whose': 569, 'cinematographi': 570, 'shock': 571, 'polit': 572, 'spoiler': 573, 'offic': 574, 'across': 575, 'middl': 576, 'pass': 577, 'street': 578, 'messag': 579, 'somewhat': 580, 'silli': 581, 'charm': 582, 'modern': 583, 'filmmak': 584, 'confus': 585, 'form': 586, 'tale': 587, 'singl': 588, 'jack': 589, 'mostli': 590, 'william': 591, 'carri': 592, 'attent': 593, 'sing': 594, 'subject': 595, 'five': 596, 'prove': 597, 'richard': 598, 'team': 599, 'stage': 600, 'unlik': 601, 'cop': 602, 'georg': 603, 'televis': 604, 'monster': 605, 'earth': 606, 'villain': 607, 'cover': 608, 'pay': 609, 'marri': 610, 'toward': 611, 'build': 612, 'parent': 613, 'pull': 614, 'due': 615, 'fill': 616, 'respect': 617, 'four': 618, 'dialog': 619, 'remind': 620, 'futur': 621, 'typic': 622, 'weak': 623, '7': 624, 'cheap': 625, 'intellig': 626, 'atmospher': 627, 'british': 628, '80': 629, 'clearli': 630, 'dog': 631, 'non': 632, 'paul': 633, 'fast': 634, 'artist': 635, '8': 636, 'knew': 637, 'crime': 638, 'easili': 639, 'escap': 640, 'doubt': 641, 'adult': 642, 'detail': 643, 'date': 644, 'fire': 645, 'member': 646, 'romant': 647, 'gun': 648, 'drive': 649, 'straight': 650, 'beyond': 651, 'fit': 652, 'attack': 653, 'imag': 654, 'upon': 655, 'posit': 656, 'whether': 657, 'peter': 658, 'fantast': 659, 'aspect': 660, 'appreci': 661, 'captur': 662, 'ten': 663, 'plan': 664, 'discov': 665, 'remain': 666, 'near': 667, 'period': 668, 'realist': 669, 'air': 670, 'mark': 671, 'red': 672, 'dull': 673, 'adapt': 674, 'within': 675, 'spend': 676, 'lose': 677, 'color': 678, 'materi': 679, 'chase': 680, 'mari': 681, 'storylin': 682, 'forget': 683, 'bunch': 684, 'clear': 685, 'lee': 686, 'victim': 687, 'nearli': 688, 'box': 689, 'york': 690, 'inspir': 691, 'match': 692, 'mess': 693, 'finish': 694, 'standard': 695, 'easi': 696, 'truth': 697, 'busi': 698, 'suffer': 699, 'space': 700, 'bill': 701, 'dramat': 702, 'western': 703, 'e': 704, 'list': 705, 'battl': 706, 'notic': 707, 'de': 708, 'french': 709, 'ad': 710, '9': 711, 'tom': 712, 'larg': 713, 'among': 714, 'eventu': 715, 'accept': 716, 'train': 717, 'agre': 718, 'spirit': 719, 'soundtrack': 720, 'third': 721, 'teenag': 722, 'adventur': 723, 'soldier': 724, 'drug': 725, 'suggest': 726, 'famou': 727, 'sorri': 728, 'babi': 729, 'cri': 730, 'normal': 731, 'ultim': 732, 'troubl': 733, 'contain': 734, 'certain': 735, 'cultur': 736, 'romanc': 737, 'rare': 738, 'lame': 739, 'somehow': 740, 'mix': 741, 'disney': 742, 'gone': 743, 'cartoon': 744, 'student': 745, 'fear': 746, 'reveal': 747, 'kept': 748, 'suck': 749, 'attract': 750, 'appeal': 751, 'premis': 752, 'design': 753, 'secret': 754, 'greatest': 755, 'shame': 756, 'throw': 757, 'scare': 758, 'copi': 759, 'wit': 760, 'america': 761, 'admit': 762, 'particular': 763, 'relat': 764, 'brought': 765, 'screenplay': 766, 'whatev': 767, 'pure': 768, '70': 769, 'averag': 770, 'harri': 771, 'master': 772, 'describ': 773, 'male': 774, 'treat': 775, '20': 776, 'fantasi': 777, 'issu': 778, 'warn': 779, 'inde': 780, 'forward': 781, 'background': 782, 'free': 783, 'project': 784, 'memor': 785, 'japanes': 786, 'poorli': 787, 'award': 788, 'locat': 789, 'potenti': 790, 'amus': 791, 'struggl': 792, 'magic': 793, 'weird': 794, 'societi': 795, 'okay': 796, 'doctor': 797, 'accent': 798, 'imdb': 799, 'water': 800, 'hot': 801, '30': 802, 'dr': 803, 'express': 804, 'alien': 805, 'odd': 806, 'choic': 807, 'crazi': 808, 'fiction': 809, 'studio': 810, 'becam': 811, 'control': 812, 'masterpiec': 813, 'fli': 814, 'difficult': 815, 'joe': 816, 'scream': 817, 'costum': 818, 'lover': 819, 'uniqu': 820, 'refer': 821, 'remak': 822, 'girlfriend': 823, 'vampir': 824, 'prison': 825, 'execut': 826, 'wear': 827, 'jump': 828, 'wood': 829, 'unless': 830, 'creepi': 831, 'cheesi': 832, 'superb': 833, 'otherwis': 834, 'parti': 835, 'ghost': 836, 'roll': 837, 'public': 838, 'mad': 839, 'depict': 840, 'week': 841, 'jane': 842, 'earlier': 843, 'moral': 844, 'badli': 845, 'fi': 846, 'dumb': 847, 'grow': 848, 'flaw': 849, 'deep': 850, 'sci': 851, 'cat': 852, 'maker': 853, 'older': 854, 'footag': 855, 'connect': 856, 'plenti': 857, 'bother': 858, 'outsid': 859, 'stick': 860, 'gay': 861, 'catch': 862, 'co': 863, 'plu': 864, 'popular': 865, 'equal': 866, 'social': 867, 'disturb': 868, 'quickli': 869, 'perfectli': 870, 'dress': 871, 'era': 872, '90': 873, 'mistak': 874, 'lie': 875, 'ride': 876, 'previou': 877, 'combin': 878, 'band': 879, 'concept': 880, 'rich': 881, 'surviv': 882, 'answer': 883, 'front': 884, 'sweet': 885, 'christma': 886, 'insid': 887, 'eat': 888, 'bare': 889, 'concern': 890, 'beat': 891, 'listen': 892, 'ben': 893, 'c': 894, 'serv': 895, 'term': 896, 'la': 897, 'meant': 898, 'german': 899, 'hardli': 900, 'stereotyp': 901, 'innoc': 902, 'law': 903, 'desper': 904, 'memori': 905, 'promis': 906, 'intent': 907, 'cute': 908, 'variou': 909, 'steal': 910, 'inform': 911, 'brain': 912, 'post': 913, 'tone': 914, 'island': 915, 'amount': 916, 'compani': 917, 'nuditi': 918, 'track': 919, 'claim': 920, 'store': 921, 'flat': 922, 'hair': 923, '50': 924, 'univers': 925, 'land': 926, 'fairli': 927, 'kick': 928, 'danger': 929, 'scott': 930, 'player': 931, 'crew': 932, 'plain': 933, 'step': 934, 'toni': 935, 'share': 936, 'centuri': 937, 'tast': 938, 'engag': 939, 'achiev': 940, 'cold': 941, 'travel': 942, 'record': 943, 'suit': 944, 'rip': 945, 'manner': 946, 'sadli': 947, 'spot': 948, 'tension': 949, 'wrote': 950, 'fascin': 951, 'intens': 952, 'familiar': 953, 'burn': 954, 'remark': 955, 'depth': 956, 'destroy': 957, 'histor': 958, 'sleep': 959, 'purpos': 960, 'languag': 961, 'ruin': 962, 'ignor': 963, 'delight': 964, 'unbeliev': 965, 'italian': 966, 'collect': 967, 'abil': 968, 'soul': 969, 'detect': 970, 'clever': 971, 'violent': 972, 'rape': 973, 'reach': 974, 'door': 975, 'liter': 976, 'trash': 977, 'scienc': 978, 'commun': 979, 'caught': 980, 'reveng': 981, 'creatur': 982, 'trip': 983, 'approach': 984, 'fashion': 985, 'intrigu': 986, 'introduc': 987, 'skill': 988, 'paint': 989, 'complex': 990, 'channel': 991, 'camp': 992, 'christian': 993, 'hole': 994, 'extra': 995, 'limit': 996, 'ann': 997, 'immedi': 998, 'mental': 999, 'comput': 1000, 'slightli': 1001, 'million': 1002, '6': 1003, 'mere': 1004, 'conclus': 1005, 'slasher': 1006, 'suddenli': 1007, 'imposs': 1008, 'teen': 1009, 'crimin': 1010, 'neither': 1011, 'spent': 1012, 'nation': 1013, 'physic': 1014, 'respons': 1015, 'planet': 1016, 'receiv': 1017, 'fake': 1018, 'sick': 1019, 'blue': 1020, 'bizarr': 1021, 'embarrass': 1022, 'indian': 1023, 'ring': 1024, '15': 1025, 'drop': 1026, 'pop': 1027, 'drag': 1028, 'haunt': 1029, 'pointless': 1030, 'suspect': 1031, 'search': 1032, 'edg': 1033, 'handl': 1034, 'biggest': 1035, 'common': 1036, 'hurt': 1037, 'faith': 1038, 'arriv': 1039, 'technic': 1040, 'angel': 1041, 'dad': 1042, 'genuin': 1043, 'solid': 1044, 'f': 1045, 'awesom': 1046, 'van': 1047, 'focu': 1048, 'colleg': 1049, 'former': 1050, 'count': 1051, 'heavi': 1052, 'tear': 1053, 'rais': 1054, 'wall': 1055, 'laughabl': 1056, 'younger': 1057, 'visit': 1058, 'fair': 1059, 'sign': 1060, 'excus': 1061, 'cult': 1062, 'motion': 1063, 'key': 1064, 'tough': 1065, 'desir': 1066, 'super': 1067, 'stun': 1068, 'addit': 1069, 'exploit': 1070, 'cloth': 1071, 'smith': 1072, 'tortur': 1073, 'race': 1074, 'davi': 1075, 'author': 1076, 'cross': 1077, 'jim': 1078, 'consist': 1079, 'compel': 1080, 'focus': 1081, 'minor': 1082, 'pathet': 1083, 'chemistri': 1084, 'commit': 1085, 'park': 1086, 'tradit': 1087, 'frank': 1088, 'obsess': 1089, 'grade': 1090, 'asid': 1091, '60': 1092, 'brutal': 1093, 'steve': 1094, 'somewher': 1095, 'opportun': 1096, 'u': 1097, 'grant': 1098, 'depress': 1099, 'explor': 1100, 'rule': 1101, 'honest': 1102, 'besid': 1103, 'dub': 1104, 'anti': 1105, 'trailer': 1106, 'intend': 1107, 'bar': 1108, 'west': 1109, 'scientist': 1110, 'longer': 1111, 'regard': 1112, 'decad': 1113, 'judg': 1114, 'silent': 1115, 'creativ': 1116, 'armi': 1117, 'wild': 1118, 'g': 1119, 'south': 1120, 'stewart': 1121, 'draw': 1122, 'road': 1123, 'govern': 1124, 'boss': 1125, 'ex': 1126, 'practic': 1127, 'festiv': 1128, 'club': 1129, 'gang': 1130, 'surprisingli': 1131, 'motiv': 1132, 'redeem': 1133, 'london': 1134, 'page': 1135, 'green': 1136, 'display': 1137, 'aliv': 1138, 'militari': 1139, 'machin': 1140, 'idiot': 1141, 'thrill': 1142, 'repeat': 1143, '100': 1144, 'folk': 1145, 'nobodi': 1146, 'yeah': 1147, '40': 1148, 'garbag': 1149, 'journey': 1150, 'smile': 1151, 'ground': 1152, 'tire': 1153, 'bought': 1154, 'mood': 1155, 'cost': 1156, 'sam': 1157, 'stone': 1158, 'mouth': 1159, 'noir': 1160, 'agent': 1161, 'terrif': 1162, 'utterli': 1163, 'requir': 1164, 'honestli': 1165, 'area': 1166, 'sexi': 1167, 'report': 1168, 'geniu': 1169, 'glad': 1170, 'humour': 1171, 'enter': 1172, 'investig': 1173, 'serial': 1174, 'passion': 1175, 'narr': 1176, 'occasion': 1177, 'climax': 1178, 'marriag': 1179, 'studi': 1180, 'industri': 1181, 'ship': 1182, 'center': 1183, 'nowher': 1184, 'demon': 1185, 'charli': 1186, 'loos': 1187, 'bear': 1188, 'hors': 1189, 'wow': 1190, 'hang': 1191, 'graphic': 1192, 'giant': 1193, 'admir': 1194, 'send': 1195, 'loud': 1196, 'damn': 1197, 'nake': 1198, 'profession': 1199, 'subtl': 1200, 'rel': 1201, 'blow': 1202, 'bottom': 1203, 'insult': 1204, 'batman': 1205, 'doubl': 1206, 'boyfriend': 1207, 'r': 1208, 'kelli': 1209, 'initi': 1210, 'frame': 1211, 'opera': 1212, 'gem': 1213, 'cinemat': 1214, 'affect': 1215, 'challeng': 1216, 'church': 1217, 'drawn': 1218, 'fulli': 1219, 'seek': 1220, 'l': 1221, 'nightmar': 1222, 'evid': 1223, 'j': 1224, 'conflict': 1225, 'essenti': 1226, 'arm': 1227, 'grace': 1228, 'henri': 1229, 'wind': 1230, 'christoph': 1231, 'witch': 1232, 'narrat': 1233, 'assum': 1234, 'push': 1235, 'hunt': 1236, 'chri': 1237, 'wise': 1238, 'repres': 1239, 'month': 1240, 'nomin': 1241, 'hide': 1242, 'avail': 1243, 'affair': 1244, 'sceneri': 1245, 'bond': 1246, 'justic': 1247, 'thu': 1248, 'smart': 1249, 'interview': 1250, 'flashback': 1251, 'outstand': 1252, 'constantli': 1253, 'presenc': 1254, 'satisfi': 1255, 'bed': 1256, 'central': 1257, 'sell': 1258, 'content': 1259, 'iron': 1260, 'gag': 1261, 'everybodi': 1262, 'hotel': 1263, 'slowli': 1264, 'hire': 1265, 'system': 1266, 'hey': 1267, 'adam': 1268, 'thrown': 1269, 'charl': 1270, 'individu': 1271, 'mediocr': 1272, 'jone': 1273, 'allen': 1274, 'billi': 1275, 'ray': 1276, 'lesson': 1277, 'cameo': 1278, 'photographi': 1279, 'pari': 1280, 'fellow': 1281, 'strike': 1282, 'independ': 1283, 'absurd': 1284, 'rise': 1285, 'brief': 1286, 'neg': 1287, 'phone': 1288, 'impact': 1289, 'model': 1290, 'ill': 1291, 'born': 1292, 'fresh': 1293, 'spoil': 1294, 'angl': 1295, 'likabl': 1296, 'abus': 1297, 'discuss': 1298, 'hill': 1299, 'ahead': 1300, 'sight': 1301, 'sent': 1302, 'photograph': 1303, 'shine': 1304, 'occur': 1305, 'blame': 1306, 'logic': 1307, 'mainli': 1308, 'bruce': 1309, 'forev': 1310, 'skip': 1311, 'commerci': 1312, 'surround': 1313, 'teacher': 1314, 'segment': 1315, 'held': 1316, 'blond': 1317, 'zero': 1318, 'satir': 1319, 'trap': 1320, 'resembl': 1321, 'summer': 1322, 'six': 1323, 'ball': 1324, 'fool': 1325, 'queen': 1326, 'twice': 1327, 'sub': 1328, 'tragedi': 1329, 'reaction': 1330, 'pack': 1331, 'bomb': 1332, 'hospit': 1333, 'protagonist': 1334, 'will': 1335, 'mile': 1336, 'sport': 1337, 'vote': 1338, 'trust': 1339, 'drink': 1340, 'jerri': 1341, 'mom': 1342, 'encount': 1343, 'plane': 1344, 'al': 1345, 'current': 1346, 'station': 1347, 'program': 1348, 'martin': 1349, 'choos': 1350, 'celebr': 1351, 'join': 1352, 'field': 1353, 'favourit': 1354, 'lord': 1355, 'round': 1356, 'tragic': 1357, 'jean': 1358, 'vision': 1359, 'robot': 1360, 'arthur': 1361, 'tie': 1362, 'roger': 1363, 'fortun': 1364, 'random': 1365, 'dread': 1366, 'intern': 1367, 'psycholog': 1368, 'nonsens': 1369, 'epic': 1370, 'improv': 1371, 'prefer': 1372, 'legend': 1373, 'formula': 1374, 'pleasur': 1375, 'highlight': 1376, 'dollar': 1377, '11': 1378, 'tape': 1379, 'thin': 1380, 'gorgeou': 1381, 'wide': 1382, 'porn': 1383, 'fox': 1384, 'object': 1385, 'ugli': 1386, 'buddi': 1387, 'influenc': 1388, 'prepar': 1389, 'ii': 1390, 'nasti': 1391, 'reflect': 1392, 'warm': 1393, 'progress': 1394, 'supposedli': 1395, 'worthi': 1396, 'youth': 1397, 'unusu': 1398, 'length': 1399, 'latter': 1400, 'crash': 1401, 'seven': 1402, 'shop': 1403, 'superior': 1404, 'childhood': 1405, 'remot': 1406, 'theatr': 1407, 'pilot': 1408, 'funniest': 1409, 'paid': 1410, 'disgust': 1411, 'fell': 1412, 'trick': 1413, 'castl': 1414, 'convers': 1415, 'establish': 1416, 'disast': 1417, 'rob': 1418, 'gangster': 1419, 'mine': 1420, 'disappear': 1421, 'ident': 1422, 'heaven': 1423, 'suicid': 1424, 'tend': 1425, 'heroin': 1426, 'singer': 1427, 'decis': 1428, 'mask': 1429, 'forgotten': 1430, 'partner': 1431, 'brian': 1432, 'recogn': 1433, 'desert': 1434, 'alan': 1435, 'thoroughli': 1436, 'p': 1437, 'sky': 1438, 'stuck': 1439, 'ms': 1440, 'replac': 1441, 'accur': 1442, 'market': 1443, 'clue': 1444, 'commentari': 1445, 'uncl': 1446, 'danni': 1447, 'andi': 1448, 'seemingli': 1449, 'eddi': 1450, 'jackson': 1451, 'devil': 1452, 'refus': 1453, 'therefor': 1454, 'that': 1455, 'pair': 1456, 'ed': 1457, 'accid': 1458, 'fault': 1459, 'river': 1460, 'unit': 1461, 'fate': 1462, 'afraid': 1463, 'tune': 1464, 'hidden': 1465, 'clean': 1466, 'russian': 1467, 'stephen': 1468, 'convey': 1469, 'instanc': 1470, 'irrit': 1471, 'test': 1472, 'readi': 1473, 'quick': 1474, 'captain': 1475, 'european': 1476, 'insan': 1477, 'daniel': 1478, 'frustrat': 1479, 'chines': 1480, 'wed': 1481, 'food': 1482, 'rescu': 1483, '1950': 1484, 'lock': 1485, 'angri': 1486, 'dirti': 1487, 'joy': 1488, 'steven': 1489, 'price': 1490, 'bland': 1491, 'cage': 1492, 'anymor': 1493, 'rang': 1494, 'wooden': 1495, 'news': 1496, 'jason': 1497, 'rush': 1498, 'n': 1499, 'martial': 1500, 'worri': 1501, '12': 1502, 'led': 1503, 'board': 1504, 'twenti': 1505, 'cgi': 1506, 'transform': 1507, 'symbol': 1508, 'hunter': 1509, 'johnni': 1510, 'invent': 1511, 'x': 1512, 'sentiment': 1513, 'piti': 1514, 'onto': 1515, 'attitud': 1516, 'process': 1517, 'explan': 1518, 'owner': 1519, 'awar': 1520, 'aim': 1521, 'energi': 1522, 'floor': 1523, 'favor': 1524, 'necessari': 1525, 'target': 1526, 'opposit': 1527, 'religi': 1528, 'chick': 1529, 'blind': 1530, 'insight': 1531, 'window': 1532, 'movement': 1533, 'possess': 1534, 'mountain': 1535, 'research': 1536, 'comparison': 1537, 'deepli': 1538, 'grand': 1539, 'comed': 1540, 'whatsoev': 1541, 'rain': 1542, 'bank': 1543, 'began': 1544, 'mid': 1545, 'shadow': 1546, 'parodi': 1547, 'princ': 1548, 'weapon': 1549, 'friendship': 1550, 'credibl': 1551, 'pre': 1552, 'taylor': 1553, 'flesh': 1554, 'dougla': 1555, 'teach': 1556, 'protect': 1557, 'terror': 1558, 'bloodi': 1559, 'hint': 1560, 'marvel': 1561, 'load': 1562, 'superman': 1563, 'leader': 1564, 'drunk': 1565, 'watchabl': 1566, 'accord': 1567, 'anybodi': 1568, 'brown': 1569, 'freddi': 1570, 'appropri': 1571, 'tim': 1572, 'jeff': 1573, 'seat': 1574, 'hitler': 1575, 'villag': 1576, 'unknown': 1577, 'keaton': 1578, 'charg': 1579, 'knock': 1580, 'enemi': 1581, 'unnecessari': 1582, 'england': 1583, 'empti': 1584, 'media': 1585, 'perspect': 1586, 'craft': 1587, 'buck': 1588, 'utter': 1589, 'strength': 1590, 'dare': 1591, 'wave': 1592, 'correct': 1593, 'nativ': 1594, 'kiss': 1595, 'contrast': 1596, 'ford': 1597, 'knowledg': 1598, 'nazi': 1599, 'distract': 1600, 'speed': 1601, 'anywher': 1602, 'soap': 1603, 'chill': 1604, 'magnific': 1605, 'ice': 1606, 'fred': 1607, 'breath': 1608, 'mission': 1609, '1980': 1610, 'joan': 1611, 'moon': 1612, 'jr': 1613, 'crowd': 1614, 'kate': 1615, 'soft': 1616, 'frighten': 1617, '000': 1618, 'dick': 1619, 'dan': 1620, 'hundr': 1621, 'nick': 1622, 'radio': 1623, 'simon': 1624, 'dozen': 1625, 'somebodi': 1626, 'thousand': 1627, 'loss': 1628, 'andrew': 1629, 'academi': 1630, 'shakespear': 1631, 'account': 1632, 'sum': 1633, 'quot': 1634, 'root': 1635, 'vehicl': 1636, 'leg': 1637, 'behavior': 1638, '1970': 1639, 'convent': 1640, 'regular': 1641, 'gold': 1642, 'demand': 1643, 'worker': 1644, 'compet': 1645, 'pretenti': 1646, 'stretch': 1647, 'notabl': 1648, 'privat': 1649, 'japan': 1650, 'interpret': 1651, 'candi': 1652, 'lynch': 1653, 'explos': 1654, 'debut': 1655, 'constant': 1656, 'tarzan': 1657, 'prais': 1658, 'spi': 1659, 'revolv': 1660, 'translat': 1661, 'sea': 1662, 'sat': 1663, 'technolog': 1664, 'quiet': 1665, 'ass': 1666, 'threaten': 1667, 'failur': 1668, 'jesu': 1669, 'franc': 1670, 'met': 1671, 'higher': 1672, 'punch': 1673, 'toy': 1674, 'aid': 1675, 'kevin': 1676, 'abandon': 1677, 'vh': 1678, 'interact': 1679, 'mike': 1680, 'command': 1681, 'bet': 1682, 'separ': 1683, 'confront': 1684, 'techniqu': 1685, 'site': 1686, 'servic': 1687, 'recal': 1688, 'stunt': 1689, 'gotten': 1690, 'belong': 1691, 'freak': 1692, 'cabl': 1693, 'foot': 1694, 'bug': 1695, 'fu': 1696, 'capabl': 1697, 'african': 1698, 'bright': 1699, 'jimmi': 1700, 'clark': 1701, 'fat': 1702, 'presid': 1703, 'boat': 1704, 'succeed': 1705, 'stock': 1706, 'spanish': 1707, 'gene': 1708, 'structur': 1709, 'paper': 1710, 'kidnap': 1711, 'whilst': 1712, 'factor': 1713, 'belief': 1714, 'witti': 1715, 'attend': 1716, 'realis': 1717, 'bob': 1718, 'educ': 1719, 'tree': 1720, 'complic': 1721, 'realism': 1722, 'assist': 1723, 'santa': 1724, 'broken': 1725, 'finest': 1726, 'depart': 1727, 'determin': 1728, 'up': 1729, 'v': 1730, 'smoke': 1731, 'observ': 1732, 'hat': 1733, 'domin': 1734, 'rubbish': 1735, 'fame': 1736, 'lewi': 1737, 'routin': 1738, 'oper': 1739, 'foreign': 1740, 'advanc': 1741, 'hook': 1742, 'lone': 1743, 'kinda': 1744, 'morgan': 1745, 'safe': 1746, 'rank': 1747, 'numer': 1748, 'civil': 1749, 'shape': 1750, 'rose': 1751, 'werewolf': 1752, 'washington': 1753, 'shallow': 1754, 'vs': 1755, 'gari': 1756, 'morn': 1757, 'accomplish': 1758, 'ordinari': 1759, 'winner': 1760, 'kong': 1761, 'whenev': 1762, 'grab': 1763, 'peac': 1764, 'virtual': 1765, 'offens': 1766, 'luck': 1767, 'h': 1768, 'contriv': 1769, 'complain': 1770, 'activ': 1771, 'unfunni': 1772, 'welcom': 1773, 'bigger': 1774, 'patient': 1775, 'trek': 1776, 'dimension': 1777, 'pretend': 1778, 'con': 1779, 'flash': 1780, 'dri': 1781, 'wake': 1782, 'lesbian': 1783, 'eric': 1784, 'cain': 1785, 'code': 1786, 'statu': 1787, 'corrupt': 1788, 'manipul': 1789, 'dancer': 1790, 'albert': 1791, 'guard': 1792, 'awkward': 1793, 'context': 1794, 'gain': 1795, 'sourc': 1796, 'speech': 1797, 'signific': 1798, '13': 1799, 'corni': 1800, 'sean': 1801, 'anthoni': 1802, 'psycho': 1803, 'clip': 1804, 'reli': 1805, 'advic': 1806, 'priest': 1807, 'theatric': 1808, 'curiou': 1809, 'w': 1810, 'religion': 1811, 'flow': 1812, 'addict': 1813, 'secur': 1814, 'howard': 1815, 'specif': 1816, 'asian': 1817, 'skin': 1818, 'jennif': 1819, 'golden': 1820, 'promot': 1821, 'core': 1822, 'comfort': 1823, 'organ': 1824, 'luke': 1825, 'cheat': 1826, 'cash': 1827, 'lucki': 1828, 'dislik': 1829, 'associ': 1830, 'lower': 1831, 'frequent': 1832, 'spell': 1833, 'regret': 1834, 'wing': 1835, 'frankli': 1836, 'devic': 1837, 'contribut': 1838, 'balanc': 1839, 'degre': 1840, 'print': 1841, 'sake': 1842, 'lake': 1843, 'forgiv': 1844, 'mass': 1845, 'thoma': 1846, 'betti': 1847, 'unexpect': 1848, 'gordon': 1849, 'crack': 1850, 'amateur': 1851, 'unfold': 1852, 'depend': 1853, 'grown': 1854, 'construct': 1855, 'categori': 1856, 'invit': 1857, 'matur': 1858, 'honor': 1859, 'grew': 1860, 'condit': 1861, 'anna': 1862, 'intellectu': 1863, 'walter': 1864, 'mirror': 1865, 'sudden': 1866, 'sole': 1867, 'spectacular': 1868, 'veteran': 1869, 'experienc': 1870, 'gift': 1871, 'liner': 1872, 'overli': 1873, 'meanwhil': 1874, 'freedom': 1875, 'robin': 1876, 'card': 1877, 'grip': 1878, 'demonstr': 1879, 'sheriff': 1880, 'brilliantli': 1881, 'crappi': 1882, 'oliv': 1883, 'circumst': 1884, 'section': 1885, 'theori': 1886, 'drew': 1887, 'colour': 1888, 'unabl': 1889, 'subtitl': 1890, 'matt': 1891, 'sheer': 1892, 'path': 1893, 'cook': 1894, 'pile': 1895, 'laughter': 1896, 'altern': 1897, 'parker': 1898, 'accident': 1899, 'relief': 1900, 'lawyer': 1901, 'wander': 1902, 'defin': 1903, 'sinatra': 1904, 'treatment': 1905, 'hall': 1906, 'dragon': 1907, 'captiv': 1908, 'hank': 1909, 'gratuit': 1910, 'halloween': 1911, 'moor': 1912, 'wound': 1913, 'kung': 1914, 'jacki': 1915, 'wayn': 1916, 'broadway': 1917, 'k': 1918, 'barbara': 1919, 'unintent': 1920, 'cowboy': 1921, 'winter': 1922, 'surreal': 1923, 'spoof': 1924, 'statement': 1925, 'canadian': 1926, 'fish': 1927, 'treasur': 1928, 'gonna': 1929, 'compos': 1930, 'fare': 1931, 'cheer': 1932, 'unrealist': 1933, 'emerg': 1934, 'sensit': 1935, 'victor': 1936, 'woodi': 1937, 'ran': 1938, 'neighbor': 1939, 'driven': 1940, 'sympathet': 1941, 'expos': 1942, 'authent': 1943, 'menac': 1944, 'topic': 1945, 'glass': 1946, 'overlook': 1947, 'ancient': 1948, 'gross': 1949, 'handsom': 1950, 'chief': 1951, 'michel': 1952, 'feet': 1953, 'cinderella': 1954, 'stranger': 1955, 'pleasant': 1956, 'built': 1957, 'nevertheless': 1958, 'russel': 1959, 'network': 1960, 'contemporari': 1961, 'comedian': 1962, 'gori': 1963, 'earn': 1964, 'underr': 1965, 'consider': 1966, 'blockbust': 1967, 'endless': 1968, 'miser': 1969, 'letter': 1970, 'solv': 1971, 'switch': 1972, 'brook': 1973, 'bullet': 1974, 'joseph': 1975, 'virgin': 1976, 'convict': 1977, 'edward': 1978, 'victoria': 1979, '0': 1980, 'alex': 1981, 'scale': 1982, 'chosen': 1983, 'cynic': 1984, 'scenario': 1985, 'com': 1986, 'sword': 1987, 'gut': 1988, 'outrag': 1989, 'curs': 1990, 'wrap': 1991, 'juli': 1992, 'substanc': 1993, 'proper': 1994, 'driver': 1995, 'screenwrit': 1996, 'monkey': 1997, 'uk': 1998, 'bird': 1999, 'remov': 2000, 'court': 2001, 'par': 2002, 'indic': 2003, 'nanci': 2004, 'rental': 2005, 'naiv': 2006, 'loser': 2007, 'consequ': 2008, 'grave': 2009, 'advertis': 2010, 'inevit': 2011, 'roy': 2012, 'brave': 2013, 'le': 2014, 'slap': 2015, 'invis': 2016, 'fatal': 2017, 'bridg': 2018, 'germani': 2019, 'ador': 2020, 'provok': 2021, 'footbal': 2022, 'loui': 2023, 'anger': 2024, 'chan': 2025, 'anderson': 2026, 'alcohol': 2027, 'ryan': 2028, 'willi': 2029, 'professor': 2030, 'stumbl': 2031, 'assassin': 2032, 'sharp': 2033, 'australian': 2034, '1930': 2035, 'bat': 2036, 'patrick': 2037, 'heck': 2038, 'cell': 2039, 'deni': 2040, 'strongli': 2041, 'refresh': 2042, 'eight': 2043, 'lousi': 2044, 'amateurish': 2045, 'trilog': 2046, 'saturday': 2047, 'liber': 2048, 'ape': 2049, 'sin': 2050, 'san': 2051, 'justifi': 2052, 'resid': 2053, 'vagu': 2054, 'sympathi': 2055, 'defeat': 2056, 'creator': 2057, 'reput': 2058, 'indi': 2059, 'mini': 2060, 'terrifi': 2061, 'tabl': 2062, 'endur': 2063, 'expert': 2064, 'prevent': 2065, 'tediou': 2066, 'task': 2067, 'basebal': 2068, 'offend': 2069, 'imit': 2070, 'che': 2071, 'employ': 2072, 'trial': 2073, 'rival': 2074, 'weekend': 2075, 'fairi': 2076, 'complaint': 2077, 'dig': 2078, 'max': 2079, 'beach': 2080, 'pitch': 2081, 'europ': 2082, 'format': 2083, 'purchas': 2084, 'risk': 2085, 'murphi': 2086, 'harsh': 2087, 'hype': 2088, 'powel': 2089, 'titan': 2090, 'reminisc': 2091, 'tini': 2092, 'glimps': 2093, 'nois': 2094, 'bite': 2095, '14': 2096, 'asleep': 2097, 'till': 2098, 'fals': 2099, 'north': 2100, 'prime': 2101, 'strip': 2102, 'descript': 2103, 'revel': 2104, 'destruct': 2105, 'africa': 2106, 'texa': 2107, 'surfac': 2108, 'excess': 2109, 'spin': 2110, 'semi': 2111, 'inner': 2112, 'uninterest': 2113, 'arrest': 2114, 'sitcom': 2115, 'twin': 2116, 'argu': 2117, 'hitchcock': 2118, 'makeup': 2119, 'controversi': 2120, 'massiv': 2121, 'maintain': 2122, 'dinosaur': 2123, 'reject': 2124, 'stare': 2125, 'ludicr': 2126, 'insist': 2127, 'ideal': 2128, 'kim': 2129, 'expens': 2130, 'melodrama': 2131, 'subplot': 2132, 'host': 2133, 'erot': 2134, 'ala': 2135, 'ga': 2136, 'supernatur': 2137, 'press': 2138, 'atroci': 2139, 'columbo': 2140, 'forest': 2141, 'nail': 2142, 'cant': 2143, 'identifi': 2144, 'dude': 2145, 'notch': 2146, 'presum': 2147, 'forgett': 2148, 'crude': 2149, 'guest': 2150, 'method': 2151, 'plagu': 2152, 'closer': 2153, 'character': 2154, 'princess': 2155, 'foster': 2156, 'beast': 2157, 'border': 2158, 'ear': 2159, 'lion': 2160, 'landscap': 2161, 'storytel': 2162, 'damag': 2163, 'pacino': 2164, 'birth': 2165, 'accus': 2166, 'previous': 2167, 'bound': 2168, 'aunt': 2169, 'urban': 2170, 'jungl': 2171, 'guid': 2172, 'thirti': 2173, 'nude': 2174, 'emma': 2175, 'doll': 2176, 'chose': 2177, 'jess': 2178, 'propaganda': 2179, 'warrior': 2180, 'whoever': 2181, '25': 2182, 'pet': 2183, 'mate': 2184, 'mainstream': 2185, 'size': 2186, 'cooper': 2187, 'upset': 2188, 'latest': 2189, 'friday': 2190, 'gritti': 2191, 'deadli': 2192, 'exact': 2193, 'merit': 2194, 'poster': 2195, 'buff': 2196, 'popul': 2197, 'warner': 2198, 'rough': 2199, 'ton': 2200, 'settl': 2201, 'contact': 2202, 'blend': 2203, 'corps': 2204, 'citizen': 2205, 'wilson': 2206, 'contest': 2207, '1990': 2208, 'sun': 2209, 'rat': 2210, 'select': 2211, 'overcom': 2212, 'alic': 2213, 'bu': 2214, 'widow': 2215, 'pitt': 2216, 'environ': 2217, 'mgm': 2218, 'metal': 2219, 'ted': 2220, 'particip': 2221, 'guilti': 2222, 'revolut': 2223, 'lift': 2224, 'link': 2225, '1960': 2226, 'prostitut': 2227, 'corpor': 2228, 'afternoon': 2229, 'exagger': 2230, 'accompani': 2231, 'moron': 2232, 'johnson': 2233, 'matrix': 2234, 'corner': 2235, 'instal': 2236, 'leagu': 2237, 'clair': 2238, 'sincer': 2239, 'holm': 2240, 'multipl': 2241, 'doom': 2242, 'hood': 2243, 'friendli': 2244, 'blah': 2245, 'defend': 2246, 'junk': 2247, 'hip': 2248, 'advis': 2249, 'sunday': 2250, 'irish': 2251, 'examin': 2252, 'string': 2253, 'grim': 2254, 'campi': 2255, 'lugosi': 2256, 'aka': 2257, 'tight': 2258, 'varieti': 2259, 'shake': 2260, 'rachel': 2261, 'shut': 2262, 'icon': 2263, 'pro': 2264, 'confid': 2265, 'jaw': 2266, 'attach': 2267, 'directli': 2268, 'medic': 2269, 'denni': 2270, 'sullivan': 2271, 'goal': 2272, 'mexican': 2273, 'prior': 2274, 'legendari': 2275, 'duke': 2276, 'sarah': 2277, 'sentenc': 2278, 'bourn': 2279, 'terrorist': 2280, 'breast': 2281, 'dean': 2282, 'truck': 2283, 'vietnam': 2284, 'courag': 2285, 'un': 2286, 'split': 2287, 'behav': 2288, 'proceed': 2289, 'yell': 2290, 'hong': 2291, 'donald': 2292, 'nose': 2293, 'entri': 2294, 'concentr': 2295, 'everywher': 2296, 'lifetim': 2297, 'confess': 2298, 'swim': 2299, 'stolen': 2300, 'crush': 2301, 'borrow': 2302, 'buri': 2303, 'gather': 2304, 'unconvinc': 2305, 'forth': 2306, 'jerk': 2307, 'lip': 2308, 'turkey': 2309, 'california': 2310, 'pan': 2311, 'spite': 2312, 'julia': 2313, 'deliveri': 2314, 'flight': 2315, 'china': 2316, 'proud': 2317, 'quest': 2318, 'reward': 2319, 'downright': 2320, 'offici': 2321, 'freeman': 2322, 'hoffman': 2323, 'fade': 2324, 'sink': 2325, 'encourag': 2326, 'jail': 2327, 'jon': 2328, 'worthwhil': 2329, 'inept': 2330, 'fabul': 2331, 'lazi': 2332, 'sir': 2333, 'betray': 2334, 'notori': 2335, 'susan': 2336, 'storm': 2337, 'bag': 2338, 'relev': 2339, 'teeth': 2340, 'shower': 2341, 'retard': 2342, 'lisa': 2343, 'imageri': 2344, 'bell': 2345, 'survivor': 2346, 'cousin': 2347, 'branagh': 2348, 'stab': 2349, 'mexico': 2350, 'toler': 2351, 'facial': 2352, 'bride': 2353, 'alright': 2354, 'summari': 2355, 'quirki': 2356, 'tremend': 2357, 'shark': 2358, 'trade': 2359, 'hugh': 2360, 'finger': 2361, 'bitter': 2362, 'blown': 2363, 'hyster': 2364, 'ha': 2365, 'pose': 2366, 'von': 2367, 'bone': 2368, 'cruel': 2369, 'address': 2370, 'ned': 2371, 'christ': 2372, 'afterward': 2373, 'scheme': 2374, 'ron': 2375, 'larri': 2376, 'feed': 2377, 'screw': 2378, 'tour': 2379, 'traci': 2380, 'swear': 2381, 'beg': 2382, 'distinct': 2383, 'snake': 2384, 'thumb': 2385, 'pursu': 2386, 'photo': 2387, 'mechan': 2388, 'obscur': 2389, 'stomach': 2390, 'raw': 2391, 'occas': 2392, 'chair': 2393, 'gruesom': 2394, 'argument': 2395, 'cabin': 2396, 'chain': 2397, 'sidney': 2398, 'resist': 2399, 'heavili': 2400, 'holiday': 2401, 'necessarili': 2402, 'render': 2403, 'hardi': 2404, 'southern': 2405, 'understood': 2406, 'indulg': 2407, 'india': 2408, 'satan': 2409, 'racist': 2410, 'philip': 2411, 'belov': 2412, 'stalk': 2413, 'midnight': 2414, 'lay': 2415, 'obnoxi': 2416, 'pregnant': 2417, 'outfit': 2418, 'fourth': 2419, 'integr': 2420, 'forgot': 2421, 'tongu': 2422, '17': 2423, 'slapstick': 2424, 'carol': 2425, 'magazin': 2426, 'garden': 2427, 'deeper': 2428, 'ticket': 2429, 'inhabit': 2430, 'restor': 2431, 'lincoln': 2432, 'shoe': 2433, 'brad': 2434, 'devot': 2435, 'incid': 2436, 'disbelief': 2437, 'anticip': 2438, 'underground': 2439, 'elizabeth': 2440, 'benefit': 2441, 'guarante': 2442, 'lili': 2443, 'maria': 2444, 'sandler': 2445, 'divorc': 2446, 'creation': 2447, 'capit': 2448, 'princip': 2449, 'bbc': 2450, 'explod': 2451, 'mildli': 2452, 'amazingli': 2453, 'slave': 2454, 'greater': 2455, 'cring': 2456, 'extraordinari': 2457, 'halfway': 2458, 'funnier': 2459, 'introduct': 2460, 'lesli': 2461, 'advantag': 2462, 'transfer': 2463, 'tap': 2464, 'text': 2465, 'enhanc': 2466, 'overwhelm': 2467, 'wreck': 2468, 'punish': 2469, 'extent': 2470, 'lane': 2471, 'deliber': 2472, 'preview': 2473, 'dynam': 2474, 'error': 2475, 'plant': 2476, 'east': 2477, 'jessica': 2478, 'horrif': 2479, 'lo': 2480, 'homosexu': 2481, 'miscast': 2482, 'vincent': 2483, 'ensu': 2484, 'vacat': 2485, 'appli': 2486, 'miller': 2487, 'sophist': 2488, '2000': 2489, 'basi': 2490, 'extend': 2491, 'sleazi': 2492, 'uncomfort': 2493, 'spoken': 2494, 'mansion': 2495, 'measur': 2496, 'bollywood': 2497, 'elev': 2498, 'steel': 2499, 'via': 2500, 'reed': 2501, 'blair': 2502, 'melt': 2503, 'assign': 2504, 'fix': 2505, 'hippi': 2506, 'conceiv': 2507, 'beer': 2508, 'overact': 2509, 'cathol': 2510, 'daili': 2511, 'breathtak': 2512, 'mous': 2513, 'dentist': 2514, 'goofi': 2515, 'stanley': 2516, 'savag': 2517, 'alter': 2518, 'succe': 2519, 'properli': 2520, 'sacrific': 2521, 'oppos': 2522, 'inspector': 2523, 'subsequ': 2524, 'burt': 2525, 'everyday': 2526, 'carpent': 2527, 'nowaday': 2528, 'massacr': 2529, 'circl': 2530, 'neck': 2531, 'laura': 2532, 'block': 2533, 'mob': 2534, 'fallen': 2535, 'access': 2536, 'portrait': 2537, 'fay': 2538, 'grey': 2539, 'lesser': 2540, 'pool': 2541, 'concert': 2542, 'christi': 2543, 'seagal': 2544, 'jake': 2545, 'competit': 2546, 'react': 2547, 'relax': 2548, 'sinist': 2549, 'jewish': 2550, 'usa': 2551, 'isol': 2552, 'chees': 2553, '2006': 2554, 'stink': 2555, 'chop': 2556, 'creep': 2557, 'appal': 2558, 'lyric': 2559, 'nonetheless': 2560, 'nine': 2561, 'suitabl': 2562, 'spiritu': 2563, 'ironi': 2564, 'immens': 2565, 'rage': 2566, 'spring': 2567, 'retir': 2568, 'adopt': 2569, 'nut': 2570, 'reduc': 2571, 'showcas': 2572, 'luci': 2573, 'sold': 2574, 'user': 2575, 'franchis': 2576, 'shirt': 2577, 'needless': 2578, 'navi': 2579, 'nurs': 2580, 'jay': 2581, 'asham': 2582, 'bath': 2583, 'digit': 2584, 'per': 2585, 'stanwyck': 2586, 'zone': 2587, 'uninspir': 2588, 'bulli': 2589, 'oddli': 2590, 'amongst': 2591, 'laid': 2592, 'upper': 2593, '1940': 2594, 'sutherland': 2595, '2001': 2596, 'broadcast': 2597, 'illustr': 2598, 'baker': 2599, 'fulfil': 2600, 'brando': 2601, 'disguis': 2602, 'aspir': 2603, 'stylish': 2604, 'throat': 2605, 'wanna': 2606, 'em': 2607, 'nobl': 2608, 'impli': 2609, 'wwii': 2610, 'endear': 2611, 'neighborhood': 2612, 'pound': 2613, '18': 2614, 'pride': 2615, 'thief': 2616, 'rochest': 2617, 'diseas': 2618, 'albeit': 2619, 'coher': 2620, 'dawn': 2621, '16': 2622, 'shoulder': 2623, 'tens': 2624, 'bo': 2625, 'cinematograph': 2626, 'shift': 2627, 'distribut': 2628, 'prop': 2629, 'dinner': 2630, 'bett': 2631, 'surf': 2632, 'contract': 2633, 'rebel': 2634, 'wash': 2635, 'poignant': 2636, 'forti': 2637, 'shout': 2638, 'function': 2639, 'knife': 2640, 'silenc': 2641, 'snow': 2642, 'matthau': 2643, 'horrend': 2644, 'proof': 2645, 'chuck': 2646, 'mindless': 2647, 'silver': 2648, 'internet': 2649, 'derek': 2650, 'height': 2651, 'cannib': 2652, 'reunion': 2653, 'henc': 2654, 'heat': 2655, 'widmark': 2656, 'eeri': 2657, 'duti': 2658, 'instinct': 2659, 'cancel': 2660, 'elvira': 2661, 'pie': 2662, 'musician': 2663, 'repetit': 2664, 'mill': 2665, 'neat': 2666, 'etern': 2667, 'premier': 2668, 'spielberg': 2669, 'innov': 2670, 'elvi': 2671, 'greatli': 2672, 'incoher': 2673, 'torn': 2674, 'glori': 2675, 'absorb': 2676, 'alik': 2677, 'diamond': 2678, 'blank': 2679, 'redempt': 2680, 'nelson': 2681, 'wealthi': 2682, 'homag': 2683, 'racism': 2684, 'trite': 2685, 'announc': 2686, 'infam': 2687, 'lovabl': 2688, 'crisi': 2689, 'bang': 2690, 'itali': 2691, 'fbi': 2692, 'precis': 2693, 'britain': 2694, 'horrifi': 2695, 'burton': 2696, 'chaplin': 2697, 'wilder': 2698, 'dedic': 2699, 'hammer': 2700, 'flop': 2701, 'resolut': 2702, 'parallel': 2703, 'happili': 2704, 'ensembl': 2705, 'helen': 2706, 'streisand': 2707, 'pat': 2708, 'oil': 2709, 'st': 2710, 'factori': 2711, 'conclud': 2712, 'broke': 2713, 'mar': 2714, 'plastic': 2715, 'triumph': 2716, 'carter': 2717, 'disagre': 2718, 'cube': 2719, 'vega': 2720, 'march': 2721, 'chuckl': 2722, 'weight': 2723, 'climb': 2724, 'row': 2725, 'bush': 2726, 'fighter': 2727, 'own': 2728, 'rocket': 2729, 'unforgett': 2730, 'lust': 2731, 'enorm': 2732, 'sensibl': 2733, 'wherea': 2734, 'dump': 2735, 'luca': 2736, 'spare': 2737, 'meaning': 2738, 'thug': 2739, 'kurt': 2740, 'boot': 2741, 'dane': 2742, 'mst3k': 2743, 'fifti': 2744, 'adequ': 2745, 'butt': 2746, 'caricatur': 2747, 'engin': 2748, 'threat': 2749, 'brand': 2750, 'bobbi': 2751, 'stress': 2752, 'difficulti': 2753, 'dear': 2754, 'arnold': 2755, 'rap': 2756, 'karloff': 2757, 'arrog': 2758, 'fest': 2759, 'ego': 2760, 'homeless': 2761, 'polish': 2762, 'secretari': 2763, 'barri': 2764, 'swing': 2765, 'elabor': 2766, 'journalist': 2767, 'flynn': 2768, 'ralph': 2769, 'hamlet': 2770, 'float': 2771, 'unbear': 2772, 'induc': 2773, 'conspiraci': 2774, 'arrang': 2775, 'puppet': 2776, 'simpson': 2777, 'resort': 2778, 'tool': 2779, 'spike': 2780, 'fanci': 2781, 'grate': 2782, 'basement': 2783, 'phillip': 2784, 'exercis': 2785, 'cruis': 2786, 'guilt': 2787, 'tribut': 2788, 'muppet': 2789, 'pig': 2790, 'choreograph': 2791, 'boll': 2792, 'tower': 2793, 'toilet': 2794, 'korean': 2795, 'document': 2796, 'babe': 2797, 'ward': 2798, 'ham': 2799, 'stan': 2800, 'puzzl': 2801, 'editor': 2802, 'item': 2803, 'medium': 2804, '24': 2805, 'slip': 2806, 'fianc': 2807, 'layer': 2808, 'file': 2809, 'scarecrow': 2810, 'transit': 2811, 'territori': 2812, 'larger': 2813, 'assur': 2814, 'orient': 2815, 'philosoph': 2816, 'inexplic': 2817, 'catherin': 2818, 'persona': 2819, 'superfici': 2820, 'denzel': 2821, 'portion': 2822, 'spark': 2823, 'librari': 2824, 'glover': 2825, 'minim': 2826, 'doc': 2827, 'slaughter': 2828, 'jet': 2829, 'ban': 2830, 'wolf': 2831, 'curti': 2832, 'financi': 2833, 'boredom': 2834, 'sneak': 2835, 'shi': 2836, 'walken': 2837, 'jeremi': 2838, 'dorothi': 2839, 'owe': 2840, 'pg': 2841, 'cusack': 2842, 'profound': 2843, 'metaphor': 2844, 'ambigu': 2845, 'whale': 2846, 'eleph': 2847, 'hudson': 2848, 'backdrop': 2849, 'multi': 2850, 'ultra': 2851, '2005': 2852, 'rave': 2853, 'union': 2854, 'viru': 2855, 'elsewher': 2856, 'hack': 2857, 'notion': 2858, 'stiff': 2859, 'implaus': 2860, 'birthday': 2861, 'gadget': 2862, 'eva': 2863, 'pad': 2864, 'distanc': 2865, 'squar': 2866, 'disc': 2867, 'newspap': 2868, 'poison': 2869, 'canada': 2870, 'hawk': 2871, 'afford': 2872, 'urg': 2873, 'slight': 2874, 'reader': 2875, 'superhero': 2876, 'deriv': 2877, 'eastwood': 2878, '1st': 2879, 'lloyd': 2880, 'bibl': 2881, 'button': 2882, 'health': 2883, 'skit': 2884, 'spread': 2885, 'restaur': 2886, 'essenc': 2887, 'huh': 2888, 'cure': 2889, 'drown': 2890, 'sadist': 2891, 'montag': 2892, 'charisma': 2893, 'heston': 2894, 'companion': 2895, 'godfath': 2896, 'peak': 2897, 'invest': 2898, 'gradual': 2899, 'scoobi': 2900, 'dealt': 2901, 'maniac': 2902, 'muslim': 2903, 'fetch': 2904, 'lab': 2905, 'estat': 2906, 'countless': 2907, 'cup': 2908, 'tea': 2909, 'ritter': 2910, 'alli': 2911, 'kane': 2912, 'gothic': 2913, 'subtleti': 2914, 'servant': 2915, 'miik': 2916, 'iii': 2917, 'elect': 2918, 'heroic': 2919, 'salli': 2920, 'charismat': 2921, 'electr': 2922, 'briefli': 2923, 'nuanc': 2924, 'wannab': 2925, 'reel': 2926, 'admittedli': 2927, 'tender': 2928, 'toss': 2929, 'resourc': 2930, 'ingredi': 2931, 'cole': 2932, 'bud': 2933, 'neil': 2934, 'grandmoth': 2935, 'reev': 2936, 'mild': 2937, 'gate': 2938, 'label': 2939, 'shall': 2940, 'poverti': 2941, 'stood': 2942, 'mafia': 2943, 'kubrick': 2944, 'pit': 2945, 'dawson': 2946, 'stronger': 2947, 'carrey': 2948, 'pauli': 2949, 'punk': 2950, 'fond': 2951, 'easier': 2952, 'cardboard': 2953, 'cox': 2954, 'updat': 2955, 'terri': 2956, 'assault': 2957, 'useless': 2958, 'smash': 2959, 'ian': 2960, 'outcom': 2961, 'smooth': 2962, 'tag': 2963, 'burst': 2964, 'astair': 2965, 'bakshi': 2966, 'exchang': 2967, 'melodramat': 2968, 'divers': 2969, 'resolv': 2970, 'vari': 2971, 'qualifi': 2972, 'coincid': 2973, 'increasingli': 2974, 'vulner': 2975, 'sketch': 2976, 'fist': 2977, '2002': 2978, 'samurai': 2979, 'rex': 2980, 'templ': 2981, 'brillianc': 2982, 'be': 2983, 'blast': 2984, 'tame': 2985, 'luckili': 2986, 'reynold': 2987, 'scratch': 2988, 'insert': 2989, 'conveni': 2990, 'suspend': 2991, 'walker': 2992, 'soprano': 2993, 'farm': 2994, 'gotta': 2995, 'jami': 2996, 'strictli': 2997, 'seventi': 2998, 'meat': 2999, 'fisher': 3000, 'ambiti': 3001, 'nuclear': 3002, 'hamilton': 3003, 'pin': 3004, 'coach': 3005, 'matthew': 3006, 'brosnan': 3007, 'eccentr': 3008, 'worthless': 3009, 'empir': 3010, 'timeless': 3011, 'ninja': 3012, 'cave': 3013, 'kudo': 3014, 'spooki': 3015, 'grasp': 3016, 'recreat': 3017, 'joey': 3018, 'closet': 3019, 'instantli': 3020, 'struck': 3021, 'discoveri': 3022, 'revers': 3023, 'clock': 3024, 'convolut': 3025, 'butcher': 3026, 'monk': 3027, 'declar': 3028, 'clown': 3029, 'pal': 3030, 'sidekick': 3031, 'importantli': 3032, 'mitchel': 3033, 'wipe': 3034, 'cliff': 3035, 'partli': 3036, 'sloppi': 3037, 'eighti': 3038, 'selfish': 3039, 'communist': 3040, 'miracl': 3041, 'evok': 3042, 'fifteen': 3043, 'bleak': 3044, 'inconsist': 3045, 'gray': 3046, 'norman': 3047, 'seller': 3048, 'enthusiast': 3049, 'australia': 3050, 'ho': 3051, 'destin': 3052, 'aforement': 3053, 'stoog': 3054, 'flawless': 3055, 'lifestyl': 3056, 'farc': 3057, 'cheek': 3058, 'debat': 3059, '45': 3060, 'psychiatrist': 3061, 'chew': 3062, 'websit': 3063, 'seed': 3064, 'superbl': 3065, 'piano': 3066, 'incompet': 3067, 'wick': 3068, 'pressur': 3069, 'abc': 3070, 'akshay': 3071, 'regardless': 3072, 'drivel': 3073, 'kitchen': 3074, 'slice': 3075, 'directori': 3076, 'dash': 3077, 'soviet': 3078, 'dire': 3079, 'anni': 3080, 'emili': 3081, 'splatter': 3082, 'bash': 3083, 'wrestl': 3084, 'judi': 3085, 'pleasantli': 3086, 'curios': 3087, 'increas': 3088, 'suppli': 3089, 'beaten': 3090, 'mann': 3091, 'duo': 3092, 'lou': 3093, 'doo': 3094, 'cia': 3095, 'helicopt': 3096, 'ken': 3097, 'seduc': 3098, 'prize': 3099, 'boil': 3100, 'jar': 3101, 'flower': 3102, 'dave': 3103, 'chapter': 3104, 'cameron': 3105, 'glow': 3106, 'blob': 3107, 'cagney': 3108, 'recov': 3109, 'distant': 3110, 'artifici': 3111, 'craven': 3112, 'perri': 3113, 'hop': 3114, 'splendid': 3115, 'web': 3116, 'drunken': 3117, 'psychot': 3118, 'laurel': 3119, 'combat': 3120, 'eleg': 3121, 'favour': 3122, 'craig': 3123, 'ellen': 3124, 'francisco': 3125, 'glenn': 3126, 'ranger': 3127, 'panic': 3128, 'goldberg': 3129, 'turner': 3130, 'flip': 3131, 'alexand': 3132, 'shortli': 3133, 'graduat': 3134, 'min': 3135, 'gandhi': 3136, 'hatr': 3137, 'slightest': 3138, 'greek': 3139, 'gentl': 3140, 'rid': 3141, 'wizard': 3142, 'philosophi': 3143, '20th': 3144, 'ruth': 3145, 'plausibl': 3146, 'fx': 3147, 'falk': 3148, 'modesti': 3149, 'holi': 3150, 'futurist': 3151, 'knight': 3152, 'tall': 3153, 'jealou': 3154, 'unpleas': 3155, 'we': 3156, 'fund': 3157, 'ocean': 3158, 'preciou': 3159, 'legal': 3160, 'felix': 3161, 'harm': 3162, 'manhattan': 3163, 'lend': 3164, 'dracula': 3165, 'explicit': 3166, 'ami': 3167, 'scientif': 3168, 'thread': 3169, 'nod': 3170, 'giallo': 3171, 'forbidden': 3172, 'reviv': 3173, 'childish': 3174, 'bless': 3175, 'overdon': 3176, 'mock': 3177, 'tank': 3178, 'digniti': 3179, 'unwatch': 3180, 'nerv': 3181, 'awe': 3182, 'broad': 3183, '99': 3184, 'pirat': 3185, 'eve': 3186, 'thick': 3187, 'elderli': 3188, 'mel': 3189, 'margaret': 3190, 'fever': 3191, '2004': 3192, 'yesterday': 3193, 'torment': 3194, 'awaken': 3195, 'repeatedli': 3196, 'verhoeven': 3197, 'royal': 3198, 'bin': 3199, 'acclaim': 3200, 'romero': 3201, 'ah': 3202, 'kay': 3203, 'uniform': 3204, 'griffith': 3205, 'roman': 3206, 'timothi': 3207, 'politician': 3208, 'launch': 3209, 'custom': 3210, 'publish': 3211, 'absenc': 3212, 'eas': 3213, 'lean': 3214, 'automat': 3215, 'ambit': 3216, 'stiller': 3217, 'rivet': 3218, 'pierc': 3219, 'antic': 3220, 'darker': 3221, 'crook': 3222, 'wallac': 3223, 'pulp': 3224, 'bathroom': 3225, 'foul': 3226, 'termin': 3227, 'stinker': 3228, 'transport': 3229, 'gabriel': 3230, 'tomato': 3231, 'warren': 3232, 'sunshin': 3233, 'homicid': 3234, 'phrase': 3235, 'purpl': 3236, 'hollow': 3237, 'li': 3238, 'eyr': 3239, 'prom': 3240, 'choreographi': 3241, 'awak': 3242, 'viciou': 3243, 'ought': 3244, 'saint': 3245, 'packag': 3246, 'coloni': 3247, 'pray': 3248, 'contrari': 3249, '2003': 3250, 'horrid': 3251, 'rambo': 3252, 'album': 3253, 'evolv': 3254, 'karen': 3255, 'revolutionari': 3256, 'juvenil': 3257, 'marin': 3258, 'sixti': 3259, 'q': 3260, 'brazil': 3261, 'kenneth': 3262, 'donna': 3263, 'blade': 3264, 'kapoor': 3265, 'beatti': 3266, 'boast': 3267, 'ireland': 3268, 'option': 3269, 'overr': 3270, 'twelv': 3271, 'conserv': 3272, 'ramon': 3273, 'defi': 3274, 'dose': 3275, 'mummi': 3276, 'mildr': 3277, 'candid': 3278, 'stole': 3279, 'nerd': 3280, 'flame': 3281, 'kirk': 3282, 'jazz': 3283, 'natali': 3284, 'astonish': 3285, 'global': 3286, 'funer': 3287, 'trio': 3288, 'protest': 3289, 'altman': 3290, 'confirm': 3291, 'detract': 3292, 'fulci': 3293, 'collabor': 3294, 'blake': 3295, 'shade': 3296, 'leap': 3297, 'spit': 3298, 'yellow': 3299, 'tommi': 3300, 'bull': 3301, 'delici': 3302, 'mystic': 3303, 'destini': 3304, 'enterpris': 3305, 'whip': 3306, 'racial': 3307, 'audio': 3308, 'nicholson': 3309, 'bottl': 3310, 'staff': 3311, 'inherit': 3312, 'enchant': 3313, 'meaningless': 3314, 'threw': 3315, 'adolesc': 3316, 'altogeth': 3317, 'merci': 3318, 'pseudo': 3319, 'reunit': 3320, 'bedroom': 3321, 'harder': 3322, 'vivid': 3323, 'popcorn': 3324, 'fonda': 3325, 'swedish': 3326, 'visibl': 3327, 'neo': 3328, 'todd': 3329, 'fanat': 3330, 'edi': 3331, 'crocodil': 3332, 'suspici': 3333, 'tip': 3334, 'respond': 3335, 'lawrenc': 3336, 'kennedi': 3337, 'uneven': 3338, 'moodi': 3339, 'leonard': 3340, 'befriend': 3341, 'roommat': 3342, 'madonna': 3343, 'synopsi': 3344, 'reserv': 3345, 'exhibit': 3346, 'await': 3347, 'decor': 3348, 'lemmon': 3349, 'wire': 3350, 'voight': 3351, 'bust': 3352, 'atlanti': 3353, 'ruthless': 3354, 'jew': 3355, 'abysm': 3356, 'garner': 3357, 'bradi': 3358, 'centr': 3359, 'dimens': 3360, 'palma': 3361, 'ventur': 3362, 'rural': 3363, 'voyag': 3364, 'carl': 3365, 'incident': 3366, 'chao': 3367, 'holli': 3368, 'bold': 3369, 'clint': 3370, 'audit': 3371, 'bargain': 3372, 'clumsi': 3373, '2007': 3374, 'unsettl': 3375, 'poetic': 3376, 'daddi': 3377, 'tiger': 3378, 'acknowledg': 3379, 'trail': 3380, 'echo': 3381, 'lit': 3382, 'wealth': 3383, 'nearbi': 3384, 'troop': 3385, 'imperson': 3386, 'immigr': 3387, 'mall': 3388, 'cuba': 3389, 'cd': 3390, 'cari': 3391, 'ant': 3392, 'characterist': 3393, 'neglect': 3394, 'elimin': 3395, 'humili': 3396, '2nd': 3397, 'versu': 3398, 'timon': 3399, 'hart': 3400, 'jeffrey': 3401, 'marshal': 3402, 'prejudic': 3403, 'infect': 3404, 'mistaken': 3405, 'paus': 3406, 'domest': 3407, 'mickey': 3408, 'collaps': 3409, 'celluloid': 3410, 'repuls': 3411, 'solo': 3412, 'saga': 3413, 'pun': 3414, 'homer': 3415, 'coffe': 3416, 'coat': 3417, 'pant': 3418, 'equip': 3419, 'hbo': 3420, 'leon': 3421, '1996': 3422, 'cake': 3423, 'undoubtedli': 3424, 'inan': 3425, 'milk': 3426, 'promin': 3427, 'chest': 3428, 'tribe': 3429, 'sore': 3430, 'olivi': 3431, 'interrupt': 3432, 'harvey': 3433, 'inappropri': 3434, 'apolog': 3435, 'gear': 3436, 'assembl': 3437, 'ginger': 3438, 'aveng': 3439, 'vulgar': 3440, 'colonel': 3441, 'instant': 3442, 'airplan': 3443, 'trace': 3444, 'pot': 3445, 'primari': 3446, 'consum': 3447, 'exot': 3448, 'furthermor': 3449, 'solut': 3450, 'colleagu': 3451, 'pen': 3452, 'embrac': 3453, 'maggi': 3454, 'brooklyn': 3455, 'florida': 3456, 'humbl': 3457, 'highest': 3458, 'jenni': 3459, 'institut': 3460, 'polanski': 3461, 'retain': 3462, 'devast': 3463, '1999': 3464, 'rick': 3465, 'wive': 3466, 'bowl': 3467, 'principl': 3468, '3rd': 3469, 'strain': 3470, 'seduct': 3471, 'sale': 3472, 'ya': 3473, 'descend': 3474, 'gender': 3475, 'linda': 3476, 'outer': 3477, 'poke': 3478, 'dian': 3479, 'disabl': 3480, 'godzilla': 3481, 'cope': 3482, 'dutch': 3483, 'illog': 3484, 'smaller': 3485, 'bubbl': 3486, 'dud': 3487, 'scope': 3488, 'predecessor': 3489, 'devoid': 3490, 'lol': 3491, 'vast': 3492, 'cue': 3493, 'primarili': 3494, 'dive': 3495, 'gloriou': 3496, 'secondli': 3497, 'inferior': 3498, 'rabbit': 3499, 'yard': 3500, 'blatant': 3501, 'glamor': 3502, 'gundam': 3503, 'mixtur': 3504, 'hal': 3505, 'beneath': 3506, 'invas': 3507, 'talki': 3508, 'disjoint': 3509, 'casual': 3510, 'myer': 3511, 'et': 3512, 'alert': 3513, 'museum': 3514, 'trademark': 3515, 'shelf': 3516, 'alfr': 3517, 'pearl': 3518, 'april': 3519, 'shirley': 3520, 'z': 3521, 'aggress': 3522, 'senseless': 3523, 'grinch': 3524, 'countrysid': 3525, 'hideou': 3526, 'simplist': 3527, 'arab': 3528, 'domino': 3529, 'streep': 3530, 'breed': 3531, 'garbo': 3532, 'applaud': 3533, 'slide': 3534, 'oz': 3535, 'sh': 3536, 'hardcor': 3537, 'hopeless': 3538, 'obtain': 3539, 'boom': 3540, 'mail': 3541, 'vanish': 3542, 'experiment': 3543, 'maci': 3544, 'illeg': 3545, 'robberi': 3546, 'stellar': 3547, 'disgrac': 3548, 'loyal': 3549, 'stir': 3550, 'defens': 3551, 'unhappi': 3552, 'rendit': 3553, 'khan': 3554, 'mayor': 3555, 'robinson': 3556, 'acid': 3557, 'stack': 3558, 'uwe': 3559, 'span': 3560, 'topless': 3561, 'tempt': 3562, 'incomprehens': 3563, 'dicken': 3564, 'psychic': 3565, 'craze': 3566, 'emphasi': 3567, 'scroog': 3568, 'wont': 3569, 'grandfath': 3570, 'counter': 3571, 'diana': 3572, 'declin': 3573, 'blew': 3574, 'fri': 3575, 'dismiss': 3576, 'amanda': 3577, 'rifl': 3578, 'tenant': 3579, 'berlin': 3580, 'recruit': 3581, 'soccer': 3582, 'spider': 3583, 'hartley': 3584, 'ration': 3585, 'wet': 3586, 'justin': 3587, 'niro': 3588, 'revolt': 3589, 'goer': 3590, 'faster': 3591, 'bitch': 3592, 'woo': 3593, 'resurrect': 3594, 'sibl': 3595, 'ethnic': 3596, 'shed': 3597, 'trashi': 3598, 'lumet': 3599, 'intim': 3600, 'parad': 3601, 'sympath': 3602, 'shaw': 3603, 'riot': 3604, 'porno': 3605, 'commend': 3606, 'honesti': 3607, 'weakest': 3608, 'biographi': 3609, 'nephew': 3610, 'gap': 3611, 'region': 3612, 'immort': 3613, 'feminist': 3614, 'wheel': 3615, 'farmer': 3616, 'patriot': 3617, 'ensur': 3618, '00': 3619, 'hesit': 3620, 'jonathan': 3621, 'unreal': 3622, 'dealer': 3623, 'hopper': 3624, 'steam': 3625, 'rider': 3626, 'andr': 3627, 'slick': 3628, 'ballet': 3629, 'eager': 3630, 'enlighten': 3631, 'wendi': 3632, 'mario': 3633, 'partial': 3634, 'choru': 3635, 'worm': 3636, 'lena': 3637, 'macarthur': 3638, 'repress': 3639, 'charlott': 3640, 'prequel': 3641, 'snap': 3642, 'util': 3643, 'safeti': 3644, 'wore': 3645, 'sandra': 3646, 'properti': 3647, 'vice': 3648, 'victori': 3649, 'similarli': 3650, 'hung': 3651, 'sappi': 3652, 'leo': 3653, 'nostalg': 3654, 'blunt': 3655, 'confin': 3656, 'composit': 3657, 'psychopath': 3658, 'mutant': 3659, 'kingdom': 3660, 'owen': 3661, 'skull': 3662, 'morri': 3663, 'franco': 3664, 'dalton': 3665, 'bow': 3666, 'bonu': 3667, 'snl': 3668, 'compens': 3669, 'hyde': 3670, 'tail': 3671, 'exit': 3672, 'campbel': 3673, 'valuabl': 3674, 'tad': 3675, 'despair': 3676, 'speci': 3677, 'strand': 3678, 'nervou': 3679, 'kyle': 3680, 'recycl': 3681, 'compass': 3682, 'farrel': 3683, 'miseri': 3684, 'del': 3685, 'drum': 3686, 'latin': 3687, 'dust': 3688, 'rope': 3689, 'drain': 3690, 'heartbreak': 3691, 'thru': 3692, 'bumbl': 3693, 'repli': 3694, 'acquir': 3695, 'montana': 3696, 'rambl': 3697, 'rocki': 3698, 'pattern': 3699, 'bergman': 3700, 'whoopi': 3701, 'cg': 3702, '1972': 3703, 'deed': 3704, 'emperor': 3705, '35': 3706, 'da': 3707, 'percept': 3708, 'tonight': 3709, 'oppress': 3710, 'chess': 3711, 'bleed': 3712, 'rotten': 3713, 'radic': 3714, 'carradin': 3715, 'contempl': 3716, 'airport': 3717, 'gimmick': 3718, 'martian': 3719, 'wacki': 3720, 'downhil': 3721, 'olli': 3722, 'romp': 3723, 'roth': 3724, 'gal': 3725, 'slug': 3726, 'pour': 3727, 'mistress': 3728, 'orson': 3729, 'rapist': 3730, 'preach': 3731, '1983': 3732, 'taught': 3733, 'tackl': 3734, 'attorney': 3735, 'pervers': 3736, 'pervert': 3737, 'unpredict': 3738, 'belt': 3739, 'arc': 3740, 'heal': 3741, 'programm': 3742, 'stilt': 3743, 'slash': 3744, 'dazzl': 3745, 'mislead': 3746, 'pursuit': 3747, 'shelley': 3748, 'champion': 3749, 'banal': 3750, 'edgar': 3751, 'arguabl': 3752, 'melodi': 3753, 'paltrow': 3754, 'tooth': 3755, 'chicken': 3756, 'orang': 3757, 'mesmer': 3758, 'passeng': 3759, 'conneri': 3760, 'maid': 3761, 'virginia': 3762, 'closest': 3763, 'cleverli': 3764, 'tiresom': 3765, 'employe': 3766, 'franki': 3767, 'graham': 3768, 'sensat': 3769, 'duval': 3770, 'plight': 3771, 'bela': 3772, 'vengeanc': 3773, 'vocal': 3774, 'raymond': 3775, 'uplift': 3776, 'rubi': 3777, 'marti': 3778, 'poem': 3779, 'gambl': 3780, 'dixon': 3781, 'habit': 3782, 'profan': 3783, 'lundgren': 3784, 'extens': 3785, 'giggl': 3786, 'suffic': 3787, 'crystal': 3788, 'amitabh': 3789, 'whine': 3790, 'abraham': 3791, 'engross': 3792, 'secretli': 3793, 'monologu': 3794, 'volum': 3795, 'gerard': 3796, 'iran': 3797, 'mute': 3798, 'swallow': 3799, 'inject': 3800, 'bay': 3801, 'clone': 3802, 'convincingli': 3803, '1968': 3804, 'quarter': 3805, 'tube': 3806, 'outing': 3807, 'climact': 3808, 'calm': 3809, 'paranoia': 3810, 'numb': 3811, 'yawn': 3812, 'scottish': 3813, 'sirk': 3814, 'pokemon': 3815, 'trend': 3816, 'linger': 3817, 'septemb': 3818, 'abort': 3819, 'plod': 3820, 'ethan': 3821, 'junior': 3822, 'lowest': 3823, 'im': 3824, 'profess': 3825, 'taxi': 3826, 'poetri': 3827, 'underst': 3828, 'bend': 3829, 'fed': 3830, 'surpass': 3831, 'frankenstein': 3832, 'nichola': 3833, 'richardson': 3834, 'expand': 3835, 'grotesqu': 3836, 'meander': 3837, 'dispos': 3838, 'backward': 3839, 'earl': 3840, 'franci': 3841, 'austen': 3842, 'chicago': 3843, 'spock': 3844, 'eugen': 3845, 'hum': 3846, 'lure': 3847, 'catchi': 3848, 'household': 3849, 'dysfunct': 3850, 'literatur': 3851, 'simplic': 3852, 'compliment': 3853, 'econom': 3854, 'mundan': 3855, 'sue': 3856, 'nostalgia': 3857, 'cannon': 3858, 'greedi': 3859, 'tourist': 3860, 'descent': 3861, 'rant': 3862, 'rubber': 3863, 'muddl': 3864, 'instrument': 3865, 'waitress': 3866, 'der': 3867, 'myth': 3868, 'spoke': 3869, 'stallon': 3870, 'occupi': 3871, 'eaten': 3872, 'flee': 3873, 'crucial': 3874, 'omen': 3875, 'hello': 3876, 'bacal': 3877, 'dictat': 3878, 'dement': 3879, 'carel': 3880, 'randi': 3881, 'phoni': 3882, 'equival': 3883, 'recognit': 3884, 'june': 3885, 'stale': 3886, 'firstli': 3887, 'phantom': 3888, 'furi': 3889, 'recognis': 3890, 'map': 3891, 'duck': 3892, 'lang': 3893, 'cent': 3894, 'louis': 3895, 'insur': 3896, 'mankind': 3897, 'molli': 3898, 'mortal': 3899, 'alongsid': 3900, 'irrelev': 3901, 'damon': 3902, 'coast': 3903, 'deaf': 3904, 'sissi': 3905, 'reign': 3906, 'blackmail': 3907, 'rude': 3908, 'lengthi': 3909, 'wisdom': 3910, 'newli': 3911, 'buffalo': 3912, 'bump': 3913, 'onlin': 3914, 'labor': 3915, 'antwon': 3916, 'damm': 3917, 'loyalti': 3918, 'dreari': 3919, 'rooney': 3920, 'likewis': 3921, 'heel': 3922, 'daisi': 3923, 'twilight': 3924, '1973': 3925, 'bike': 3926, 'freez': 3927, 'ashley': 3928, 'cyborg': 3929, 'drake': 3930, 'distinguish': 3931, 'biko': 3932, 'grayson': 3933, 'analysi': 3934, 'prey': 3935, 'approv': 3936, 'startl': 3937, 'unorigin': 3938, 'boxer': 3939, 'emphas': 3940, 'chronicl': 3941, 'vein': 3942, 'pink': 3943, 'incorpor': 3944, 'butler': 3945, 'baddi': 3946, 'inher': 3947, 'provoc': 3948, 'proce': 3949, 'barrymor': 3950, 'tunnel': 3951, 'interior': 3952, 'attribut': 3953, 'sailor': 3954, 'ridden': 3955, 'nineti': 3956, 'keith': 3957, 'worn': 3958, 'basketbal': 3959, 'exposur': 3960, 'fleet': 3961, 'drift': 3962, 'stalker': 3963, 'improvis': 3964, 'indiffer': 3965, 'simmon': 3966, 'er': 3967, 'elm': 3968, 'undeni': 3969, 'meg': 3970, 'substitut': 3971, 'mormon': 3972, 'julian': 3973, 'meyer': 3974, 'underli': 3975, 'millionair': 3976, 'unrel': 3977, 'barrel': 3978, 'nicol': 3979, 'walsh': 3980, 'belushi': 3981, 'robbin': 3982, 'degrad': 3983, 'hypnot': 3984, 'bunni': 3985, 'predat': 3986, 'condemn': 3987, 'mighti': 3988, 'carla': 3989, 'othello': 3990, 'enthusiasm': 3991, 'priceless': 3992, 'dolph': 3993, 'hay': 3994, 'disord': 3995, 'roof': 3996, 'nyc': 3997, 'reid': 3998, 'exquisit': 3999, 'shove': 4000, 'firm': 4001, 'vital': 4002, 'alarm': 4003, 'unawar': 4004, 'errol': 4005, 'mtv': 4006, 'novak': 4007, 'agenda': 4008, 'lampoon': 4009, 'warmth': 4010, 'alison': 4011, 'greed': 4012, 'edgi': 4013, 'marion': 4014, 'palac': 4015, '3d': 4016, 'rukh': 4017, 'watson': 4018, 'randomli': 4019, 'ponder': 4020, 'peril': 4021, 'profit': 4022, 'simultan': 4023, 'campaign': 4024, 'crown': 4025, 'petti': 4026, 'glanc': 4027, 'showdown': 4028, 'testament': 4029, 'minimum': 4030, 'distort': 4031, 'sergeant': 4032, 'nun': 4033, 'unleash': 4034, 'eastern': 4035, 'preserv': 4036, 'thompson': 4037, 'valentin': 4038, 'orlean': 4039, 'israel': 4040, 'drip': 4041, 'iraq': 4042, 'what': 4043, 'peck': 4044, 'gestur': 4045, 'coup': 4046, 'pamela': 4047, 'spain': 4048, '1933': 4049, 'zizek': 4050, 'angela': 4051, '13th': 4052, 'session': 4053, 'cassidi': 4054, 'championship': 4055, 'beatl': 4056, 'contradict': 4057, 'exposit': 4058, 'rout': 4059, 'regist': 4060, 'bro': 4061, 'buster': 4062, 'crow': 4063, 'cream': 4064, 'travesti': 4065, 'calib': 4066, 'unimagin': 4067, 'cooki': 4068, 'brenda': 4069, 'reson': 4070, 'stroke': 4071, 'scotland': 4072, 'represent': 4073, 'climat': 4074, 'jan': 4075, 'wig': 4076, 'kurosawa': 4077, 'mon': 4078, 'empathi': 4079, 'shootout': 4080, '1984': 4081, 'gentleman': 4082, 'crawl': 4083, 'perpetu': 4084, 'restrain': 4085, 'han': 4086, 'din': 4087, 'realm': 4088, 'quinn': 4089, 'sabrina': 4090, 'valley': 4091, 'miyazaki': 4092, 'stake': 4093, 'fido': 4094, '1987': 4095, 'abomin': 4096, 'pretens': 4097, 'cloud': 4098, 'geek': 4099, 'derang': 4100, 'sucker': 4101, 'wax': 4102, 'crawford': 4103, 'shaki': 4104, 'unseen': 4105, 'monoton': 4106, 'mclaglen': 4107, 'baldwin': 4108, 'josh': 4109, 'censor': 4110, 'pole': 4111, 'soderbergh': 4112, 'perceiv': 4113, 'shoddi': 4114, 'darren': 4115, 'fuller': 4116, 'distress': 4117, '1997': 4118, 'dana': 4119, 'tacki': 4120, 'warrant': 4121, 'traumat': 4122, 'spacey': 4123, 'femm': 4124, 'delic': 4125, 'passabl': 4126, 'sammi': 4127, 'compromis': 4128, 'demis': 4129, 'painter': 4130, 'greg': 4131, 'businessman': 4132, 'absent': 4133, 'ustinov': 4134, 'ross': 4135, 'meryl': 4136, 'unsatisfi': 4137, 'stargat': 4138, 'primit': 4139, '1993': 4140, 'deniro': 4141, 'polici': 4142, 'click': 4143, 'austin': 4144, 'dee': 4145, 'furiou': 4146, 'tarantino': 4147, 'expedit': 4148, 'seal': 4149, 'jewel': 4150, 'wholli': 4151, 'nathan': 4152, 'exclus': 4153, 'fenc': 4154, 'correctli': 4155, 'unravel': 4156, 'valid': 4157, 'deceas': 4158, 'accuraci': 4159, 'judgment': 4160, 'norm': 4161, 'anchor': 4162, 'tech': 4163, 'kumar': 4164, 'reluct': 4165, 'clash': 4166, 'sid': 4167, 'verbal': 4168, 'uncov': 4169, 'fog': 4170, 'antonioni': 4171, 'crippl': 4172, 'enforc': 4173, 'fart': 4174, 'wretch': 4175, 'sustain': 4176, 'conduct': 4177, 'wang': 4178, 'vanc': 4179, 'joel': 4180, 'patienc': 4181, 'darn': 4182, 'behold': 4183, 'pocket': 4184, 'alec': 4185, 'murray': 4186, 'temper': 4187, 'slam': 4188, '3000': 4189, 'mode': 4190, 'unfair': 4191, 'fought': 4192, 'seldom': 4193, 'debt': 4194, '2008': 4195, 'sunni': 4196, '1995': 4197, 'malon': 4198, 'roller': 4199, 'sand': 4200, 'bake': 4201, 'fabric': 4202, 'clerk': 4203, '1971': 4204, 'logan': 4205, 'tax': 4206, 'nicola': 4207, 'sheet': 4208, 'shanghai': 4209, 'dreck': 4210, 'hallucin': 4211, 'trait': 4212, 'ritual': 4213, 'critiqu': 4214, 'outlin': 4215, 'robber': 4216, 'legaci': 4217, 'preposter': 4218, 'stark': 4219, 'grief': 4220, 'sweep': 4221, 'soup': 4222, 'bridget': 4223, 'helpless': 4224, 'divid': 4225, 'conscious': 4226, 'phil': 4227, 'runner': 4228, 'guitar': 4229, 'scriptwrit': 4230, 'clau': 4231, 'technicolor': 4232, 'shell': 4233, 'tactic': 4234, 'isabel': 4235, 'schedul': 4236, 'penni': 4237, 'bias': 4238, 'stuart': 4239, 'rita': 4240, 'preston': 4241, 'exhaust': 4242, 'canyon': 4243, 'squad': 4244, 'pete': 4245, 'despis': 4246, 'fundament': 4247, 'lacklust': 4248, 'gregori': 4249, 'consciou': 4250, 'invad': 4251, 'cigarett': 4252, 'passag': 4253, 'bloom': 4254, 'propos': 4255, 'sugar': 4256, 'implic': 4257, 'jodi': 4258, 'sniper': 4259, 'jacket': 4260, 'rear': 4261, 'russia': 4262, 'flair': 4263, 'drove': 4264, 'kansa': 4265, 'vomit': 4266, 'inabl': 4267, 'unexpectedli': 4268, 'marc': 4269, 'liberti': 4270, 'culmin': 4271, 'boyl': 4272, 'newman': 4273, 'rehash': 4274, 'palanc': 4275, 'delv': 4276, 'downey': 4277, 'restrict': 4278, 'alley': 4279, 'alicia': 4280, 'connor': 4281, 'agenc': 4282, 'sentinel': 4283, '1936': 4284, 'arrow': 4285, 'feat': 4286, 'cap': 4287, 'pale': 4288, '22': 4289, 'sharon': 4290, 'delet': 4291, 'awhil': 4292, 'lush': 4293, 'chainsaw': 4294, 'vet': 4295, 'behaviour': 4296, 'aesthet': 4297, 'rampag': 4298, 'tendenc': 4299, 'kolchak': 4300, 'improb': 4301, 'yeti': 4302, 'asylum': 4303, 'horn': 4304, 'rehears': 4305, 'tripe': 4306, 'karl': 4307, 'bacon': 4308, 'rod': 4309, 'wrench': 4310, 'ladder': 4311, 'mccoy': 4312, 'foxx': 4313, 'tasteless': 4314, '1978': 4315, 'elit': 4316, 'shortcom': 4317, 'amazon': 4318, 'sung': 4319, 'thunderbird': 4320, '19th': 4321, 'newcom': 4322, 'conscienc': 4323, '1920': 4324, 'fright': 4325, 'basing': 4326, 'loneli': 4327, 'paradis': 4328, 'paramount': 4329, 'minu': 4330, 'underneath': 4331, 'hackney': 4332, 'hulk': 4333, 'financ': 4334, 'globe': 4335, 'wildli': 4336, 'filler': 4337, 'stream': 4338, 'suspicion': 4339, 'coaster': 4340, 'hungri': 4341, 'rumor': 4342, 'el': 4343, 'tomorrow': 4344, 'lurk': 4345, 'rhythm': 4346, '1988': 4347, 'weav': 4348, 'prank': 4349, 'suffici': 4350, 'visitor': 4351, 'spice': 4352, 'scoop': 4353, 'aristocrat': 4354, 'wagner': 4355, 'hopkin': 4356, 'abrupt': 4357, 'entranc': 4358, 'rub': 4359, 'teas': 4360, 'paxton': 4361, 'recogniz': 4362, 'bread': 4363, 'minist': 4364, 'secondari': 4365, 'impos': 4366, 'counterpart': 4367, 'brit': 4368, 'beverli': 4369, 'dirt': 4370, 'couch': 4371, 'en': 4372, 'smell': 4373, 'literari': 4374, '1939': 4375, '75': 4376, 'atroc': 4377, 'straightforward': 4378, 'standout': 4379, 'quietli': 4380, 'naughti': 4381, 'penn': 4382, 'chavez': 4383, 'cancer': 4384, 'curli': 4385, 'springer': 4386, 'lectur': 4387, 'iv': 4388, 'choppi': 4389, 'immers': 4390, 'leigh': 4391, 'grudg': 4392, 'worship': 4393, '1989': 4394, 'posey': 4395, 'ram': 4396, 'chamberlain': 4397, 'wwe': 4398, 'tierney': 4399, 'ingeni': 4400, 'heist': 4401, 'inmat': 4402, 'morbid': 4403, 'heartfelt': 4404, 'injuri': 4405, 'misguid': 4406, 'skeptic': 4407, 'variat': 4408, 'convert': 4409, 'yearn': 4410, 'nolan': 4411, 'nemesi': 4412, 'sassi': 4413, 'missil': 4414, 'cattl': 4415, '1986': 4416, 'moreov': 4417, 'sublim': 4418, 'bernard': 4419, 'lindsay': 4420, 'enthral': 4421, 'watcher': 4422, 'esther': 4423, 'clan': 4424, 'entitl': 4425, 'ratso': 4426, 'transcend': 4427, 'ace': 4428, 'net': 4429, 'laurenc': 4430, 'quaid': 4431, 'policeman': 4432, 'duel': 4433, 'attenborough': 4434, 'geni': 4435, '1979': 4436, 'youngest': 4437, 'carlito': 4438, 'hopelessli': 4439, 'bean': 4440, 'spiral': 4441, 'graini': 4442, 'reliabl': 4443, 'buzz': 4444, 'out': 4445, 'tyler': 4446, 'bye': 4447, 'grin': 4448, 'moder': 4449, 'puppi': 4450, 'dont': 4451, 'brood': 4452, 'cruelti': 4453, 'hk': 4454, 'egg': 4455, 'vader': 4456, 'kidman': 4457, 'characteris': 4458, 'artsi': 4459, 'rosemari': 4460, 'enabl': 4461, 'mytholog': 4462, 'obstacl': 4463, 'kitti': 4464, 'unexplain': 4465, 'steadi': 4466, 'uncut': 4467, 'diari': 4468, 'poe': 4469, 'facil': 4470, 'setup': 4471, 'spontan': 4472, 'heap': 4473, 'christin': 4474, 'underworld': 4475, 'niec': 4476, 'sweat': 4477, 'oblig': 4478, 'exterior': 4479, 'hain': 4480, 'baffl': 4481, 'bewar': 4482, 'martha': 4483, 'kline': 4484, 'despic': 4485, 'patricia': 4486, 'decept': 4487, 'hammi': 4488, 'gina': 4489, 'clueless': 4490, '1969': 4491, 'bounc': 4492, 'brendan': 4493, 'athlet': 4494, 'fuel': 4495, 'weather': 4496, 'disastr': 4497, 'preming': 4498, 'narrow': 4499, 'bronson': 4500, 'acquaint': 4501, 'gillian': 4502, 'effici': 4503, 'loath': 4504, 'headach': 4505, 'mermaid': 4506, 'loi': 4507, '19': 4508, 'mayhem': 4509, 'dandi': 4510, 'scar': 4511, 'goof': 4512, 'virtu': 4513, 'harmless': 4514, 'lester': 4515, 'uh': 4516, 'sooner': 4517, 'trigger': 4518, 'tick': 4519, 'dilemma': 4520, 'biker': 4521, 'rome': 4522, 'angst': 4523, 'preachi': 4524, 'sleepwalk': 4525, 'shatter': 4526, 'candl': 4527, 'injur': 4528, 'suprem': 4529, 'housewif': 4530, '73': 4531, 'outlaw': 4532, 'taboo': 4533, 'renaiss': 4534, 'hepburn': 4535, 'astound': 4536, 'analyz': 4537, 'fontain': 4538, 'enlist': 4539, 'circu': 4540, 'insipid': 4541, 'viewpoint': 4542, 'ebert': 4543, 'cassavet': 4544, 'camcord': 4545, 'whore': 4546, 'dismal': 4547, 'redund': 4548, 'boston': 4549, 'slimi': 4550, 'idol': 4551, 'surgeri': 4552, 'phenomenon': 4553, 'immatur': 4554, 'overlong': 4555, 'zoom': 4556, 'hooker': 4557, 'hokey': 4558, 'salt': 4559, 'stair': 4560, 'glorifi': 4561, 'scorses': 4562, 'sox': 4563, 'corbett': 4564, 'amor': 4565, 'filth': 4566, 'fluff': 4567, 'intric': 4568, 'stimul': 4569, 'gere': 4570, 'steer': 4571, 'guin': 4572, 'claustrophob': 4573, 'spade': 4574, 'tripl': 4575, 'hostag': 4576, 'foolish': 4577, 'contempt': 4578, 'macho': 4579, 'oldest': 4580, 'bent': 4581, 'dish': 4582, 'ariel': 4583, 'assert': 4584, 'shield': 4585, 'down': 4586, 'cow': 4587, 'dwarf': 4588, 'mutual': 4589, 'astronaut': 4590, 'spinal': 4591, 'remad': 4592, '1976': 4593, 'schlock': 4594, 'gabl': 4595, 'keen': 4596, 'fascist': 4597, 'flirt': 4598, 'perman': 4599, 'transplant': 4600, 'alvin': 4601, 'faint': 4602, 'rhyme': 4603, 'conquer': 4604, 'spree': 4605, 'gasp': 4606, 'beard': 4607, 'obligatori': 4608, 'flashi': 4609, 'nolt': 4610, 'frantic': 4611, 'joker': 4612, 'flag': 4613, 'cohen': 4614, 'strongest': 4615, 'radiat': 4616, 'trivia': 4617, 'mount': 4618, 'margin': 4619, 'antagonist': 4620, 'shred': 4621, 'widescreen': 4622, 'naschi': 4623, 'messi': 4624, '1981': 4625, 'preced': 4626, 'harold': 4627, 'cush': 4628, 'corman': 4629, 'muscl': 4630, 'zane': 4631, 'proport': 4632, 'boob': 4633, 'strive': 4634, 'discern': 4635, '95': 4636, 'vaniti': 4637, 'triangl': 4638, 'raj': 4639, 'fishburn': 4640, '1945': 4641, 'mobil': 4642, 'bitten': 4643, 'divin': 4644, 'brush': 4645, 'wield': 4646, 'someday': 4647, 'resum': 4648, 'info': 4649, 'danish': 4650, 'deer': 4651, 'claud': 4652, 'bachelor': 4653, 'inflict': 4654, 'flock': 4655, '28': 4656, 'persuad': 4657, 'repris': 4658, 'scandal': 4659, 'archiv': 4660, 'www': 4661, 'sensual': 4662, 'barn': 4663, 'off': 4664, 'instruct': 4665, 'aborigin': 4666, 'hara': 4667, 'carey': 4668, 'departur': 4669, 'interestingli': 4670, 'neurot': 4671, 'ritchi': 4672, 'mol': 4673, 'casino': 4674, 'frontier': 4675, 'proclaim': 4676, 'kathryn': 4677, 'dame': 4678, 'cb': 4679, 'cher': 4680, 'loretta': 4681, 'colin': 4682, 'pacif': 4683, 'hug': 4684, 'dylan': 4685, 'senior': 4686, 'clad': 4687, 'anton': 4688, 'miracul': 4689, 'cycl': 4690, 'mobster': 4691, 'hapless': 4692, 'melissa': 4693, 'submit': 4694, 'ish': 4695, 'dim': 4696, 'timberlak': 4697, 'traffic': 4698, 'vibrant': 4699, 'wendigo': 4700, 'banter': 4701, 'undermin': 4702, 'recit': 4703, 'hilar': 4704, 'bate': 4705, 'heartwarm': 4706, 'carlo': 4707, 'parson': 4708, 'harrison': 4709, 'artwork': 4710, 'biblic': 4711, 'pickford': 4712, 'earnest': 4713, 'rot': 4714, 'prophet': 4715, 'helm': 4716, 'axe': 4717, 'pixar': 4718, 'luka': 4719, 'fragil': 4720, 'cliffhang': 4721, 'jade': 4722, 'europa': 4723, 'neill': 4724, 'electron': 4725, 'jo': 4726, 'rooki': 4727, 'sicken': 4728, 'pc': 4729, 'razor': 4730, 'token': 4731, 'lui': 4732, 'redneck': 4733, 'marlon': 4734, 'breakfast': 4735, 'jordan': 4736, 'vanessa': 4737, 'lucil': 4738, 'legitim': 4739, 'aris': 4740, 'blatantli': 4741, 'illus': 4742, 'estrang': 4743, 'uma': 4744, 'flavor': 4745, 'misfortun': 4746, 'akin': 4747, 'toronto': 4748, 'northern': 4749, 'articl': 4750, 'static': 4751, 'alexandr': 4752, 'orphan': 4753, 'http': 4754, 'milo': 4755, 'cerebr': 4756, 'winchest': 4757, 'mathieu': 4758, 'wardrob': 4759, 'foil': 4760, 'nope': 4761, 'seedi': 4762, 'choke': 4763, 'venom': 4764, 'holocaust': 4765, 'bikini': 4766, 'eli': 4767, 'isra': 4768, 'shepherd': 4769, 'vile': 4770, 'bondag': 4771, 'mason': 4772, 'antholog': 4773, 'feast': 4774, 'trier': 4775, 'tack': 4776, 'glare': 4777, 'oppon': 4778, 'smack': 4779, 'boyer': 4780, 'affleck': 4781, 'ceremoni': 4782, 'outdat': 4783, 'feminin': 4784, 'magician': 4785, 'retriev': 4786, 'frog': 4787, 'shorter': 4788, 'cartoonish': 4789, 'peer': 4790, 'swept': 4791, 'deem': 4792, 'abund': 4793, 'psych': 4794, 'huston': 4795, 'howl': 4796, 'comprehend': 4797, 'linear': 4798, 'highway': 4799, 'leather': 4800, 'ideolog': 4801, 'styliz': 4802, 'fifth': 4803, 'disregard': 4804, 'audrey': 4805, 'gilbert': 4806, 'knightley': 4807, 'clinic': 4808, 'nightclub': 4809, 'wrestler': 4810, 'dudley': 4811, 'charlton': 4812, 'turd': 4813, 'gunga': 4814, '4th': 4815, 'summar': 4816, '1994': 4817, 'boo': 4818, 'breakdown': 4819, 'deliver': 4820, 'corn': 4821, '1991': 4822, 'senat': 4823, 'client': 4824, 'lighter': 4825, 'btw': 4826, 'greet': 4827, 'cemeteri': 4828, 'uniformli': 4829, 'lavish': 4830, 'monument': 4831, 'conrad': 4832, 'snatch': 4833, 'lifeless': 4834, 'moe': 4835, 'newer': 4836, 'whack': 4837, 'spine': 4838, 'braveheart': 4839, 'plate': 4840, 'sleaz': 4841, 'energet': 4842, 'bastard': 4843, 'mitch': 4844, 'toe': 4845, 'cuban': 4846, 'phenomen': 4847, 'chip': 4848, 'compris': 4849, 'evolut': 4850, 'durat': 4851, 'spawn': 4852, 'salman': 4853, 'einstein': 4854, 'collector': 4855, 'potter': 4856, 'tara': 4857, 'goldsworthi': 4858, 'bogu': 4859, 'kent': 4860, 'clara': 4861, 'jam': 4862, 'alleg': 4863, 'outright': 4864, 'undertak': 4865, 'bulk': 4866, 'ie': 4867, 'replay': 4868, 'liu': 4869, 'mcqueen': 4870, 'eleven': 4871, 'healthi': 4872, 'fluid': 4873, 'wtf': 4874, 'signal': 4875, 'luxuri': 4876, 'judd': 4877, 'appl': 4878, 'constitut': 4879, 'neatli': 4880, 'pronounc': 4881, 'historian': 4882, 'sorrow': 4883, 'firmli': 4884, 'armstrong': 4885, 'creek': 4886, '1974': 4887, 'embark': 4888, 'occup': 4889, 'capot': 4890, 'cecil': 4891, 'kazan': 4892, 'randolph': 4893, 'nina': 4894, 'spectacl': 4895, 'inaccuraci': 4896, 'ol': 4897, 'belli': 4898, 'lex': 4899, 'jule': 4900, 'evelyn': 4901, 'trauma': 4902, '1977': 4903, 'jedi': 4904, 'undead': 4905, 'jare': 4906, 'bori': 4907, 'gilliam': 4908, 'spray': 4909, 'subtli': 4910, 'truman': 4911, 'comb': 4912, 'cape': 4913, 'lauren': 4914, 'forgiven': 4915, 'inaccur': 4916, 'mum': 4917, 'curtain': 4918, 'meal': 4919, 'rosario': 4920, 'comprehens': 4921, 'decapit': 4922, 'congratul': 4923, 'inclus': 4924, 'miami': 4925, 'antonio': 4926, 'miniseri': 4927, 'paula': 4928, 'pepper': 4929, 'porter': 4930, 'blur': 4931, 'sacrif': 4932, 'goldblum': 4933, 'galaxi': 4934, 'roar': 4935, 'vignett': 4936, 'palm': 4937, '1985': 4938, 'kiddi': 4939, 'tokyo': 4940, 'walt': 4941, 'bait': 4942, 'abound': 4943, 'unsuspect': 4944, 'id': 4945, 'knee': 4946, 'genet': 4947, 'aussi': 4948, 'vain': 4949, 'fruit': 4950, 'bsg': 4951, 'unattract': 4952, 'propheci': 4953, 'sidewalk': 4954, 'relentless': 4955, 'poker': 4956, 'ash': 4957, 'groan': 4958, 'conan': 4959, 'carmen': 4960, 'basket': 4961, 'pioneer': 4962, 'lanc': 4963, '21st': 4964, 'hostil': 4965, 'rapidli': 4966, 'dubiou': 4967, 'bravo': 4968, 'ghetto': 4969, 'weaker': 4970, 'drone': 4971, 'spill': 4972, 'assort': 4973, 'masterson': 4974, 'vastli': 4975, 'ingrid': 4976, 'handicap': 4977, 'incorrect': 4978, 'substanti': 4979, 'growth': 4980, 'playboy': 4981, 'victorian': 4982, 'motorcycl': 4983, 'casper': 4984, 'monti': 4985, 'cypher': 4986, 'bach': 4987, 'sparkl': 4988, 'orchestr': 4989, 'evan': 4990, 'verg': 4991, 'weari': 4992, 'frontal': 4993, 'profil': 4994, 'turtl': 4995, 'modest': 4996, 'sophi': 4997, 'epitom': 4998, 'scarfac': 4999}\n"
     ]
    }
   ],
   "source": [
    "word_dict = build_dict(train_X)\n",
    "print(word_dict)"
   ]
  },
  {
   "cell_type": "markdown",
   "metadata": {},
   "source": [
    "**Question:** What are the five most frequently appearing (tokenized) words in the training set? Does it makes sense that these words appear frequently in the training set?"
   ]
  },
  {
   "cell_type": "markdown",
   "metadata": {},
   "source": [
    "**Answer:**\n",
    "* 'movi',  'film', 'one', 'like', 'time'\n",
    "* this is about movie/film review, it makes sense that movie or film is topest word. In a review, 'like' is one frequent work to indicate that review as a positive one"
   ]
  },
  {
   "cell_type": "code",
   "execution_count": 14,
   "metadata": {
    "scrolled": true
   },
   "outputs": [
    {
     "name": "stdout",
     "output_type": "stream",
     "text": [
      "['movi', 'film', 'one', 'like', 'time']\n"
     ]
    }
   ],
   "source": [
    "# TODO: Use this space to determine the five most frequently appearing words in the training set.\n",
    "print(list(word_dict.keys())[:5])\n"
   ]
  },
  {
   "cell_type": "markdown",
   "metadata": {},
   "source": [
    "### Save `word_dict`\n",
    "\n",
    "Later on when we construct an endpoint which processes a submitted review we will need to make use of the `word_dict` which we have created. As such, we will save it to a file now for future use."
   ]
  },
  {
   "cell_type": "code",
   "execution_count": 15,
   "metadata": {
    "scrolled": true
   },
   "outputs": [],
   "source": [
    "data_dir = '../data/pytorch' # The folder we will use for storing data\n",
    "if not os.path.exists(data_dir): # Make sure that the folder exists\n",
    "    os.makedirs(data_dir)"
   ]
  },
  {
   "cell_type": "code",
   "execution_count": 16,
   "metadata": {
    "scrolled": true
   },
   "outputs": [],
   "source": [
    "with open(os.path.join(data_dir, 'word_dict.pkl'), \"wb\") as f:\n",
    "    pickle.dump(word_dict, f)"
   ]
  },
  {
   "cell_type": "markdown",
   "metadata": {},
   "source": [
    "### Transform the reviews\n",
    "\n",
    "Now that we have our word dictionary which allows us to transform the words appearing in the reviews into integers, it is time to make use of it and convert our reviews to their integer sequence representation, making sure to pad or truncate to a fixed length, which in our case is `500`."
   ]
  },
  {
   "cell_type": "code",
   "execution_count": 17,
   "metadata": {
    "scrolled": true
   },
   "outputs": [],
   "source": [
    "def convert_and_pad(word_dict, sentence, pad=500):\n",
    "    NOWORD = 0 # We will use 0 to represent the 'no word' category\n",
    "    INFREQ = 1 # and we use 1 to represent the infrequent words, i.e., words not appearing in word_dict\n",
    "    \n",
    "    working_sentence = [NOWORD] * pad\n",
    "    \n",
    "    for word_index, word in enumerate(sentence[:pad]):\n",
    "        if word in word_dict:\n",
    "            working_sentence[word_index] = word_dict[word]\n",
    "        else:\n",
    "            working_sentence[word_index] = INFREQ\n",
    "            \n",
    "    return working_sentence, min(len(sentence), pad)\n",
    "\n",
    "def convert_and_pad_data(word_dict, data, pad=500):\n",
    "    result = []\n",
    "    lengths = []\n",
    "    \n",
    "    for sentence in data:\n",
    "        converted, leng = convert_and_pad(word_dict, sentence, pad)\n",
    "        result.append(converted)\n",
    "        lengths.append(leng)\n",
    "        \n",
    "    return np.array(result), np.array(lengths)"
   ]
  },
  {
   "cell_type": "code",
   "execution_count": 18,
   "metadata": {
    "scrolled": true
   },
   "outputs": [],
   "source": [
    "train_X, train_X_len = convert_and_pad_data(word_dict, train_X)\n",
    "test_X, test_X_len = convert_and_pad_data(word_dict, test_X)"
   ]
  },
  {
   "cell_type": "markdown",
   "metadata": {},
   "source": [
    "As a quick check to make sure that things are working as intended, check to see what one of the reviews in the training set looks like after having been processeed. Does this look reasonable? What is the length of a review in the training set?"
   ]
  },
  {
   "cell_type": "code",
   "execution_count": 19,
   "metadata": {
    "scrolled": true
   },
   "outputs": [
    {
     "name": "stdout",
     "output_type": "stream",
     "text": [
      "[ 779  573 1300  573   47    2  899  156  240 1444  411  623   41    2\n",
      "  333    5  187    1    1   32  434  111  386    1  368  108  109   22\n",
      " 1718    1  729    1 1210   88 1718  715   22   29 1834  109  334  370\n",
      "  875  834  124  486   15  592  729   29  256  311    5   22 2282 1785\n",
      "    7   56 1784  497   17   47   58   27  387   94    3 3934  220  764\n",
      " 2547 1848  462  638   13 1203  117    5   21    0    0    0    0    0\n",
      "    0    0    0    0    0    0    0    0    0    0    0    0    0    0\n",
      "    0    0    0    0    0    0    0    0    0    0    0    0    0    0\n",
      "    0    0    0    0    0    0    0    0    0    0    0    0    0    0\n",
      "    0    0    0    0    0    0    0    0    0    0    0    0    0    0\n",
      "    0    0    0    0    0    0    0    0    0    0    0    0    0    0\n",
      "    0    0    0    0    0    0    0    0    0    0    0    0    0    0\n",
      "    0    0    0    0    0    0    0    0    0    0    0    0    0    0\n",
      "    0    0    0    0    0    0    0    0    0    0    0    0    0    0\n",
      "    0    0    0    0    0    0    0    0    0    0    0    0    0    0\n",
      "    0    0    0    0    0    0    0    0    0    0    0    0    0    0\n",
      "    0    0    0    0    0    0    0    0    0    0    0    0    0    0\n",
      "    0    0    0    0    0    0    0    0    0    0    0    0    0    0\n",
      "    0    0    0    0    0    0    0    0    0    0    0    0    0    0\n",
      "    0    0    0    0    0    0    0    0    0    0    0    0    0    0\n",
      "    0    0    0    0    0    0    0    0    0    0    0    0    0    0\n",
      "    0    0    0    0    0    0    0    0    0    0    0    0    0    0\n",
      "    0    0    0    0    0    0    0    0    0    0    0    0    0    0\n",
      "    0    0    0    0    0    0    0    0    0    0    0    0    0    0\n",
      "    0    0    0    0    0    0    0    0    0    0    0    0    0    0\n",
      "    0    0    0    0    0    0    0    0    0    0    0    0    0    0\n",
      "    0    0    0    0    0    0    0    0    0    0    0    0    0    0\n",
      "    0    0    0    0    0    0    0    0    0    0    0    0    0    0\n",
      "    0    0    0    0    0    0    0    0    0    0    0    0    0    0\n",
      "    0    0    0    0    0    0    0    0    0    0    0    0    0    0\n",
      "    0    0    0    0    0    0    0    0    0    0    0    0    0    0\n",
      "    0    0    0    0    0    0    0    0    0    0    0    0    0    0\n",
      "    0    0    0    0    0    0    0    0    0    0    0    0    0    0\n",
      "    0    0    0    0    0    0    0    0    0    0    0    0    0    0\n",
      "    0    0    0    0    0    0    0    0    0    0    0    0    0    0\n",
      "    0    0    0    0    0    0    0    0    0    0]\n"
     ]
    }
   ],
   "source": [
    "# Use this cell to examine one of the processed reviews to make sure everything is working as intended.\n",
    "print(train_X[100])"
   ]
  },
  {
   "cell_type": "markdown",
   "metadata": {},
   "source": [
    "**Question:** In the cells above we use the `preprocess_data` and `convert_and_pad_data` methods to process both the training and testing set. Why or why not might this be a problem?"
   ]
  },
  {
   "cell_type": "markdown",
   "metadata": {},
   "source": [
    "**Answer:**\n",
    "* this should be ok, the main reason is that the word_dict is generated based on train_X, not test_X"
   ]
  },
  {
   "cell_type": "markdown",
   "metadata": {},
   "source": [
    "## Step 3: Upload the data to S3\n",
    "\n",
    "As in the XGBoost notebook, we will need to upload the training dataset to S3 in order for our training code to access it. For now we will save it locally and we will upload to S3 later on.\n",
    "\n",
    "### Save the processed training dataset locally\n",
    "\n",
    "It is important to note the format of the data that we are saving as we will need to know it when we write the training code. In our case, each row of the dataset has the form `label`, `length`, `review[500]` where `review[500]` is a sequence of `500` integers representing the words in the review."
   ]
  },
  {
   "cell_type": "code",
   "execution_count": 20,
   "metadata": {
    "scrolled": true
   },
   "outputs": [],
   "source": [
    "import pandas as pd\n",
    "    \n",
    "pd.concat([pd.DataFrame(train_y), pd.DataFrame(train_X_len), pd.DataFrame(train_X)], axis=1) \\\n",
    "        .to_csv(os.path.join(data_dir, 'train.csv'), header=False, index=False)"
   ]
  },
  {
   "cell_type": "markdown",
   "metadata": {},
   "source": [
    "### Uploading the training data\n",
    "\n",
    "\n",
    "Next, we need to upload the training data to the SageMaker default S3 bucket so that we can provide access to it while training our model."
   ]
  },
  {
   "cell_type": "code",
   "execution_count": 21,
   "metadata": {
    "scrolled": true
   },
   "outputs": [],
   "source": [
    "import sagemaker\n",
    "\n",
    "sagemaker_session = sagemaker.Session()\n",
    "\n",
    "bucket = sagemaker_session.default_bucket()\n",
    "prefix = 'sagemaker/sentiment_rnn'\n",
    "\n",
    "role = sagemaker.get_execution_role()"
   ]
  },
  {
   "cell_type": "code",
   "execution_count": 22,
   "metadata": {
    "scrolled": true
   },
   "outputs": [],
   "source": [
    "input_data = sagemaker_session.upload_data(path=data_dir, bucket=bucket, key_prefix=prefix)"
   ]
  },
  {
   "cell_type": "markdown",
   "metadata": {},
   "source": [
    "**NOTE:** The cell above uploads the entire contents of our data directory. This includes the `word_dict.pkl` file. This is fortunate as we will need this later on when we create an endpoint that accepts an arbitrary review. For now, we will just take note of the fact that it resides in the data directory (and so also in the S3 training bucket) and that we will need to make sure it gets saved in the model directory."
   ]
  },
  {
   "cell_type": "markdown",
   "metadata": {},
   "source": [
    "## Step 4: Build and Train the PyTorch Model\n",
    "\n",
    "In the XGBoost notebook we discussed what a model is in the SageMaker framework. In particular, a model comprises three objects\n",
    "\n",
    " - Model Artifacts,\n",
    " - Training Code, and\n",
    " - Inference Code,\n",
    " \n",
    "each of which interact with one another. In the XGBoost example we used training and inference code that was provided by Amazon. Here we will still be using containers provided by Amazon with the added benefit of being able to include our own custom code.\n",
    "\n",
    "We will start by implementing our own neural network in PyTorch along with a training script. For the purposes of this project we have provided the necessary model object in the `model.py` file, inside of the `train` folder. You can see the provided implementation by running the cell below."
   ]
  },
  {
   "cell_type": "code",
   "execution_count": 23,
   "metadata": {
    "scrolled": true
   },
   "outputs": [
    {
     "name": "stdout",
     "output_type": "stream",
     "text": [
      "\u001b[34mimport\u001b[39;49;00m \u001b[04m\u001b[36mtorch.nn\u001b[39;49;00m \u001b[34mas\u001b[39;49;00m \u001b[04m\u001b[36mnn\u001b[39;49;00m\r\n",
      "\r\n",
      "\u001b[34mclass\u001b[39;49;00m \u001b[04m\u001b[32mLSTMClassifier\u001b[39;49;00m(nn.Module):\r\n",
      "    \u001b[33m\"\"\"\u001b[39;49;00m\r\n",
      "\u001b[33m    This is the simple RNN model we will be using to perform Sentiment Analysis.\u001b[39;49;00m\r\n",
      "\u001b[33m    \"\"\"\u001b[39;49;00m\r\n",
      "\r\n",
      "    \u001b[34mdef\u001b[39;49;00m \u001b[32m__init__\u001b[39;49;00m(\u001b[36mself\u001b[39;49;00m, embedding_dim, hidden_dim, vocab_size):\r\n",
      "        \u001b[33m\"\"\"\u001b[39;49;00m\r\n",
      "\u001b[33m        Initialize the model by settingg up the various layers.\u001b[39;49;00m\r\n",
      "\u001b[33m        \"\"\"\u001b[39;49;00m\r\n",
      "        \u001b[36msuper\u001b[39;49;00m(LSTMClassifier, \u001b[36mself\u001b[39;49;00m).\u001b[32m__init__\u001b[39;49;00m()\r\n",
      "\r\n",
      "        \u001b[36mself\u001b[39;49;00m.embedding = nn.Embedding(vocab_size, embedding_dim, padding_idx=\u001b[34m0\u001b[39;49;00m)\r\n",
      "        \u001b[36mself\u001b[39;49;00m.lstm = nn.LSTM(embedding_dim, hidden_dim)\r\n",
      "        \u001b[36mself\u001b[39;49;00m.dense = nn.Linear(in_features=hidden_dim, out_features=\u001b[34m1\u001b[39;49;00m)\r\n",
      "        \u001b[36mself\u001b[39;49;00m.sig = nn.Sigmoid()\r\n",
      "        \r\n",
      "        \u001b[36mself\u001b[39;49;00m.word_dict = \u001b[36mNone\u001b[39;49;00m\r\n",
      "\r\n",
      "    \u001b[34mdef\u001b[39;49;00m \u001b[32mforward\u001b[39;49;00m(\u001b[36mself\u001b[39;49;00m, x):\r\n",
      "        \u001b[33m\"\"\"\u001b[39;49;00m\r\n",
      "\u001b[33m        Perform a forward pass of our model on some input.\u001b[39;49;00m\r\n",
      "\u001b[33m        \"\"\"\u001b[39;49;00m\r\n",
      "        x = x.t()\r\n",
      "        lengths = x[\u001b[34m0\u001b[39;49;00m,:]\r\n",
      "        reviews = x[\u001b[34m1\u001b[39;49;00m:,:]\r\n",
      "        embeds = \u001b[36mself\u001b[39;49;00m.embedding(reviews)\r\n",
      "        lstm_out, _ = \u001b[36mself\u001b[39;49;00m.lstm(embeds)\r\n",
      "        out = \u001b[36mself\u001b[39;49;00m.dense(lstm_out)\r\n",
      "        out = out[lengths - \u001b[34m1\u001b[39;49;00m, \u001b[36mrange\u001b[39;49;00m(\u001b[36mlen\u001b[39;49;00m(lengths))]\r\n",
      "        \u001b[34mreturn\u001b[39;49;00m \u001b[36mself\u001b[39;49;00m.sig(out.squeeze())\r\n"
     ]
    }
   ],
   "source": [
    "!pygmentize train/model.py"
   ]
  },
  {
   "cell_type": "markdown",
   "metadata": {},
   "source": [
    "The important takeaway from the implementation provided is that there are three parameters that we may wish to tweak to improve the performance of our model. These are the embedding dimension, the hidden dimension and the size of the vocabulary. We will likely want to make these parameters configurable in the training script so that if we wish to modify them we do not need to modify the script itself. We will see how to do this later on. To start we will write some of the training code in the notebook so that we can more easily diagnose any issues that arise.\n",
    "\n",
    "First we will load a small portion of the training data set to use as a sample. It would be very time consuming to try and train the model completely in the notebook as we do not have access to a gpu and the compute instance that we are using is not particularly powerful. However, we can work on a small bit of the data to get a feel for how our training script is behaving."
   ]
  },
  {
   "cell_type": "code",
   "execution_count": 24,
   "metadata": {
    "scrolled": true
   },
   "outputs": [],
   "source": [
    "import torch\n",
    "import torch.utils.data\n",
    "\n",
    "# Read in only the first 250 rows\n",
    "train_sample = pd.read_csv(os.path.join(data_dir, 'train.csv'), header=None, names=None, nrows=250)\n",
    "\n",
    "# Turn the input pandas dataframe into tensors\n",
    "train_sample_y = torch.from_numpy(train_sample[[0]].values).float().squeeze()\n",
    "train_sample_X = torch.from_numpy(train_sample.drop([0], axis=1).values).long()\n",
    "\n",
    "# Build the dataset\n",
    "train_sample_ds = torch.utils.data.TensorDataset(train_sample_X, train_sample_y)\n",
    "# Build the dataloader\n",
    "train_sample_dl = torch.utils.data.DataLoader(train_sample_ds, batch_size=50)"
   ]
  },
  {
   "cell_type": "markdown",
   "metadata": {},
   "source": [
    "### (TODO) Writing the training method\n",
    "\n",
    "Next we need to write the training code itself. This should be very similar to training methods that you have written before to train PyTorch models. We will leave any difficult aspects such as model saving / loading and parameter loading until a little later."
   ]
  },
  {
   "cell_type": "code",
   "execution_count": 25,
   "metadata": {
    "scrolled": true
   },
   "outputs": [],
   "source": [
    "def train(model, train_loader, epochs, optimizer, loss_fn, device):\n",
    "    for epoch in range(1, epochs + 1):\n",
    "        model.train()\n",
    "        total_loss = 0\n",
    "        for batch in train_loader:         \n",
    "            batch_X, batch_y = batch\n",
    "            \n",
    "            batch_X = batch_X.to(device)\n",
    "            batch_y = batch_y.to(device)\n",
    "            \n",
    "            # TODO: Complete this train method to train the model provided.\n",
    "            model.zero_grad()\n",
    "            output = model(batch_X)\n",
    "            loss = loss_fn(output.squeeze(), batch_y.float())\n",
    "            loss.backward()\n",
    "            torch.nn.utils.clip_grad_norm_(model.parameters(), 5)\n",
    "            optimizer.step()\n",
    "            total_loss += loss.data.item()\n",
    "        print(\"Epoch: {}, BCELoss: {}\".format(epoch, total_loss / len(train_loader)))"
   ]
  },
  {
   "cell_type": "markdown",
   "metadata": {},
   "source": [
    "Supposing we have the training method above, we will test that it is working by writing a bit of code in the notebook that executes our training method on the small sample training set that we loaded earlier. The reason for doing this in the notebook is so that we have an opportunity to fix any errors that arise early when they are easier to diagnose."
   ]
  },
  {
   "cell_type": "code",
   "execution_count": 26,
   "metadata": {
    "scrolled": true
   },
   "outputs": [
    {
     "name": "stdout",
     "output_type": "stream",
     "text": [
      "Epoch: 1, BCELoss: 0.6929678320884705\n",
      "Epoch: 2, BCELoss: 0.6827900767326355\n",
      "Epoch: 3, BCELoss: 0.6742576479911804\n",
      "Epoch: 4, BCELoss: 0.6653390288352966\n",
      "Epoch: 5, BCELoss: 0.6551934242248535\n"
     ]
    }
   ],
   "source": [
    "import torch.optim as optim\n",
    "from train.model import LSTMClassifier\n",
    "\n",
    "device = torch.device(\"cuda\" if torch.cuda.is_available() else \"cpu\")\n",
    "model = LSTMClassifier(32, 100, 5000).to(device)\n",
    "optimizer = optim.Adam(model.parameters())\n",
    "loss_fn = torch.nn.BCELoss()\n",
    "\n",
    "train(model, train_sample_dl, 5, optimizer, loss_fn, device)"
   ]
  },
  {
   "cell_type": "markdown",
   "metadata": {},
   "source": [
    "In order to construct a PyTorch model using SageMaker we must provide SageMaker with a training script. We may optionally include a directory which will be copied to the container and from which our training code will be run. When the training container is executed it will check the uploaded directory (if there is one) for a `requirements.txt` file and install any required Python libraries, after which the training script will be run."
   ]
  },
  {
   "cell_type": "markdown",
   "metadata": {},
   "source": [
    "### (TODO) Training the model\n",
    "\n",
    "When a PyTorch model is constructed in SageMaker, an entry point must be specified. This is the Python file which will be executed when the model is trained. Inside of the `train` directory is a file called `train.py` which has been provided and which contains most of the necessary code to train our model. The only thing that is missing is the implementation of the `train()` method which you wrote earlier in this notebook.\n",
    "\n",
    "**TODO**: Copy the `train()` method written above and paste it into the `train/train.py` file where required.\n",
    "\n",
    "The way that SageMaker passes hyperparameters to the training script is by way of arguments. These arguments can then be parsed and used in the training script. To see how this is done take a look at the provided `train/train.py` file."
   ]
  },
  {
   "cell_type": "code",
   "execution_count": 34,
   "metadata": {
    "scrolled": true
   },
   "outputs": [],
   "source": [
    "from sagemaker.pytorch import PyTorch\n",
    "\n",
    "estimator = PyTorch(entry_point=\"train.py\",\n",
    "                    source_dir=\"train\",\n",
    "                    role=role,\n",
    "                    framework_version='0.4.0',\n",
    "                    train_instance_count=1,\n",
    "                    train_instance_type='ml.p2.xlarge',\n",
    "                    hyperparameters={\n",
    "                        'epochs': 20,\n",
    "                        'hidden_dim': 200,\n",
    "                    })"
   ]
  },
  {
   "cell_type": "code",
   "execution_count": 35,
   "metadata": {
    "scrolled": true
   },
   "outputs": [
    {
     "name": "stderr",
     "output_type": "stream",
     "text": [
      "INFO:sagemaker:Creating training-job with name: sagemaker-pytorch-2019-02-20-05-51-16-494\n"
     ]
    },
    {
     "name": "stdout",
     "output_type": "stream",
     "text": [
      "2019-02-20 05:51:16 Starting - Starting the training job...\n",
      "2019-02-20 05:51:18 Starting - Launching requested ML instances......\n",
      "2019-02-20 05:52:18 Starting - Preparing the instances for training......\n",
      "2019-02-20 05:53:33 Downloading - Downloading input data\n",
      "2019-02-20 05:53:33 Training - Downloading the training image......\n",
      "2019-02-20 05:54:31 Training - Training image download completed. Training in progress.\n",
      "\u001b[31mbash: cannot set terminal process group (-1): Inappropriate ioctl for device\u001b[0m\n",
      "\u001b[31mbash: no job control in this shell\u001b[0m\n",
      "\u001b[31m2019-02-20 05:54:33,122 sagemaker-containers INFO     Imported framework sagemaker_pytorch_container.training\u001b[0m\n",
      "\u001b[31m2019-02-20 05:54:33,147 sagemaker_pytorch_container.training INFO     Block until all host DNS lookups succeed.\u001b[0m\n",
      "\u001b[31m2019-02-20 05:54:33,154 sagemaker_pytorch_container.training INFO     Invoking user training script.\u001b[0m\n",
      "\u001b[31m2019-02-20 05:54:33,429 sagemaker-containers INFO     Module train does not provide a setup.py. \u001b[0m\n",
      "\u001b[31mGenerating setup.py\u001b[0m\n",
      "\u001b[31m2019-02-20 05:54:33,429 sagemaker-containers INFO     Generating setup.cfg\u001b[0m\n",
      "\u001b[31m2019-02-20 05:54:33,429 sagemaker-containers INFO     Generating MANIFEST.in\u001b[0m\n",
      "\u001b[31m2019-02-20 05:54:33,429 sagemaker-containers INFO     Installing module with the following command:\u001b[0m\n",
      "\u001b[31m/usr/bin/python -m pip install -U . -r requirements.txt\u001b[0m\n",
      "\u001b[31mProcessing /opt/ml/code\u001b[0m\n",
      "\u001b[31mCollecting pandas (from -r requirements.txt (line 1))\n",
      "  Downloading https://files.pythonhosted.org/packages/e2/a3/c42cd52e40527ba35aed53a988c485ffeddbae0722b8b756da82464baa73/pandas-0.24.1-cp35-cp35m-manylinux1_x86_64.whl (10.0MB)\u001b[0m\n",
      "\u001b[31mCollecting numpy (from -r requirements.txt (line 2))\n",
      "  Downloading https://files.pythonhosted.org/packages/ad/15/690c13ae714e156491392cdbdbf41b485d23c285aa698239a67f7cfc9e0a/numpy-1.16.1-cp35-cp35m-manylinux1_x86_64.whl (17.2MB)\u001b[0m\n",
      "\u001b[31mCollecting nltk (from -r requirements.txt (line 3))\n",
      "  Downloading https://files.pythonhosted.org/packages/6f/ed/9c755d357d33bc1931e157f537721efb5b88d2c583fe593cc09603076cc3/nltk-3.4.zip (1.4MB)\u001b[0m\n",
      "\u001b[31mCollecting beautifulsoup4 (from -r requirements.txt (line 4))\n",
      "  Downloading https://files.pythonhosted.org/packages/1d/5d/3260694a59df0ec52f8b4883f5d23b130bc237602a1411fa670eae12351e/beautifulsoup4-4.7.1-py3-none-any.whl (94kB)\u001b[0m\n",
      "\u001b[31mCollecting html5lib (from -r requirements.txt (line 5))\n",
      "  Downloading https://files.pythonhosted.org/packages/a5/62/bbd2be0e7943ec8504b517e62bab011b4946e1258842bc159e5dfde15b96/html5lib-1.0.1-py2.py3-none-any.whl (117kB)\u001b[0m\n",
      "\u001b[31mRequirement already satisfied, skipping upgrade: python-dateutil>=2.5.0 in /usr/local/lib/python3.5/dist-packages (from pandas->-r requirements.txt (line 1)) (2.7.5)\u001b[0m\n",
      "\u001b[31mCollecting pytz>=2011k (from pandas->-r requirements.txt (line 1))\u001b[0m\n",
      "\u001b[31m  Downloading https://files.pythonhosted.org/packages/61/28/1d3920e4d1d50b19bc5d24398a7cd85cc7b9a75a490570d5a30c57622d34/pytz-2018.9-py2.py3-none-any.whl (510kB)\u001b[0m\n",
      "\u001b[31mRequirement already satisfied, skipping upgrade: six in /usr/local/lib/python3.5/dist-packages (from nltk->-r requirements.txt (line 3)) (1.11.0)\u001b[0m\n",
      "\u001b[31mCollecting singledispatch (from nltk->-r requirements.txt (line 3))\n",
      "  Downloading https://files.pythonhosted.org/packages/c5/10/369f50bcd4621b263927b0a1519987a04383d4a98fb10438042ad410cf88/singledispatch-3.4.0.3-py2.py3-none-any.whl\u001b[0m\n",
      "\u001b[31mCollecting soupsieve>=1.2 (from beautifulsoup4->-r requirements.txt (line 4))\n",
      "  Downloading https://files.pythonhosted.org/packages/77/78/bca00cc9fa70bba1226ee70a42bf375c4e048fe69066a0d9b5e69bc2a79a/soupsieve-1.8-py2.py3-none-any.whl (88kB)\u001b[0m\n",
      "\u001b[31mCollecting webencodings (from html5lib->-r requirements.txt (line 5))\n",
      "  Downloading https://files.pythonhosted.org/packages/f4/24/2a3e3df732393fed8b3ebf2ec078f05546de641fe1b667ee316ec1dcf3b7/webencodings-0.5.1-py2.py3-none-any.whl\u001b[0m\n",
      "\u001b[31mBuilding wheels for collected packages: nltk, train\n",
      "  Running setup.py bdist_wheel for nltk: started\u001b[0m\n",
      "\u001b[31m  Running setup.py bdist_wheel for nltk: finished with status 'done'\n",
      "  Stored in directory: /root/.cache/pip/wheels/4b/c8/24/b2343664bcceb7147efeb21c0b23703a05b23fcfeaceaa2a1e\n",
      "  Running setup.py bdist_wheel for train: started\n",
      "  Running setup.py bdist_wheel for train: finished with status 'done'\n",
      "  Stored in directory: /tmp/pip-ephem-wheel-cache-c8q0bxxh/wheels/35/24/16/37574d11bf9bde50616c67372a334f94fa8356bc7164af8ca3\u001b[0m\n",
      "\u001b[31mSuccessfully built nltk train\u001b[0m\n",
      "\u001b[31mInstalling collected packages: pytz, numpy, pandas, singledispatch, nltk, soupsieve, beautifulsoup4, webencodings, html5lib, train\n",
      "  Found existing installation: numpy 1.15.4\n",
      "    Uninstalling numpy-1.15.4:\u001b[0m\n",
      "\u001b[31m      Successfully uninstalled numpy-1.15.4\u001b[0m\n",
      "\u001b[31mSuccessfully installed beautifulsoup4-4.7.1 html5lib-1.0.1 nltk-3.4 numpy-1.16.1 pandas-0.24.1 pytz-2018.9 singledispatch-3.4.0.3 soupsieve-1.8 train-1.0.0 webencodings-0.5.1\u001b[0m\n",
      "\u001b[31mYou are using pip version 18.1, however version 19.0.2 is available.\u001b[0m\n",
      "\u001b[31mYou should consider upgrading via the 'pip install --upgrade pip' command.\u001b[0m\n",
      "\u001b[31m2019-02-20 05:54:45,420 sagemaker-containers INFO     Invoking user script\n",
      "\u001b[0m\n",
      "\u001b[31mTraining Env:\n",
      "\u001b[0m\n",
      "\u001b[31m{\n",
      "    \"num_cpus\": 4,\n",
      "    \"input_dir\": \"/opt/ml/input\",\n",
      "    \"output_dir\": \"/opt/ml/output\",\n",
      "    \"current_host\": \"algo-1\",\n",
      "    \"input_config_dir\": \"/opt/ml/input/config\",\n",
      "    \"output_intermediate_dir\": \"/opt/ml/output/intermediate\",\n",
      "    \"job_name\": \"sagemaker-pytorch-2019-02-20-05-51-16-494\",\n",
      "    \"hosts\": [\n",
      "        \"algo-1\"\n",
      "    ],\n",
      "    \"output_data_dir\": \"/opt/ml/output/data\",\n",
      "    \"module_dir\": \"s3://sagemaker-us-east-2-220692837633/sagemaker-pytorch-2019-02-20-05-51-16-494/source/sourcedir.tar.gz\",\n",
      "    \"hyperparameters\": {\n",
      "        \"epochs\": 20,\n",
      "        \"hidden_dim\": 200\n",
      "    },\n",
      "    \"user_entry_point\": \"train.py\",\n",
      "    \"input_data_config\": {\n",
      "        \"training\": {\n",
      "            \"TrainingInputMode\": \"File\",\n",
      "            \"S3DistributionType\": \"FullyReplicated\",\n",
      "            \"RecordWrapperType\": \"None\"\n",
      "        }\n",
      "    },\n",
      "    \"resource_config\": {\n",
      "        \"network_interface_name\": \"ethwe\",\n",
      "        \"current_host\": \"algo-1\",\n",
      "        \"hosts\": [\n",
      "            \"algo-1\"\n",
      "        ]\n",
      "    },\n",
      "    \"channel_input_dirs\": {\n",
      "        \"training\": \"/opt/ml/input/data/training\"\n",
      "    },\n",
      "    \"additional_framework_parameters\": {},\n",
      "    \"network_interface_name\": \"ethwe\",\n",
      "    \"num_gpus\": 1,\n",
      "    \"model_dir\": \"/opt/ml/model\",\n",
      "    \"framework_module\": \"sagemaker_pytorch_container.training:main\",\n",
      "    \"module_name\": \"train\",\n",
      "    \"log_level\": 20\u001b[0m\n",
      "\u001b[31m}\n",
      "\u001b[0m\n",
      "\u001b[31mEnvironment variables:\n",
      "\u001b[0m\n",
      "\u001b[31mSM_OUTPUT_DIR=/opt/ml/output\u001b[0m\n",
      "\u001b[31mSM_INPUT_DATA_CONFIG={\"training\":{\"RecordWrapperType\":\"None\",\"S3DistributionType\":\"FullyReplicated\",\"TrainingInputMode\":\"File\"}}\u001b[0m\n",
      "\u001b[31mSM_HP_HIDDEN_DIM=200\u001b[0m\n",
      "\u001b[31mSM_HPS={\"epochs\":20,\"hidden_dim\":200}\u001b[0m\n",
      "\u001b[31mSM_USER_ENTRY_POINT=train.py\u001b[0m\n",
      "\u001b[31mSM_USER_ARGS=[\"--epochs\",\"20\",\"--hidden_dim\",\"200\"]\u001b[0m\n",
      "\u001b[31mSM_RESOURCE_CONFIG={\"current_host\":\"algo-1\",\"hosts\":[\"algo-1\"],\"network_interface_name\":\"ethwe\"}\u001b[0m\n",
      "\u001b[31mSM_TRAINING_ENV={\"additional_framework_parameters\":{},\"channel_input_dirs\":{\"training\":\"/opt/ml/input/data/training\"},\"current_host\":\"algo-1\",\"framework_module\":\"sagemaker_pytorch_container.training:main\",\"hosts\":[\"algo-1\"],\"hyperparameters\":{\"epochs\":20,\"hidden_dim\":200},\"input_config_dir\":\"/opt/ml/input/config\",\"input_data_config\":{\"training\":{\"RecordWrapperType\":\"None\",\"S3DistributionType\":\"FullyReplicated\",\"TrainingInputMode\":\"File\"}},\"input_dir\":\"/opt/ml/input\",\"job_name\":\"sagemaker-pytorch-2019-02-20-05-51-16-494\",\"log_level\":20,\"model_dir\":\"/opt/ml/model\",\"module_dir\":\"s3://sagemaker-us-east-2-220692837633/sagemaker-pytorch-2019-02-20-05-51-16-494/source/sourcedir.tar.gz\",\"module_name\":\"train\",\"network_interface_name\":\"ethwe\",\"num_cpus\":4,\"num_gpus\":1,\"output_data_dir\":\"/opt/ml/output/data\",\"output_dir\":\"/opt/ml/output\",\"output_intermediate_dir\":\"/opt/ml/output/intermediate\",\"resource_config\":{\"current_host\":\"algo-1\",\"hosts\":[\"algo-1\"],\"network_interface_name\":\"ethwe\"},\"user_entry_point\":\"train.py\"}\u001b[0m\n",
      "\u001b[31mSM_HOSTS=[\"algo-1\"]\u001b[0m\n",
      "\u001b[31mSM_INPUT_DIR=/opt/ml/input\u001b[0m\n",
      "\u001b[31mSM_INPUT_CONFIG_DIR=/opt/ml/input/config\u001b[0m\n",
      "\u001b[31mSM_NUM_GPUS=1\u001b[0m\n",
      "\u001b[31mPYTHONPATH=/usr/local/bin:/usr/lib/python35.zip:/usr/lib/python3.5:/usr/lib/python3.5/plat-x86_64-linux-gnu:/usr/lib/python3.5/lib-dynload:/usr/local/lib/python3.5/dist-packages:/usr/lib/python3/dist-packages\u001b[0m\n",
      "\u001b[31mSM_NETWORK_INTERFACE_NAME=ethwe\u001b[0m\n",
      "\u001b[31mSM_MODULE_DIR=s3://sagemaker-us-east-2-220692837633/sagemaker-pytorch-2019-02-20-05-51-16-494/source/sourcedir.tar.gz\u001b[0m\n",
      "\u001b[31mSM_HP_EPOCHS=20\u001b[0m\n",
      "\u001b[31mSM_OUTPUT_DATA_DIR=/opt/ml/output/data\u001b[0m\n",
      "\u001b[31mSM_OUTPUT_INTERMEDIATE_DIR=/opt/ml/output/intermediate\u001b[0m\n",
      "\u001b[31mSM_CURRENT_HOST=algo-1\u001b[0m\n",
      "\u001b[31mSM_CHANNEL_TRAINING=/opt/ml/input/data/training\u001b[0m\n",
      "\u001b[31mSM_MODULE_NAME=train\u001b[0m\n",
      "\u001b[31mSM_FRAMEWORK_PARAMS={}\u001b[0m\n",
      "\u001b[31mSM_NUM_CPUS=4\u001b[0m\n",
      "\u001b[31mSM_FRAMEWORK_MODULE=sagemaker_pytorch_container.training:main\u001b[0m\n",
      "\u001b[31mSM_CHANNELS=[\"training\"]\u001b[0m\n",
      "\u001b[31mSM_MODEL_DIR=/opt/ml/model\u001b[0m\n",
      "\u001b[31mSM_LOG_LEVEL=20\n",
      "\u001b[0m\n",
      "\u001b[31mInvoking script with the following command:\n",
      "\u001b[0m\n",
      "\u001b[31m/usr/bin/python -m train --epochs 20 --hidden_dim 200\n",
      "\n",
      "\u001b[0m\n",
      "\u001b[31mUsing device cuda.\u001b[0m\n",
      "\u001b[31mGet train data loader.\u001b[0m\n",
      "\u001b[31mModel loaded with embedding_dim 32, hidden_dim 200, vocab_size 5000.\u001b[0m\n",
      "\u001b[31mEpoch: 1, BCELoss: 0.673106732417126\u001b[0m\n",
      "\u001b[31mEpoch: 2, BCELoss: 0.5958326154825638\u001b[0m\n",
      "\u001b[31mEpoch: 3, BCELoss: 0.5055076510322337\u001b[0m\n",
      "\u001b[31mEpoch: 4, BCELoss: 0.46858061941302553\u001b[0m\n",
      "\u001b[31mEpoch: 5, BCELoss: 0.3884173205920628\u001b[0m\n",
      "\u001b[31mEpoch: 6, BCELoss: 0.34943264722824097\u001b[0m\n",
      "\u001b[31mEpoch: 7, BCELoss: 0.3239014537966981\u001b[0m\n",
      "\u001b[31mEpoch: 8, BCELoss: 0.30091910824483753\u001b[0m\n",
      "\u001b[31mEpoch: 9, BCELoss: 0.28386545302916544\u001b[0m\n",
      "\u001b[31mEpoch: 10, BCELoss: 0.27774896579129355\u001b[0m\n",
      "\u001b[31mEpoch: 11, BCELoss: 0.2544539862749528\u001b[0m\n",
      "\u001b[31mEpoch: 12, BCELoss: 0.23055016538318324\u001b[0m\n",
      "\u001b[31mEpoch: 13, BCELoss: 0.21579000688329034\u001b[0m\n",
      "\u001b[31mEpoch: 14, BCELoss: 0.2057119686992801\u001b[0m\n",
      "\u001b[31mEpoch: 15, BCELoss: 0.20068736465609804\u001b[0m\n",
      "\u001b[31mEpoch: 16, BCELoss: 0.219745971718613\u001b[0m\n",
      "\u001b[31mEpoch: 17, BCELoss: 0.21102518390636055\u001b[0m\n",
      "\u001b[31mEpoch: 18, BCELoss: 0.20512862716402328\u001b[0m\n",
      "\u001b[31mEpoch: 19, BCELoss: 0.17622557282447815\u001b[0m\n",
      "\u001b[31mEpoch: 20, BCELoss: 0.1529593749009833\u001b[0m\n",
      "\u001b[31m2019-02-20 06:00:33,283 sagemaker-containers INFO     Reporting training SUCCESS\u001b[0m\n",
      "\n",
      "2019-02-20 06:00:41 Uploading - Uploading generated training model\n",
      "2019-02-20 06:00:41 Completed - Training job completed\n",
      "Billable seconds: 437\n"
     ]
    }
   ],
   "source": [
    "estimator.fit({'training': input_data})"
   ]
  },
  {
   "cell_type": "markdown",
   "metadata": {},
   "source": [
    "## Step 5: Testing the model\n",
    "\n",
    "As mentioned at the top of this notebook, we will be testing this model by first deploying it and then sending the testing data to the deployed endpoint. We will do this so that we can make sure that the deployed model is working correctly.\n",
    "\n",
    "## Step 6: Deploy the model for testing\n",
    "\n",
    "Now that we have trained our model, we would like to test it to see how it performs. Currently our model takes input of the form `review_length, review[500]` where `review[500]` is a sequence of `500` integers which describe the words present in the review, encoded using `word_dict`. Fortunately for us, SageMaker provides built-in inference code for models with simple inputs such as this.\n",
    "\n",
    "There is one thing that we need to provide, however, and that is a function which loads the saved model. This function must be called `model_fn()` and takes as its only parameter a path to the directory where the model artifacts are stored. This function must also be present in the python file which we specified as the entry point. In our case the model loading function has been provided and so no changes need to be made.\n",
    "\n",
    "**NOTE**: When the built-in inference code is run it must import the `model_fn()` method from the `train.py` file. This is why the training code is wrapped in a main guard ( ie, `if __name__ == '__main__':` )\n",
    "\n",
    "Since we don't need to change anything in the code that was uploaded during training, we can simply deploy the current model as-is.\n",
    "\n",
    "**NOTE:** When deploying a model you are asking SageMaker to launch an compute instance that will wait for data to be sent to it. As a result, this compute instance will continue to run until *you* shut it down. This is important to know since the cost of a deployed endpoint depends on how long it has been running for.\n",
    "\n",
    "In other words **If you are no longer using a deployed endpoint, shut it down!**\n",
    "\n",
    "**TODO:** Deploy the trained model."
   ]
  },
  {
   "cell_type": "code",
   "execution_count": 36,
   "metadata": {
    "scrolled": true
   },
   "outputs": [
    {
     "name": "stderr",
     "output_type": "stream",
     "text": [
      "INFO:sagemaker:Creating model with name: sagemaker-pytorch-2019-02-20-05-51-16-494\n",
      "INFO:sagemaker:Creating endpoint with name sagemaker-pytorch-2019-02-20-05-51-16-494\n"
     ]
    },
    {
     "name": "stdout",
     "output_type": "stream",
     "text": [
      "---------------------------------------------------------------------------------------!"
     ]
    }
   ],
   "source": [
    "# TODO: Deploy the trained model\n",
    "predictor = estimator.deploy(initial_instance_count=1, instance_type=\"ml.p2.xlarge\")"
   ]
  },
  {
   "cell_type": "markdown",
   "metadata": {},
   "source": [
    "## Step 7 - Use the model for testing\n",
    "\n",
    "Once deployed, we can read in the test data and send it off to our deployed model to get some results. Once we collect all of the results we can determine how accurate our model is."
   ]
  },
  {
   "cell_type": "code",
   "execution_count": 37,
   "metadata": {
    "scrolled": true
   },
   "outputs": [],
   "source": [
    "test_X = pd.concat([pd.DataFrame(test_X_len), pd.DataFrame(test_X)], axis=1)"
   ]
  },
  {
   "cell_type": "code",
   "execution_count": 38,
   "metadata": {
    "scrolled": true
   },
   "outputs": [],
   "source": [
    "# We split the data into chunks and send each chunk seperately, accumulating the results.\n",
    "\n",
    "def predict(data, rows=512):\n",
    "    split_array = np.array_split(data, int(data.shape[0] / float(rows) + 1))\n",
    "    predictions = np.array([])\n",
    "    for array in split_array:\n",
    "        predictions = np.append(predictions, predictor.predict(array))\n",
    "    \n",
    "    return predictions"
   ]
  },
  {
   "cell_type": "code",
   "execution_count": 78,
   "metadata": {},
   "outputs": [
    {
     "name": "stdout",
     "output_type": "stream",
     "text": [
      "(25000, 502)\n"
     ]
    }
   ],
   "source": [
    "print(test_X.values.shape)"
   ]
  },
  {
   "cell_type": "code",
   "execution_count": 39,
   "metadata": {
    "scrolled": true
   },
   "outputs": [],
   "source": [
    "predictions = predict(test_X.values)\n",
    "predictions = [round(num) for num in predictions]"
   ]
  },
  {
   "cell_type": "code",
   "execution_count": 40,
   "metadata": {
    "scrolled": true
   },
   "outputs": [
    {
     "data": {
      "text/plain": [
       "0.85392"
      ]
     },
     "execution_count": 40,
     "metadata": {},
     "output_type": "execute_result"
    }
   ],
   "source": [
    "from sklearn.metrics import accuracy_score\n",
    "accuracy_score(test_y, predictions)"
   ]
  },
  {
   "cell_type": "markdown",
   "metadata": {},
   "source": [
    "**Question:** How does this model compare to the XGBoost model you created earlier? Why might these two models perform differently on this dataset? Which do *you* think is better for sentiment analysis?"
   ]
  },
  {
   "cell_type": "markdown",
   "metadata": {},
   "source": [
    "**Answer:**\n",
    "Tried epoch=10 and 20, accuracies are both 85.4%, while XGBoost gives >86%"
   ]
  },
  {
   "cell_type": "markdown",
   "metadata": {},
   "source": [
    "### (TODO) More testing\n",
    "\n",
    "We now have a trained model which has been deployed and which we can send processed reviews to and which returns the predicted sentiment. However, ultimately we would like to be able to send our model an unprocessed review. That is, we would like to send the review itself as a string. For example, suppose we wish to send the following review to our model."
   ]
  },
  {
   "cell_type": "code",
   "execution_count": 41,
   "metadata": {
    "scrolled": true
   },
   "outputs": [],
   "source": [
    "test_review = 'The simplest pleasures in life are the best, and this film is one of them. Combining a rather basic storyline of love and adventure this movie transcends the usual weekend fair with wit and unmitigated charm.'"
   ]
  },
  {
   "cell_type": "markdown",
   "metadata": {},
   "source": [
    "The question we now need to answer is, how do we send this review to our model?\n",
    "\n",
    "Recall in the first section of this notebook we did a bunch of data processing to the IMDb dataset. In particular, we did two specific things to the provided reviews.\n",
    " - Removed any html tags and stemmed the input\n",
    " - Encoded the review as a sequence of integers using `word_dict`\n",
    " \n",
    "In order process the review we will need to repeat these two steps.\n",
    "\n",
    "**TODO**: Using the `review_to_words` and `convert_and_pad` methods from section one, convert `test_review` into a numpy array `test_data` suitable to send to our model. Remember that our model expects input of the form `review_length, review[500]`."
   ]
  },
  {
   "cell_type": "code",
   "execution_count": 95,
   "metadata": {},
   "outputs": [],
   "source": [
    "# TODO: Convert test_review into a form usable by the model and save the results in test_data\n",
    "sentence = review_to_words(test_review )\n",
    "test_data, test_data_len = convert_and_pad(word_dict,sentence)\n",
    "test_data = np.array([test_data])\n"
   ]
  },
  {
   "cell_type": "markdown",
   "metadata": {},
   "source": [
    "Now that we have processed the review, we can send the resulting array to our model to predict the sentiment of the review."
   ]
  },
  {
   "cell_type": "code",
   "execution_count": 96,
   "metadata": {
    "scrolled": true
   },
   "outputs": [
    {
     "data": {
      "text/plain": [
       "array(0.68558943, dtype=float32)"
      ]
     },
     "execution_count": 96,
     "metadata": {},
     "output_type": "execute_result"
    }
   ],
   "source": [
    "predictor.predict(test_data)"
   ]
  },
  {
   "cell_type": "markdown",
   "metadata": {},
   "source": [
    "Since the return value of our model is close to `1`, we can be certain that the review we submitted is positive."
   ]
  },
  {
   "cell_type": "markdown",
   "metadata": {},
   "source": [
    "### Delete the endpoint\n",
    "\n",
    "Of course, just like in the XGBoost notebook, once we've deployed an endpoint it continues to run until we tell it to shut down. Since we are done using our endpoint for now, we can delete it."
   ]
  },
  {
   "cell_type": "code",
   "execution_count": 104,
   "metadata": {
    "scrolled": true
   },
   "outputs": [
    {
     "name": "stderr",
     "output_type": "stream",
     "text": [
      "INFO:sagemaker:Deleting endpoint with name: sagemaker-pytorch-2019-02-20-05-51-16-494\n"
     ]
    },
    {
     "ename": "ClientError",
     "evalue": "An error occurred (ValidationException) when calling the DeleteEndpoint operation: Could not find endpoint \"arn:aws:sagemaker:us-east-2:220692837633:endpoint/sagemaker-pytorch-2019-02-20-05-51-16-494\".",
     "output_type": "error",
     "traceback": [
      "\u001b[0;31m---------------------------------------------------------------------------\u001b[0m",
      "\u001b[0;31mClientError\u001b[0m                               Traceback (most recent call last)",
      "\u001b[0;32m<ipython-input-104-46ef5e5e8b7c>\u001b[0m in \u001b[0;36m<module>\u001b[0;34m()\u001b[0m\n\u001b[0;32m----> 1\u001b[0;31m \u001b[0mestimator\u001b[0m\u001b[0;34m.\u001b[0m\u001b[0mdelete_endpoint\u001b[0m\u001b[0;34m(\u001b[0m\u001b[0;34m)\u001b[0m\u001b[0;34m\u001b[0m\u001b[0m\n\u001b[0m",
      "\u001b[0;32m~/anaconda3/envs/pytorch_p36/lib/python3.6/site-packages/sagemaker/estimator.py\u001b[0m in \u001b[0;36mdelete_endpoint\u001b[0;34m(self)\u001b[0m\n\u001b[1;32m    464\u001b[0m         \"\"\"\n\u001b[1;32m    465\u001b[0m         \u001b[0mself\u001b[0m\u001b[0;34m.\u001b[0m\u001b[0m_ensure_latest_training_job\u001b[0m\u001b[0;34m(\u001b[0m\u001b[0merror_message\u001b[0m\u001b[0;34m=\u001b[0m\u001b[0;34m'Endpoint was not created yet'\u001b[0m\u001b[0;34m)\u001b[0m\u001b[0;34m\u001b[0m\u001b[0m\n\u001b[0;32m--> 466\u001b[0;31m         \u001b[0mself\u001b[0m\u001b[0;34m.\u001b[0m\u001b[0msagemaker_session\u001b[0m\u001b[0;34m.\u001b[0m\u001b[0mdelete_endpoint\u001b[0m\u001b[0;34m(\u001b[0m\u001b[0mself\u001b[0m\u001b[0;34m.\u001b[0m\u001b[0mlatest_training_job\u001b[0m\u001b[0;34m.\u001b[0m\u001b[0mname\u001b[0m\u001b[0;34m)\u001b[0m\u001b[0;34m\u001b[0m\u001b[0m\n\u001b[0m\u001b[1;32m    467\u001b[0m \u001b[0;34m\u001b[0m\u001b[0m\n\u001b[1;32m    468\u001b[0m     def transformer(self, instance_count, instance_type, strategy=None, assemble_with=None, output_path=None,\n",
      "\u001b[0;32m~/anaconda3/envs/pytorch_p36/lib/python3.6/site-packages/sagemaker/session.py\u001b[0m in \u001b[0;36mdelete_endpoint\u001b[0;34m(self, endpoint_name)\u001b[0m\n\u001b[1;32m    778\u001b[0m         \"\"\"\n\u001b[1;32m    779\u001b[0m         \u001b[0mLOGGER\u001b[0m\u001b[0;34m.\u001b[0m\u001b[0minfo\u001b[0m\u001b[0;34m(\u001b[0m\u001b[0;34m'Deleting endpoint with name: {}'\u001b[0m\u001b[0;34m.\u001b[0m\u001b[0mformat\u001b[0m\u001b[0;34m(\u001b[0m\u001b[0mendpoint_name\u001b[0m\u001b[0;34m)\u001b[0m\u001b[0;34m)\u001b[0m\u001b[0;34m\u001b[0m\u001b[0m\n\u001b[0;32m--> 780\u001b[0;31m         \u001b[0mself\u001b[0m\u001b[0;34m.\u001b[0m\u001b[0msagemaker_client\u001b[0m\u001b[0;34m.\u001b[0m\u001b[0mdelete_endpoint\u001b[0m\u001b[0;34m(\u001b[0m\u001b[0mEndpointName\u001b[0m\u001b[0;34m=\u001b[0m\u001b[0mendpoint_name\u001b[0m\u001b[0;34m)\u001b[0m\u001b[0;34m\u001b[0m\u001b[0m\n\u001b[0m\u001b[1;32m    781\u001b[0m \u001b[0;34m\u001b[0m\u001b[0m\n\u001b[1;32m    782\u001b[0m     \u001b[0;32mdef\u001b[0m \u001b[0mwait_for_job\u001b[0m\u001b[0;34m(\u001b[0m\u001b[0mself\u001b[0m\u001b[0;34m,\u001b[0m \u001b[0mjob\u001b[0m\u001b[0;34m,\u001b[0m \u001b[0mpoll\u001b[0m\u001b[0;34m=\u001b[0m\u001b[0;36m5\u001b[0m\u001b[0;34m)\u001b[0m\u001b[0;34m:\u001b[0m\u001b[0;34m\u001b[0m\u001b[0m\n",
      "\u001b[0;32m~/anaconda3/envs/pytorch_p36/lib/python3.6/site-packages/botocore/client.py\u001b[0m in \u001b[0;36m_api_call\u001b[0;34m(self, *args, **kwargs)\u001b[0m\n\u001b[1;32m    318\u001b[0m                     \"%s() only accepts keyword arguments.\" % py_operation_name)\n\u001b[1;32m    319\u001b[0m             \u001b[0;31m# The \"self\" in this scope is referring to the BaseClient.\u001b[0m\u001b[0;34m\u001b[0m\u001b[0;34m\u001b[0m\u001b[0m\n\u001b[0;32m--> 320\u001b[0;31m             \u001b[0;32mreturn\u001b[0m \u001b[0mself\u001b[0m\u001b[0;34m.\u001b[0m\u001b[0m_make_api_call\u001b[0m\u001b[0;34m(\u001b[0m\u001b[0moperation_name\u001b[0m\u001b[0;34m,\u001b[0m \u001b[0mkwargs\u001b[0m\u001b[0;34m)\u001b[0m\u001b[0;34m\u001b[0m\u001b[0m\n\u001b[0m\u001b[1;32m    321\u001b[0m \u001b[0;34m\u001b[0m\u001b[0m\n\u001b[1;32m    322\u001b[0m         \u001b[0m_api_call\u001b[0m\u001b[0;34m.\u001b[0m\u001b[0m__name__\u001b[0m \u001b[0;34m=\u001b[0m \u001b[0mstr\u001b[0m\u001b[0;34m(\u001b[0m\u001b[0mpy_operation_name\u001b[0m\u001b[0;34m)\u001b[0m\u001b[0;34m\u001b[0m\u001b[0m\n",
      "\u001b[0;32m~/anaconda3/envs/pytorch_p36/lib/python3.6/site-packages/botocore/client.py\u001b[0m in \u001b[0;36m_make_api_call\u001b[0;34m(self, operation_name, api_params)\u001b[0m\n\u001b[1;32m    622\u001b[0m             \u001b[0merror_code\u001b[0m \u001b[0;34m=\u001b[0m \u001b[0mparsed_response\u001b[0m\u001b[0;34m.\u001b[0m\u001b[0mget\u001b[0m\u001b[0;34m(\u001b[0m\u001b[0;34m\"Error\"\u001b[0m\u001b[0;34m,\u001b[0m \u001b[0;34m{\u001b[0m\u001b[0;34m}\u001b[0m\u001b[0;34m)\u001b[0m\u001b[0;34m.\u001b[0m\u001b[0mget\u001b[0m\u001b[0;34m(\u001b[0m\u001b[0;34m\"Code\"\u001b[0m\u001b[0;34m)\u001b[0m\u001b[0;34m\u001b[0m\u001b[0m\n\u001b[1;32m    623\u001b[0m             \u001b[0merror_class\u001b[0m \u001b[0;34m=\u001b[0m \u001b[0mself\u001b[0m\u001b[0;34m.\u001b[0m\u001b[0mexceptions\u001b[0m\u001b[0;34m.\u001b[0m\u001b[0mfrom_code\u001b[0m\u001b[0;34m(\u001b[0m\u001b[0merror_code\u001b[0m\u001b[0;34m)\u001b[0m\u001b[0;34m\u001b[0m\u001b[0m\n\u001b[0;32m--> 624\u001b[0;31m             \u001b[0;32mraise\u001b[0m \u001b[0merror_class\u001b[0m\u001b[0;34m(\u001b[0m\u001b[0mparsed_response\u001b[0m\u001b[0;34m,\u001b[0m \u001b[0moperation_name\u001b[0m\u001b[0;34m)\u001b[0m\u001b[0;34m\u001b[0m\u001b[0m\n\u001b[0m\u001b[1;32m    625\u001b[0m         \u001b[0;32melse\u001b[0m\u001b[0;34m:\u001b[0m\u001b[0;34m\u001b[0m\u001b[0m\n\u001b[1;32m    626\u001b[0m             \u001b[0;32mreturn\u001b[0m \u001b[0mparsed_response\u001b[0m\u001b[0;34m\u001b[0m\u001b[0m\n",
      "\u001b[0;31mClientError\u001b[0m: An error occurred (ValidationException) when calling the DeleteEndpoint operation: Could not find endpoint \"arn:aws:sagemaker:us-east-2:220692837633:endpoint/sagemaker-pytorch-2019-02-20-05-51-16-494\"."
     ]
    }
   ],
   "source": [
    "estimator.delete_endpoint()"
   ]
  },
  {
   "cell_type": "markdown",
   "metadata": {},
   "source": [
    "## Step 6 (again) - Deploy the model for the web app\n",
    "\n",
    "Now that we know that our model is working, it's time to create some custom inference code so that we can send the model a review which has not been processed and have it determine the sentiment of the review.\n",
    "\n",
    "As we saw above, by default the estimator which we created, when deployed, will use the entry script and directory which we provided when creating the model. However, since we now wish to accept a string as input and our model expects a processed review, we need to write some custom inference code.\n",
    "\n",
    "We will store the code that we write in the `serve` directory. Provided in this directory is the `model.py` file that we used to construct our model, a `utils.py` file which contains the `review_to_words` and `convert_and_pad` pre-processing functions which we used during the initial data processing, and `predict.py`, the file which will contain our custom inference code. Note also that `requirements.txt` is present which will tell SageMaker what Python libraries are required by our custom inference code.\n",
    "\n",
    "When deploying a PyTorch model in SageMaker, you are expected to provide four functions which the SageMaker inference container will use.\n",
    " - `model_fn`: This function is the same function that we used in the training script and it tells SageMaker how to load our model.\n",
    " - `input_fn`: This function receives the raw serialized input that has been sent to the model's endpoint and its job is to de-serialize and make the input available for the inference code.\n",
    " - `output_fn`: This function takes the output of the inference code and its job is to serialize this output and return it to the caller of the model's endpoint.\n",
    " - `predict_fn`: The heart of the inference script, this is where the actual prediction is done and is the function which you will need to complete.\n",
    "\n",
    "For the simple website that we are constructing during this project, the `input_fn` and `output_fn` methods are relatively straightforward. We only require being able to accept a string as input and we expect to return a single value as output. You might imagine though that in a more complex application the input or output may be image data or some other binary data which would require some effort to serialize.\n",
    "\n",
    "### (TODO) Writing inference code\n",
    "\n",
    "Before writing our custom inference code, we will begin by taking a look at the code which has been provided."
   ]
  },
  {
   "cell_type": "code",
   "execution_count": 106,
   "metadata": {
    "scrolled": true
   },
   "outputs": [
    {
     "name": "stdout",
     "output_type": "stream",
     "text": [
      "\u001b[34mimport\u001b[39;49;00m \u001b[04m\u001b[36margparse\u001b[39;49;00m\r\n",
      "\u001b[34mimport\u001b[39;49;00m \u001b[04m\u001b[36mjson\u001b[39;49;00m\r\n",
      "\u001b[34mimport\u001b[39;49;00m \u001b[04m\u001b[36mos\u001b[39;49;00m\r\n",
      "\u001b[34mimport\u001b[39;49;00m \u001b[04m\u001b[36mpickle\u001b[39;49;00m\r\n",
      "\u001b[34mimport\u001b[39;49;00m \u001b[04m\u001b[36msys\u001b[39;49;00m\r\n",
      "\u001b[34mimport\u001b[39;49;00m \u001b[04m\u001b[36msagemaker_containers\u001b[39;49;00m\r\n",
      "\u001b[34mimport\u001b[39;49;00m \u001b[04m\u001b[36mpandas\u001b[39;49;00m \u001b[34mas\u001b[39;49;00m \u001b[04m\u001b[36mpd\u001b[39;49;00m\r\n",
      "\u001b[34mimport\u001b[39;49;00m \u001b[04m\u001b[36mnumpy\u001b[39;49;00m \u001b[34mas\u001b[39;49;00m \u001b[04m\u001b[36mnp\u001b[39;49;00m\r\n",
      "\u001b[34mimport\u001b[39;49;00m \u001b[04m\u001b[36mtorch\u001b[39;49;00m\r\n",
      "\u001b[34mimport\u001b[39;49;00m \u001b[04m\u001b[36mtorch.nn\u001b[39;49;00m \u001b[34mas\u001b[39;49;00m \u001b[04m\u001b[36mnn\u001b[39;49;00m\r\n",
      "\u001b[34mimport\u001b[39;49;00m \u001b[04m\u001b[36mtorch.optim\u001b[39;49;00m \u001b[34mas\u001b[39;49;00m \u001b[04m\u001b[36moptim\u001b[39;49;00m\r\n",
      "\u001b[34mimport\u001b[39;49;00m \u001b[04m\u001b[36mtorch.utils.data\u001b[39;49;00m\r\n",
      "\r\n",
      "\u001b[34mfrom\u001b[39;49;00m \u001b[04m\u001b[36mmodel\u001b[39;49;00m \u001b[34mimport\u001b[39;49;00m LSTMClassifier\r\n",
      "\r\n",
      "\u001b[34mfrom\u001b[39;49;00m \u001b[04m\u001b[36mutils\u001b[39;49;00m \u001b[34mimport\u001b[39;49;00m review_to_words, convert_and_pad\r\n",
      "\r\n",
      "\u001b[34mdef\u001b[39;49;00m \u001b[32mmodel_fn\u001b[39;49;00m(model_dir):\r\n",
      "    \u001b[33m\"\"\"Load the PyTorch model from the `model_dir` directory.\"\"\"\u001b[39;49;00m\r\n",
      "    \u001b[34mprint\u001b[39;49;00m(\u001b[33m\"\u001b[39;49;00m\u001b[33mLoading model.\u001b[39;49;00m\u001b[33m\"\u001b[39;49;00m)\r\n",
      "\r\n",
      "    \u001b[37m# First, load the parameters used to create the model.\u001b[39;49;00m\r\n",
      "    model_info = {}\r\n",
      "    model_info_path = os.path.join(model_dir, \u001b[33m'\u001b[39;49;00m\u001b[33mmodel_info.pth\u001b[39;49;00m\u001b[33m'\u001b[39;49;00m)\r\n",
      "    \u001b[34mwith\u001b[39;49;00m \u001b[36mopen\u001b[39;49;00m(model_info_path, \u001b[33m'\u001b[39;49;00m\u001b[33mrb\u001b[39;49;00m\u001b[33m'\u001b[39;49;00m) \u001b[34mas\u001b[39;49;00m f:\r\n",
      "        model_info = torch.load(f)\r\n",
      "\r\n",
      "    \u001b[34mprint\u001b[39;49;00m(\u001b[33m\"\u001b[39;49;00m\u001b[33mmodel_info: {}\u001b[39;49;00m\u001b[33m\"\u001b[39;49;00m.format(model_info))\r\n",
      "\r\n",
      "    \u001b[37m# Determine the device and construct the model.\u001b[39;49;00m\r\n",
      "    device = torch.device(\u001b[33m\"\u001b[39;49;00m\u001b[33mcuda\u001b[39;49;00m\u001b[33m\"\u001b[39;49;00m \u001b[34mif\u001b[39;49;00m torch.cuda.is_available() \u001b[34melse\u001b[39;49;00m \u001b[33m\"\u001b[39;49;00m\u001b[33mcpu\u001b[39;49;00m\u001b[33m\"\u001b[39;49;00m)\r\n",
      "    model = LSTMClassifier(model_info[\u001b[33m'\u001b[39;49;00m\u001b[33membedding_dim\u001b[39;49;00m\u001b[33m'\u001b[39;49;00m], model_info[\u001b[33m'\u001b[39;49;00m\u001b[33mhidden_dim\u001b[39;49;00m\u001b[33m'\u001b[39;49;00m], model_info[\u001b[33m'\u001b[39;49;00m\u001b[33mvocab_size\u001b[39;49;00m\u001b[33m'\u001b[39;49;00m])\r\n",
      "\r\n",
      "    \u001b[37m# Load the store model parameters.\u001b[39;49;00m\r\n",
      "    model_path = os.path.join(model_dir, \u001b[33m'\u001b[39;49;00m\u001b[33mmodel.pth\u001b[39;49;00m\u001b[33m'\u001b[39;49;00m)\r\n",
      "    \u001b[34mwith\u001b[39;49;00m \u001b[36mopen\u001b[39;49;00m(model_path, \u001b[33m'\u001b[39;49;00m\u001b[33mrb\u001b[39;49;00m\u001b[33m'\u001b[39;49;00m) \u001b[34mas\u001b[39;49;00m f:\r\n",
      "        model.load_state_dict(torch.load(f))\r\n",
      "\r\n",
      "    \u001b[37m# Load the saved word_dict.\u001b[39;49;00m\r\n",
      "    word_dict_path = os.path.join(model_dir, \u001b[33m'\u001b[39;49;00m\u001b[33mword_dict.pkl\u001b[39;49;00m\u001b[33m'\u001b[39;49;00m)\r\n",
      "    \u001b[34mwith\u001b[39;49;00m \u001b[36mopen\u001b[39;49;00m(word_dict_path, \u001b[33m'\u001b[39;49;00m\u001b[33mrb\u001b[39;49;00m\u001b[33m'\u001b[39;49;00m) \u001b[34mas\u001b[39;49;00m f:\r\n",
      "        model.word_dict = pickle.load(f)\r\n",
      "\r\n",
      "    model.to(device).eval()\r\n",
      "\r\n",
      "    \u001b[34mprint\u001b[39;49;00m(\u001b[33m\"\u001b[39;49;00m\u001b[33mDone loading model.\u001b[39;49;00m\u001b[33m\"\u001b[39;49;00m)\r\n",
      "    \u001b[34mreturn\u001b[39;49;00m model\r\n",
      "\r\n",
      "\u001b[34mdef\u001b[39;49;00m \u001b[32minput_fn\u001b[39;49;00m(serialized_input_data, content_type):\r\n",
      "    \u001b[34mprint\u001b[39;49;00m(\u001b[33m'\u001b[39;49;00m\u001b[33mDeserializing the input data.\u001b[39;49;00m\u001b[33m'\u001b[39;49;00m)\r\n",
      "    \u001b[34mif\u001b[39;49;00m content_type == \u001b[33m'\u001b[39;49;00m\u001b[33mtext/plain\u001b[39;49;00m\u001b[33m'\u001b[39;49;00m:\r\n",
      "        data = serialized_input_data.decode(\u001b[33m'\u001b[39;49;00m\u001b[33mutf-8\u001b[39;49;00m\u001b[33m'\u001b[39;49;00m)\r\n",
      "        \u001b[34mreturn\u001b[39;49;00m data\r\n",
      "    \u001b[34mraise\u001b[39;49;00m \u001b[36mException\u001b[39;49;00m(\u001b[33m'\u001b[39;49;00m\u001b[33mRequested unsupported ContentType in content_type: \u001b[39;49;00m\u001b[33m'\u001b[39;49;00m + content_type)\r\n",
      "\r\n",
      "\u001b[34mdef\u001b[39;49;00m \u001b[32moutput_fn\u001b[39;49;00m(prediction_output, accept):\r\n",
      "    \u001b[34mprint\u001b[39;49;00m(\u001b[33m'\u001b[39;49;00m\u001b[33mSerializing the generated output.\u001b[39;49;00m\u001b[33m'\u001b[39;49;00m)\r\n",
      "    \u001b[34mreturn\u001b[39;49;00m \u001b[36mstr\u001b[39;49;00m(prediction_output)\r\n",
      "\r\n",
      "\u001b[34mdef\u001b[39;49;00m \u001b[32mpredict_fn\u001b[39;49;00m(input_data, model):\r\n",
      "    \u001b[34mprint\u001b[39;49;00m(\u001b[33m'\u001b[39;49;00m\u001b[33mInferring sentiment of input data.\u001b[39;49;00m\u001b[33m'\u001b[39;49;00m)\r\n",
      "\r\n",
      "    device = torch.device(\u001b[33m\"\u001b[39;49;00m\u001b[33mcuda\u001b[39;49;00m\u001b[33m\"\u001b[39;49;00m \u001b[34mif\u001b[39;49;00m torch.cuda.is_available() \u001b[34melse\u001b[39;49;00m \u001b[33m\"\u001b[39;49;00m\u001b[33mcpu\u001b[39;49;00m\u001b[33m\"\u001b[39;49;00m)\r\n",
      "    \r\n",
      "    \u001b[34mif\u001b[39;49;00m model.word_dict \u001b[35mis\u001b[39;49;00m \u001b[36mNone\u001b[39;49;00m:\r\n",
      "        \u001b[34mraise\u001b[39;49;00m \u001b[36mException\u001b[39;49;00m(\u001b[33m'\u001b[39;49;00m\u001b[33mModel has not been loaded properly, no word_dict.\u001b[39;49;00m\u001b[33m'\u001b[39;49;00m)\r\n",
      "    \r\n",
      "    \u001b[37m# TODO: Process input_data so that it is ready to be sent to our model.\u001b[39;49;00m\r\n",
      "    \u001b[37m#       You should produce two variables:\u001b[39;49;00m\r\n",
      "    \u001b[37m#         data_X   - A sequence of length 500 which represents the converted review\u001b[39;49;00m\r\n",
      "    \u001b[37m#         data_len - The length of the review\u001b[39;49;00m\r\n",
      "    sentence = review_to_words(input_data)\r\n",
      "    data_X,data_len = convert_and_pad(model.word_dict,sentence)\r\n",
      "    \u001b[37m#data_len = None\u001b[39;49;00m\r\n",
      "\r\n",
      "    \u001b[37m# Using data_X and data_len we construct an appropriate input tensor. Remember\u001b[39;49;00m\r\n",
      "    \u001b[37m# that our model expects input data of the form 'len, review[500]'.\u001b[39;49;00m\r\n",
      "    data_pack = np.hstack((data_len, data_X))\r\n",
      "    data_pack = data_pack.reshape(\u001b[34m1\u001b[39;49;00m, -\u001b[34m1\u001b[39;49;00m)\r\n",
      "    \r\n",
      "    data = torch.from_numpy(data_pack)\r\n",
      "    data = data.to(device)\r\n",
      "\r\n",
      "    \u001b[37m# Make sure to put the model into evaluation mode\u001b[39;49;00m\r\n",
      "    model.eval()\r\n",
      "\r\n",
      "    \u001b[37m# TODO: Compute the result of applying the model to the input data. The variable `result` should\u001b[39;49;00m\r\n",
      "    \u001b[37m#       be a numpy array which contains a single integer which is either 1 or 0\u001b[39;49;00m\r\n",
      "\r\n",
      "    result = \u001b[34m1\u001b[39;49;00m \u001b[34mif\u001b[39;49;00m model(data)>\u001b[34m0.5\u001b[39;49;00m \u001b[34melse\u001b[39;49;00m \u001b[34m0\u001b[39;49;00m\r\n",
      "\r\n",
      "    \u001b[34mreturn\u001b[39;49;00m result\r\n"
     ]
    }
   ],
   "source": [
    "!pygmentize serve/predict.py"
   ]
  },
  {
   "cell_type": "markdown",
   "metadata": {},
   "source": [
    "As mentioned earlier, the `model_fn` method is the same as the one provided in the training code and the `input_fn` and `output_fn` methods are very simple and your task will be to complete the `predict_fn` method. Make sure that you save the completed file as `predict.py` in the `serve` directory.\n",
    "\n",
    "**TODO**: Complete the `predict_fn()` method in the `serve/predict.py` file."
   ]
  },
  {
   "cell_type": "markdown",
   "metadata": {},
   "source": [
    "### Deploying the model\n",
    "\n",
    "Now that the custom inference code has been written, we will create and deploy our model. To begin with, we need to construct a new PyTorchModel object which points to the model artifacts created during training and also points to the inference code that we wish to use. Then we can call the deploy method to launch the deployment container.\n",
    "\n",
    "**NOTE**: The default behaviour for a deployed PyTorch model is to assume that any input passed to the predictor is a `numpy` array. In our case we want to send a string so we need to construct a simple wrapper around the `RealTimePredictor` class to accomodate simple strings. In a more complicated situation you may want to provide a serialization object, for example if you wanted to sent image data."
   ]
  },
  {
   "cell_type": "code",
   "execution_count": 116,
   "metadata": {
    "scrolled": true
   },
   "outputs": [
    {
     "name": "stderr",
     "output_type": "stream",
     "text": [
      "INFO:sagemaker:Creating model with name: sagemaker-pytorch-2019-02-20-07-57-13-645\n",
      "INFO:sagemaker:Creating endpoint with name sagemaker-pytorch-2019-02-20-07-57-13-645\n"
     ]
    },
    {
     "name": "stdout",
     "output_type": "stream",
     "text": [
      "--------------------------------------------------------------------------!"
     ]
    }
   ],
   "source": [
    "from sagemaker.predictor import RealTimePredictor\n",
    "from sagemaker.pytorch import PyTorchModel\n",
    "\n",
    "class StringPredictor(RealTimePredictor):\n",
    "    def __init__(self, endpoint_name, sagemaker_session):\n",
    "        super(StringPredictor, self).__init__(endpoint_name, sagemaker_session, content_type='text/plain')\n",
    "\n",
    "model = PyTorchModel(model_data=estimator.model_data,\n",
    "                     role = role,\n",
    "                     framework_version='0.4.0',\n",
    "                     entry_point='predict.py',\n",
    "                     source_dir='serve',\n",
    "                     predictor_cls=StringPredictor)\n",
    "predictor = model.deploy(initial_instance_count=1, instance_type='ml.m4.xlarge')"
   ]
  },
  {
   "cell_type": "markdown",
   "metadata": {},
   "source": [
    "### Testing the model\n",
    "\n",
    "Now that we have deployed our model with the custom inference code, we should test to see if everything is working. Here we test our model by loading the first `250` positive and negative reviews and send them to the endpoint, then collect the results. The reason for only sending some of the data is that the amount of time it takes for our model to process the input and then perform inference is quite long and so testing the entire data set would be prohibitive."
   ]
  },
  {
   "cell_type": "code",
   "execution_count": 117,
   "metadata": {
    "scrolled": true
   },
   "outputs": [],
   "source": [
    "import glob\n",
    "\n",
    "def test_reviews(data_dir='../data/aclImdb', stop=250):\n",
    "    \n",
    "    results = []\n",
    "    ground = []\n",
    "    \n",
    "    # We make sure to test both positive and negative reviews    \n",
    "    for sentiment in ['pos', 'neg']:\n",
    "        \n",
    "        path = os.path.join(data_dir, 'test', sentiment, '*.txt')\n",
    "        files = glob.glob(path)\n",
    "        \n",
    "        files_read = 0\n",
    "        \n",
    "        print('Starting ', sentiment, ' files')\n",
    "        \n",
    "        # Iterate through the files and send them to the predictor\n",
    "        for f in files:\n",
    "            with open(f) as review:\n",
    "                # First, we store the ground truth (was the review positive or negative)\n",
    "                if sentiment == 'pos':\n",
    "                    ground.append(1)\n",
    "                else:\n",
    "                    ground.append(0)\n",
    "                # Read in the review and convert to 'utf-8' for transmission via HTTP\n",
    "                review_input = review.read().encode('utf-8')\n",
    "                # Send the review to the predictor and store the results\n",
    "                results.append(int(predictor.predict(review_input)))\n",
    "                \n",
    "            # Sending reviews to our endpoint one at a time takes a while so we\n",
    "            # only send a small number of reviews\n",
    "            files_read += 1\n",
    "            if files_read == stop:\n",
    "                break\n",
    "            \n",
    "    return ground, results"
   ]
  },
  {
   "cell_type": "code",
   "execution_count": 118,
   "metadata": {
    "scrolled": true
   },
   "outputs": [
    {
     "name": "stdout",
     "output_type": "stream",
     "text": [
      "Starting  pos  files\n",
      "Starting  neg  files\n"
     ]
    }
   ],
   "source": [
    "ground, results = test_reviews()"
   ]
  },
  {
   "cell_type": "code",
   "execution_count": 119,
   "metadata": {
    "scrolled": true
   },
   "outputs": [
    {
     "data": {
      "text/plain": [
       "0.854"
      ]
     },
     "execution_count": 119,
     "metadata": {},
     "output_type": "execute_result"
    }
   ],
   "source": [
    "from sklearn.metrics import accuracy_score\n",
    "accuracy_score(ground, results)"
   ]
  },
  {
   "cell_type": "markdown",
   "metadata": {},
   "source": [
    "As an additional test, we can try sending the `test_review` that we looked at earlier."
   ]
  },
  {
   "cell_type": "code",
   "execution_count": 120,
   "metadata": {
    "scrolled": true
   },
   "outputs": [
    {
     "data": {
      "text/plain": [
       "b'1'"
      ]
     },
     "execution_count": 120,
     "metadata": {},
     "output_type": "execute_result"
    }
   ],
   "source": [
    "predictor.predict(test_review)"
   ]
  },
  {
   "cell_type": "markdown",
   "metadata": {},
   "source": [
    "Now that we know our endpoint is working as expected, we can set up the web page that will interact with it. If you don't have time to finish the project now, make sure to skip down to the end of this notebook and shut down your endpoint. You can deploy it again when you come back."
   ]
  },
  {
   "cell_type": "markdown",
   "metadata": {},
   "source": [
    "## Step 7 (again): Use the model for the web app\n",
    "\n",
    "> **TODO:** This entire section and the next contain tasks for you to complete, mostly using the AWS console.\n",
    "\n",
    "So far we have been accessing our model endpoint by constructing a predictor object which uses the endpoint and then just using the predictor object to perform inference. What if we wanted to create a web app which accessed our model? The way things are set up currently makes that not possible since in order to access a SageMaker endpoint the app would first have to authenticate with AWS using an IAM role which included access to SageMaker endpoints. However, there is an easier way! We just need to use some additional AWS services.\n",
    "\n",
    "<img src=\"Web App Diagram.svg\">\n",
    "\n",
    "The diagram above gives an overview of how the various services will work together. On the far right is the model which we trained above and which is deployed using SageMaker. On the far left is our web app that collects a user's movie review, sends it off and expects a positive or negative sentiment in return.\n",
    "\n",
    "In the middle is where some of the magic happens. We will construct a Lambda function, which you can think of as a straightforward Python function that can be executed whenever a specified event occurs. We will give this function permission to send and recieve data from a SageMaker endpoint.\n",
    "\n",
    "Lastly, the method we will use to execute the Lambda function is a new endpoint that we will create using API Gateway. This endpoint will be a url that listens for data to be sent to it. Once it gets some data it will pass that data on to the Lambda function and then return whatever the Lambda function returns. Essentially it will act as an interface that lets our web app communicate with the Lambda function.\n",
    "\n",
    "### Setting up a Lambda function\n",
    "\n",
    "The first thing we are going to do is set up a Lambda function. This Lambda function will be executed whenever our public API has data sent to it. When it is executed it will receive the data, perform any sort of processing that is required, send the data (the review) to the SageMaker endpoint we've created and then return the result.\n",
    "\n",
    "#### Part A: Create an IAM Role for the Lambda function\n",
    "\n",
    "Since we want the Lambda function to call a SageMaker endpoint, we need to make sure that it has permission to do so. To do this, we will construct a role that we can later give the Lambda function.\n",
    "\n",
    "Using the AWS Console, navigate to the **IAM** page and click on **Roles**. Then, click on **Create role**. Make sure that the **AWS service** is the type of trusted entity selected and choose **Lambda** as the service that will use this role, then click **Next: Permissions**.\n",
    "\n",
    "In the search box type `sagemaker` and select the check box next to the **AmazonSageMakerFullAccess** policy. Then, click on **Next: Review**.\n",
    "\n",
    "Lastly, give this role a name. Make sure you use a name that you will remember later on, for example `LambdaSageMakerRole`. Then, click on **Create role**.\n",
    "\n",
    "#### Part B: Create a Lambda function\n",
    "\n",
    "Now it is time to actually create the Lambda function.\n",
    "\n",
    "Using the AWS Console, navigate to the AWS Lambda page and click on **Create a function**. When you get to the next page, make sure that **Author from scratch** is selected. Now, name your Lambda function, using a name that you will remember later on, for example `sentiment_analysis_func`. Make sure that the **Python 3.6** runtime is selected and then choose the role that you created in the previous part. Then, click on **Create Function**.\n",
    "\n",
    "On the next page you will see some information about the Lambda function you've just created. If you scroll down you should see an editor in which you can write the code that will be executed when your Lambda function is triggered. In our example, we will use the code below. \n",
    "\n",
    "```python\n",
    "# We need to use the low-level library to interact with SageMaker since the SageMaker API\n",
    "# is not available natively through Lambda.\n",
    "import boto3\n",
    "\n",
    "def lambda_handler(event, context):\n",
    "\n",
    "    # The SageMaker runtime is what allows us to invoke the endpoint that we've created.\n",
    "    runtime = boto3.Session().client('sagemaker-runtime')\n",
    "\n",
    "    # Now we use the SageMaker runtime to invoke our endpoint, sending the review we were given\n",
    "    response = runtime.invoke_endpoint(EndpointName = '**ENDPOINT NAME HERE**',    # The name of the endpoint we created\n",
    "                                       ContentType = 'text/plain',                 # The data format that is expected\n",
    "                                       Body = event['body'])                       # The actual review\n",
    "\n",
    "    # The response is an HTTP response whose body contains the result of our inference\n",
    "    result = response['Body'].read().decode('utf-8')\n",
    "\n",
    "    return {\n",
    "        'statusCode' : 200,\n",
    "        'headers' : { 'Content-Type' : 'text/plain', 'Access-Control-Allow-Origin' : '*' },\n",
    "        'body' : result\n",
    "    }\n",
    "```\n",
    "\n",
    "Once you have copy and pasted the code above into the Lambda code editor, replace the `**ENDPOINT NAME HERE**` portion with the name of the endpoint that we deployed earlier. You can determine the name of the endpoint using the code cell below."
   ]
  },
  {
   "cell_type": "code",
   "execution_count": 121,
   "metadata": {
    "scrolled": true
   },
   "outputs": [
    {
     "data": {
      "text/plain": [
       "'sagemaker-pytorch-2019-02-20-07-57-13-645'"
      ]
     },
     "execution_count": 121,
     "metadata": {},
     "output_type": "execute_result"
    }
   ],
   "source": [
    "predictor.endpoint"
   ]
  },
  {
   "cell_type": "markdown",
   "metadata": {},
   "source": [
    "Once you have added the endpoint name to the Lambda function, click on **Save**. Your Lambda function is now up and running. Next we need to create a way for our web app to execute the Lambda function.\n",
    "\n",
    "### Setting up API Gateway\n",
    "\n",
    "Now that our Lambda function is set up, it is time to create a new API using API Gateway that will trigger the Lambda function we have just created.\n",
    "\n",
    "Using AWS Console, navigate to **Amazon API Gateway** and then click on **Get started**.\n",
    "\n",
    "On the next page, make sure that **New API** is selected and give the new api a name, for example, `sentiment_analysis_api`. Then, click on **Create API**.\n",
    "\n",
    "Now we have created an API, however it doesn't currently do anything. What we want it to do is to trigger the Lambda function that we created earlier.\n",
    "\n",
    "Select the **Actions** dropdown menu and click **Create Method**. A new blank method will be created, select its dropdown menu and select **POST**, then click on the check mark beside it.\n",
    "\n",
    "For the integration point, make sure that **Lambda Function** is selected and click on the **Use Lambda Proxy integration**. This option makes sure that the data that is sent to the API is then sent directly to the Lambda function with no processing. It also means that the return value must be a proper response object as it will also not be processed by API Gateway.\n",
    "\n",
    "Type the name of the Lambda function you created earlier into the **Lambda Function** text entry box and then click on **Save**. Click on **OK** in the pop-up box that then appears, giving permission to API Gateway to invoke the Lambda function you created.\n",
    "\n",
    "The last step in creating the API Gateway is to select the **Actions** dropdown and click on **Deploy API**. You will need to create a new Deployment stage and name it anything you like, for example `prod`.\n",
    "\n",
    "You have now successfully set up a public API to access your SageMaker model. Make sure to copy or write down the URL provided to invoke your newly created public API as this will be needed in the next step. This URL can be found at the top of the page, highlighted in blue next to the text **Invoke URL**."
   ]
  },
  {
   "cell_type": "markdown",
   "metadata": {},
   "source": [
    "## Step 4: Deploying our web app\n",
    "\n",
    "Now that we have a publicly available API, we can start using it in a web app. For our purposes, we have provided a simple static html file which can make use of the public api you created earlier.\n",
    "\n",
    "In the `website` folder there should be a file called `index.html`. Download the file to your computer and open that file up in a text editor of your choice. There should be a line which contains **\\*\\*REPLACE WITH PUBLIC API URL\\*\\***. Replace this string with the url that you wrote down in the last step and then save the file.\n",
    "\n",
    "Now, if you open `index.html` on your local computer, your browser will behave as a local web server and you can use the provided site to interact with your SageMaker model.\n",
    "\n",
    "If you'd like to go further, you can host this html file anywhere you'd like, for example using github or hosting a static site on Amazon's S3. Once you have done this you can share the link with anyone you'd like and have them play with it too!\n",
    "\n",
    "> **Important Note** In order for the web app to communicate with the SageMaker endpoint, the endpoint has to actually be deployed and running. This means that you are paying for it. Make sure that the endpoint is running when you want to use the web app but that you shut it down when you don't need it, otherwise you will end up with a surprisingly large AWS bill.\n",
    "\n",
    "**TODO:** Make sure that you include the edited `index.html` file in your project submission."
   ]
  },
  {
   "cell_type": "markdown",
   "metadata": {},
   "source": [
    "Now that your web app is working, trying playing around with it and see how well it works.\n",
    "\n",
    "**Question**: Give an example of a review that you entered into your web app. What was the predicted sentiment of your example review?"
   ]
  },
  {
   "cell_type": "markdown",
   "metadata": {},
   "source": [
    "**Answer:**\n",
    "\n",
    "-  Example 1:\n",
    "Movie name \"The Wandering Earth\": *The movie is fabulous saw it last week hands down the best sci fi film I've seen much better than Hollywood's works*    **Predicted as POSITIVE**\n",
    "\n",
    "\n",
    "-  Example 2:\n",
    "Movie name \"what MEN want\": *Taraji looked fantastic and did a great job. Often times the script was predictable. I didn't think it really captured what men really think. Overall it was just okay. I expected more*   **Predicted as POSITIVE**\n",
    "\n",
    "\n",
    "- Example 3: \n",
    "Movie name \"what MEN want\": *This movie is down right awful! My friend and I left in the middle of it. It is very inappropriate and you can’t understand the story. Way to confusing and an inappropriate every few minutes* Don’t waste you money on this movie! **Predicted as NEGATIVE**"
   ]
  },
  {
   "cell_type": "markdown",
   "metadata": {},
   "source": [
    "### Delete the endpoint\n",
    "\n",
    "Remember to always shut down your endpoint if you are no longer using it. You are charged for the length of time that the endpoint is running so if you forget and leave it on you could end up with an unexpectedly large bill."
   ]
  },
  {
   "cell_type": "code",
   "execution_count": 122,
   "metadata": {
    "scrolled": true
   },
   "outputs": [
    {
     "name": "stderr",
     "output_type": "stream",
     "text": [
      "INFO:sagemaker:Deleting endpoint with name: sagemaker-pytorch-2019-02-20-07-57-13-645\n"
     ]
    },
    {
     "ename": "ClientError",
     "evalue": "An error occurred (ValidationException) when calling the DeleteEndpoint operation: Could not find endpoint \"arn:aws:sagemaker:us-east-2:220692837633:endpoint/sagemaker-pytorch-2019-02-20-07-57-13-645\".",
     "output_type": "error",
     "traceback": [
      "\u001b[0;31m---------------------------------------------------------------------------\u001b[0m",
      "\u001b[0;31mClientError\u001b[0m                               Traceback (most recent call last)",
      "\u001b[0;32m<ipython-input-122-9dbbcf45efe1>\u001b[0m in \u001b[0;36m<module>\u001b[0;34m()\u001b[0m\n\u001b[0;32m----> 1\u001b[0;31m \u001b[0mpredictor\u001b[0m\u001b[0;34m.\u001b[0m\u001b[0mdelete_endpoint\u001b[0m\u001b[0;34m(\u001b[0m\u001b[0;34m)\u001b[0m\u001b[0;34m\u001b[0m\u001b[0m\n\u001b[0m",
      "\u001b[0;32m~/anaconda3/envs/pytorch_p36/lib/python3.6/site-packages/sagemaker/predictor.py\u001b[0m in \u001b[0;36mdelete_endpoint\u001b[0;34m(self)\u001b[0m\n\u001b[1;32m    109\u001b[0m         \"\"\"Delete the Amazon SageMaker endpoint backing this predictor.\n\u001b[1;32m    110\u001b[0m         \"\"\"\n\u001b[0;32m--> 111\u001b[0;31m         \u001b[0mself\u001b[0m\u001b[0;34m.\u001b[0m\u001b[0msagemaker_session\u001b[0m\u001b[0;34m.\u001b[0m\u001b[0mdelete_endpoint\u001b[0m\u001b[0;34m(\u001b[0m\u001b[0mself\u001b[0m\u001b[0;34m.\u001b[0m\u001b[0mendpoint\u001b[0m\u001b[0;34m)\u001b[0m\u001b[0;34m\u001b[0m\u001b[0m\n\u001b[0m\u001b[1;32m    112\u001b[0m \u001b[0;34m\u001b[0m\u001b[0m\n\u001b[1;32m    113\u001b[0m \u001b[0;34m\u001b[0m\u001b[0m\n",
      "\u001b[0;32m~/anaconda3/envs/pytorch_p36/lib/python3.6/site-packages/sagemaker/session.py\u001b[0m in \u001b[0;36mdelete_endpoint\u001b[0;34m(self, endpoint_name)\u001b[0m\n\u001b[1;32m    778\u001b[0m         \"\"\"\n\u001b[1;32m    779\u001b[0m         \u001b[0mLOGGER\u001b[0m\u001b[0;34m.\u001b[0m\u001b[0minfo\u001b[0m\u001b[0;34m(\u001b[0m\u001b[0;34m'Deleting endpoint with name: {}'\u001b[0m\u001b[0;34m.\u001b[0m\u001b[0mformat\u001b[0m\u001b[0;34m(\u001b[0m\u001b[0mendpoint_name\u001b[0m\u001b[0;34m)\u001b[0m\u001b[0;34m)\u001b[0m\u001b[0;34m\u001b[0m\u001b[0m\n\u001b[0;32m--> 780\u001b[0;31m         \u001b[0mself\u001b[0m\u001b[0;34m.\u001b[0m\u001b[0msagemaker_client\u001b[0m\u001b[0;34m.\u001b[0m\u001b[0mdelete_endpoint\u001b[0m\u001b[0;34m(\u001b[0m\u001b[0mEndpointName\u001b[0m\u001b[0;34m=\u001b[0m\u001b[0mendpoint_name\u001b[0m\u001b[0;34m)\u001b[0m\u001b[0;34m\u001b[0m\u001b[0m\n\u001b[0m\u001b[1;32m    781\u001b[0m \u001b[0;34m\u001b[0m\u001b[0m\n\u001b[1;32m    782\u001b[0m     \u001b[0;32mdef\u001b[0m \u001b[0mwait_for_job\u001b[0m\u001b[0;34m(\u001b[0m\u001b[0mself\u001b[0m\u001b[0;34m,\u001b[0m \u001b[0mjob\u001b[0m\u001b[0;34m,\u001b[0m \u001b[0mpoll\u001b[0m\u001b[0;34m=\u001b[0m\u001b[0;36m5\u001b[0m\u001b[0;34m)\u001b[0m\u001b[0;34m:\u001b[0m\u001b[0;34m\u001b[0m\u001b[0m\n",
      "\u001b[0;32m~/anaconda3/envs/pytorch_p36/lib/python3.6/site-packages/botocore/client.py\u001b[0m in \u001b[0;36m_api_call\u001b[0;34m(self, *args, **kwargs)\u001b[0m\n\u001b[1;32m    318\u001b[0m                     \"%s() only accepts keyword arguments.\" % py_operation_name)\n\u001b[1;32m    319\u001b[0m             \u001b[0;31m# The \"self\" in this scope is referring to the BaseClient.\u001b[0m\u001b[0;34m\u001b[0m\u001b[0;34m\u001b[0m\u001b[0m\n\u001b[0;32m--> 320\u001b[0;31m             \u001b[0;32mreturn\u001b[0m \u001b[0mself\u001b[0m\u001b[0;34m.\u001b[0m\u001b[0m_make_api_call\u001b[0m\u001b[0;34m(\u001b[0m\u001b[0moperation_name\u001b[0m\u001b[0;34m,\u001b[0m \u001b[0mkwargs\u001b[0m\u001b[0;34m)\u001b[0m\u001b[0;34m\u001b[0m\u001b[0m\n\u001b[0m\u001b[1;32m    321\u001b[0m \u001b[0;34m\u001b[0m\u001b[0m\n\u001b[1;32m    322\u001b[0m         \u001b[0m_api_call\u001b[0m\u001b[0;34m.\u001b[0m\u001b[0m__name__\u001b[0m \u001b[0;34m=\u001b[0m \u001b[0mstr\u001b[0m\u001b[0;34m(\u001b[0m\u001b[0mpy_operation_name\u001b[0m\u001b[0;34m)\u001b[0m\u001b[0;34m\u001b[0m\u001b[0m\n",
      "\u001b[0;32m~/anaconda3/envs/pytorch_p36/lib/python3.6/site-packages/botocore/client.py\u001b[0m in \u001b[0;36m_make_api_call\u001b[0;34m(self, operation_name, api_params)\u001b[0m\n\u001b[1;32m    622\u001b[0m             \u001b[0merror_code\u001b[0m \u001b[0;34m=\u001b[0m \u001b[0mparsed_response\u001b[0m\u001b[0;34m.\u001b[0m\u001b[0mget\u001b[0m\u001b[0;34m(\u001b[0m\u001b[0;34m\"Error\"\u001b[0m\u001b[0;34m,\u001b[0m \u001b[0;34m{\u001b[0m\u001b[0;34m}\u001b[0m\u001b[0;34m)\u001b[0m\u001b[0;34m.\u001b[0m\u001b[0mget\u001b[0m\u001b[0;34m(\u001b[0m\u001b[0;34m\"Code\"\u001b[0m\u001b[0;34m)\u001b[0m\u001b[0;34m\u001b[0m\u001b[0m\n\u001b[1;32m    623\u001b[0m             \u001b[0merror_class\u001b[0m \u001b[0;34m=\u001b[0m \u001b[0mself\u001b[0m\u001b[0;34m.\u001b[0m\u001b[0mexceptions\u001b[0m\u001b[0;34m.\u001b[0m\u001b[0mfrom_code\u001b[0m\u001b[0;34m(\u001b[0m\u001b[0merror_code\u001b[0m\u001b[0;34m)\u001b[0m\u001b[0;34m\u001b[0m\u001b[0m\n\u001b[0;32m--> 624\u001b[0;31m             \u001b[0;32mraise\u001b[0m \u001b[0merror_class\u001b[0m\u001b[0;34m(\u001b[0m\u001b[0mparsed_response\u001b[0m\u001b[0;34m,\u001b[0m \u001b[0moperation_name\u001b[0m\u001b[0;34m)\u001b[0m\u001b[0;34m\u001b[0m\u001b[0m\n\u001b[0m\u001b[1;32m    625\u001b[0m         \u001b[0;32melse\u001b[0m\u001b[0;34m:\u001b[0m\u001b[0;34m\u001b[0m\u001b[0m\n\u001b[1;32m    626\u001b[0m             \u001b[0;32mreturn\u001b[0m \u001b[0mparsed_response\u001b[0m\u001b[0;34m\u001b[0m\u001b[0m\n",
      "\u001b[0;31mClientError\u001b[0m: An error occurred (ValidationException) when calling the DeleteEndpoint operation: Could not find endpoint \"arn:aws:sagemaker:us-east-2:220692837633:endpoint/sagemaker-pytorch-2019-02-20-07-57-13-645\"."
     ]
    }
   ],
   "source": [
    "predictor.delete_endpoint()"
   ]
  },
  {
   "cell_type": "code",
   "execution_count": null,
   "metadata": {
    "collapsed": true,
    "scrolled": true
   },
   "outputs": [],
   "source": []
  }
 ],
 "metadata": {
  "kernelspec": {
   "display_name": "Python 3",
   "language": "python",
   "name": "python3"
  },
  "language_info": {
   "codemirror_mode": {
    "name": "ipython",
    "version": 3
   },
   "file_extension": ".py",
   "mimetype": "text/x-python",
   "name": "python",
   "nbconvert_exporter": "python",
   "pygments_lexer": "ipython3",
   "version": "3.6.4"
  }
 },
 "nbformat": 4,
 "nbformat_minor": 2
}
